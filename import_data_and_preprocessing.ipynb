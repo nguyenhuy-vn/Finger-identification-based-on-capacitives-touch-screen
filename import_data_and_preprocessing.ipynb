{
  "nbformat": 4,
  "nbformat_minor": 0,
  "metadata": {
    "colab": {
      "provenance": [],
      "gpuType": "T4",
      "authorship_tag": "ABX9TyOjfCVWHwiT+ptaZpzcKxHl",
      "include_colab_link": true
    },
    "kernelspec": {
      "name": "python3",
      "display_name": "Python 3"
    },
    "language_info": {
      "name": "python"
    },
    "accelerator": "GPU"
  },
  "cells": [
    {
      "cell_type": "markdown",
      "metadata": {
        "id": "view-in-github",
        "colab_type": "text"
      },
      "source": [
        "<a href=\"https://colab.research.google.com/github/nguyenhuy-vn/Finger-identification-based-on-capacitives-touch-screen/blob/main/import_data_and_preprocessing.ipynb\" target=\"_parent\"><img src=\"https://colab.research.google.com/assets/colab-badge.svg\" alt=\"Open In Colab\"/></a>"
      ]
    },
    {
      "cell_type": "code",
      "execution_count": 1,
      "metadata": {
        "colab": {
          "base_uri": "https://localhost:8080/"
        },
        "id": "ai3YJwUXCcQV",
        "outputId": "0a01d867-7a70-4b92-bae4-4a70398966cb"
      },
      "outputs": [
        {
          "output_type": "stream",
          "name": "stdout",
          "text": [
            "Mounted at /content/drive\n"
          ]
        }
      ],
      "source": [
        "from google.colab import drive\n",
        "drive.mount('/content/drive')"
      ]
    },
    {
      "cell_type": "markdown",
      "source": [
        "Import necessary libraries\n"
      ],
      "metadata": {
        "id": "RvpiMVPAC5bX"
      }
    },
    {
      "cell_type": "code",
      "source": [
        "import pandas as pd\n",
        "import numpy as np\n",
        "import matplotlib.pyplot as plt\n",
        "import cv2\n",
        "import os\n",
        "import time"
      ],
      "metadata": {
        "id": "xjg9iTk_CzvX"
      },
      "execution_count": 2,
      "outputs": []
    },
    {
      "cell_type": "code",
      "source": [
        "import matplotlib as mpl\n",
        "import matplotlib.pyplot as plt\n",
        "from matplotlib import animation\n",
        "from matplotlib.patches import Rectangle"
      ],
      "metadata": {
        "id": "RBS6nE7isQyW"
      },
      "execution_count": 10,
      "outputs": []
    },
    {
      "cell_type": "markdown",
      "source": [
        "Importing Data"
      ],
      "metadata": {
        "id": "uRd0chUQGNeH"
      }
    },
    {
      "cell_type": "code",
      "source": [
        "df = ''\n",
        "PATH = '/content/drive/MyDrive/NN for classification right thumb and left thumb/data/'\n",
        "for filename in os.listdir(PATH):\n",
        "\n",
        "  # Iterate through each file in the directory\n",
        "  if filename.endswith(\".txt\"):\n",
        "    # Read the data from the txt file into a DataFrame\n",
        "    df_temp = pd.read_csv(PATH + filename, header = None, names = [\"Participant\", \"Handedness\", \"Finger\", \"Task\", \"Ignore\", \"MatrixStr\"], delimiter = \";\")\n",
        "    # Initialize initially\n",
        "    if (type(df) is str):\n",
        "      df = df_temp\n",
        "    else:\n",
        "      # Append subsequent data\n",
        "      df = df._append(df_temp)\n",
        "  else:\n",
        "    continue\n",
        "\n",
        "# Drop the \"Ignore\" column\n",
        "df = df.drop(\"Ignore\", axis = 1)\n",
        "\n",
        "print(\"Number of samples:\", len(df))"
      ],
      "metadata": {
        "colab": {
          "base_uri": "https://localhost:8080/"
        },
        "id": "bLDdwS8NDFmM",
        "outputId": "d75f6e6e-abf5-4632-86af-6fb9a2913d90"
      },
      "execution_count": 3,
      "outputs": [
        {
          "output_type": "stream",
          "name": "stdout",
          "text": [
            "Number of samples: 921538\n"
          ]
        }
      ]
    },
    {
      "cell_type": "markdown",
      "source": [
        "Creating Data Structures"
      ],
      "metadata": {
        "id": "shkfrfgaGFew"
      }
    },
    {
      "cell_type": "code",
      "source": [
        "%%time\n",
        "temp_var = None\n",
        "def transform_to_matrix(s):\n",
        "  # Remove newline characters and split by commas\n",
        "  matrix = s.replace(\"\\n\", \"\")\n",
        "  matrix = matrix.split(\",\")\n",
        "\n",
        "  # Check if matrix has correct length\n",
        "  if(len(matrix) != 408):\n",
        "    return -1,-1\n",
        "\n",
        "  matrix = matrix[:407]\n",
        "\n",
        "  # Determine timestamp\n",
        "  timestamp = str(matrix[0]) + str(matrix[1][:3])\n",
        "  timestamp = int(timestamp)\n",
        "\n",
        "  # Determine matrix and reshape to 27 rows, 15 columns\n",
        "  matrix = np.array(matrix[2:]).reshape(27, 15) # resize về 1 matrix 27 hàng, 15 cột\n",
        "\n",
        "  # Replace empty and '-' elements with '0'\n",
        "  matrix[matrix == ''] = '0'\n",
        "  matrix[matrix == '-'] = '0'\n",
        "\n",
        "  try:\n",
        "    matrix = matrix.astype(int)\n",
        "  except ValueError:\n",
        "    return -1, -1\n",
        "\n",
        "  return matrix, timestamp\n",
        "\n",
        "df['Matrix'] = df.MatrixStr.apply(lambda x: transform_to_matrix(x)[0])\n",
        "df['Timestamp'] = df.MatrixStr.apply(lambda x : transform_to_matrix(x)[1])\n",
        "\n",
        "# Drop the MatrixStr column\n",
        "df = df.drop(['MatrixStr'], axis=1)\n",
        "\n",
        "# Filter out rows with incorrect data marked by timestamp = -1\n",
        "df = df[~(df.Timestamp == -1)]"
      ],
      "metadata": {
        "colab": {
          "base_uri": "https://localhost:8080/"
        },
        "id": "y9gynNI1FzFK",
        "outputId": "84801451-cbaf-48b7-c084-40496b4a5ef7"
      },
      "execution_count": 4,
      "outputs": [
        {
          "output_type": "stream",
          "name": "stdout",
          "text": [
            "CPU times: user 7min, sys: 12 s, total: 7min 12s\n",
            "Wall time: 7min 28s\n"
          ]
        }
      ]
    },
    {
      "cell_type": "code",
      "source": [
        "df = df[df.Task!= \"Pause\"]"
      ],
      "metadata": {
        "id": "SLoGicesITMT"
      },
      "execution_count": 5,
      "outputs": []
    },
    {
      "cell_type": "code",
      "source": [
        "print(\"Number of samples: \", len(df))"
      ],
      "metadata": {
        "id": "ynDgh9_UKTjo",
        "outputId": "b1f17875-0f63-40ef-a56b-f92aad3b970c",
        "colab": {
          "base_uri": "https://localhost:8080/"
        }
      },
      "execution_count": 6,
      "outputs": [
        {
          "output_type": "stream",
          "name": "stdout",
          "text": [
            "Number of samples:  921265\n"
          ]
        }
      ]
    },
    {
      "cell_type": "markdown",
      "source": [
        "CUSTOM BLOB DETECTION"
      ],
      "metadata": {
        "id": "LSavWs8nI0IG"
      }
    },
    {
      "cell_type": "code",
      "source": [
        "THRESHOLD = 30\n",
        "\n",
        "# Recursive blob detection\n",
        "def blob_detection(matrix, x, y, found):\n",
        "    \"\"\"\n",
        "    Recursive detect blobs in a matrix starting from coordinate (x, y)\n",
        "\n",
        "    Parameters:\n",
        "    -x (int): starting x-coordinate for blob detection\n",
        "    -y (int): starting y-coordinate for blob detection\n",
        "    -found (list): list to store detected blob coordinates\n",
        "    \"\"\"\n",
        "    if x > 0 and x < len(matrix[0]) and y > 0 and y < len(matrix) and matrix[y][x] > THRESHOLD and ((x,y) not in found):\n",
        "        found.append((x, y))\n",
        "        blob_detection(matrix, x + 1, y, found) # right\n",
        "        blob_detection(matrix, x - 1, y, found) # left\n",
        "        blob_detection(matrix, x, y + 1, found) # top\n",
        "        blob_detection(matrix, x, y - 1, found) # down\n",
        "\n",
        "# Returns Blob Coordinates, connected tiles > 30\n",
        "def get_blobs(matrix):\n",
        "    blobs = [] #list of tuples containing blob coordinates (x_min, x_max, y_min, y_max)\n",
        "    founds = []\n",
        "    for y in range(0, len(matrix)):\n",
        "        for x in range(0, len(matrix[0])):\n",
        "\n",
        "            # blob detection\n",
        "            found = []\n",
        "            blob_detection(matrix, x, y, found)\n",
        "\n",
        "            if (len(found) > 0):\n",
        "                # Sort found coordinates by x and y\n",
        "                sorted_by_x = sorted(found, key=lambda x: x[0])\n",
        "                sorted_by_y = sorted(found, key=lambda x: x[1])\n",
        "                x_min = sorted_by_x[0][0]\n",
        "                y_min = sorted_by_y[0][1]\n",
        "                x_max = sorted_by_x[len(sorted_by_x) - 1][0]\n",
        "                y_max = sorted_by_y[len(sorted_by_y) - 1][1]\n",
        "\n",
        "                # Check if blob coordinates are not already in blobs and blob size > 1\n",
        "                if (x_min - 1, x_max + 1, y_min - 1, y_max + 1) not in blobs and ((x_max - x_min) * (y_max - y_min)) > 1:\n",
        "                    blobs.append((x_min - 1, x_max + 1, y_min - 1, y_max + 1))\n",
        "                    founds.append(len(found))\n",
        "\n",
        "    return blobs\n",
        "\n",
        "# Returns the cutted blob\n",
        "def get_blob_contents(matrix, blob_coordinates):\n",
        "    matrices = []\n",
        "    for c in blob_coordinates:\n",
        "        matrices.append(matrix[c[2]:c[3], c[0]:c[1]])\n",
        "    return matrices\n",
        "\n",
        "# Returns the coordinates of the rectangle containing the touch blob\n",
        "def get_plt_rect(blob_coordinates):\n",
        "    return Rectangle((blob_coordinates[2] - 0.5, blob_coordinates[0]  - 0.5), (blob_coordinates[1] - blob_coordinates[0]) + 1, (blob_coordinates[3] - blob_coordinates[2]) + 1, fill=None, alpha=1, lw=2, color='lime')"
      ],
      "metadata": {
        "id": "BRht7v5DIp49"
      },
      "execution_count": 7,
      "outputs": []
    },
    {
      "cell_type": "code",
      "source": [
        "%%time\n",
        "df['BlobCoords'] = df.Matrix.apply(lambda x : get_blobs(x))\n",
        "df['BlobCount'] = df.BlobCoords.apply(lambda x : len(x))\n",
        "df['Blobs'] = [get_blob_contents(df.Matrix.iloc[i], df.BlobCoords.iloc[i]) for i in range(len(df))]\n",
        "\n",
        "# remove all empty images and images with more than one blob\n",
        "df = df[df.BlobCount == 1]"
      ],
      "metadata": {
        "colab": {
          "base_uri": "https://localhost:8080/"
        },
        "id": "8Dk3-t9IsCbp",
        "outputId": "55dba2ad-2207-409f-eab8-12efb75d3d54"
      },
      "execution_count": 11,
      "outputs": [
        {
          "output_type": "stream",
          "name": "stdout",
          "text": [
            "CPU times: user 7min 51s, sys: 1.04 s, total: 7min 52s\n",
            "Wall time: 8min\n"
          ]
        }
      ]
    },
    {
      "cell_type": "markdown",
      "source": [
        "Blob Image Generation"
      ],
      "metadata": {
        "id": "2PE9GgYCq_8m"
      }
    },
    {
      "cell_type": "code",
      "source": [
        "def generate_blob_img(blobs):\n",
        "    # taking the first blob as only one is expected\n",
        "    blob = blobs[0]\n",
        "    return np.pad(blob, ((0, 27 - blob.shape[0]),(0, 15 - blob.shape[1])), mode='constant', constant_values=0)\n",
        "\n",
        "df['BlobImage'] = df.Blobs.apply(lambda x : generate_blob_img(x))\n",
        "\n",
        "# Creating a flattened version of the blob image for basic ML approaches\n",
        "df['BlobImgFlattened'] = df.BlobImage.apply(lambda x : x.flatten())"
      ],
      "metadata": {
        "id": "_8Vnn_ZKq77r"
      },
      "execution_count": 12,
      "outputs": []
    },
    {
      "cell_type": "code",
      "source": [
        "df.head(5)"
      ],
      "metadata": {
        "colab": {
          "base_uri": "https://localhost:8080/",
          "height": 851
        },
        "id": "pvtwySGn6hf5",
        "outputId": "d14dcf96-3de3-4886-a2f9-26e36978077b"
      },
      "execution_count": 24,
      "outputs": [
        {
          "output_type": "execute_result",
          "data": {
            "text/plain": [
              "    Participant Handedness  Finger Task  \\\n",
              "16            3      right  little  TAP   \n",
              "17            3      right  little  TAP   \n",
              "18            3      right  little  TAP   \n",
              "19            3      right  little  TAP   \n",
              "20            3      right  little  TAP   \n",
              "\n",
              "                                               Matrix      Timestamp  \\\n",
              "16  [[0, 0, 1, 0, 0, 1, 0, 0, 0, 0, 0, 2, 0, 1, 1]...  1508943194856   \n",
              "17  [[0, 0, 1, 0, 0, 1, 0, 0, 0, 0, 0, 2, 0, 1, 1]...  1508943194856   \n",
              "18  [[0, 0, 1, 0, 0, 1, 0, 0, 0, 0, 0, 2, 0, 1, 1]...  1508943194926   \n",
              "19  [[0, 0, 1, 0, 0, 1, 0, 0, 0, 0, 0, 2, 0, 1, 1]...  1508943194997   \n",
              "20  [[0, 0, 1, 0, 0, 1, 0, 0, 0, 0, 0, 2, 0, 1, 1]...  1508943194997   \n",
              "\n",
              "            BlobCoords  BlobCount  \\\n",
              "16  [(10, 14, 13, 17)]          1   \n",
              "17  [(10, 14, 13, 17)]          1   \n",
              "18  [(10, 14, 14, 18)]          1   \n",
              "19  [(10, 14, 13, 18)]          1   \n",
              "20  [(10, 14, 13, 18)]          1   \n",
              "\n",
              "                                                Blobs  \\\n",
              "16  [[[0, 4, 9, 1], [4, 31, 48, 10], [9, 150, 215,...   \n",
              "17  [[[0, 4, 9, 1], [4, 31, 48, 10], [9, 150, 215,...   \n",
              "18  [[[1, 17, 27, 5], [6, 105, 140, 27], [18, 161,...   \n",
              "19  [[[1, 7, 9, 1], [2, 31, 52, 10], [10, 168, 231...   \n",
              "20  [[[1, 7, 9, 1], [2, 31, 52, 10], [10, 168, 231...   \n",
              "\n",
              "                                            BlobImage  \\\n",
              "16  [[0, 4, 9, 1, 0, 0, 0, 0, 0, 0, 0, 0, 0, 0, 0]...   \n",
              "17  [[0, 4, 9, 1, 0, 0, 0, 0, 0, 0, 0, 0, 0, 0, 0]...   \n",
              "18  [[1, 17, 27, 5, 0, 0, 0, 0, 0, 0, 0, 0, 0, 0, ...   \n",
              "19  [[1, 7, 9, 1, 0, 0, 0, 0, 0, 0, 0, 0, 0, 0, 0]...   \n",
              "20  [[1, 7, 9, 1, 0, 0, 0, 0, 0, 0, 0, 0, 0, 0, 0]...   \n",
              "\n",
              "                                     BlobImgFlattened  \n",
              "16  [0, 4, 9, 1, 0, 0, 0, 0, 0, 0, 0, 0, 0, 0, 0, ...  \n",
              "17  [0, 4, 9, 1, 0, 0, 0, 0, 0, 0, 0, 0, 0, 0, 0, ...  \n",
              "18  [1, 17, 27, 5, 0, 0, 0, 0, 0, 0, 0, 0, 0, 0, 0...  \n",
              "19  [1, 7, 9, 1, 0, 0, 0, 0, 0, 0, 0, 0, 0, 0, 0, ...  \n",
              "20  [1, 7, 9, 1, 0, 0, 0, 0, 0, 0, 0, 0, 0, 0, 0, ...  "
            ],
            "text/html": [
              "\n",
              "  <div id=\"df-ba631e1a-60e2-48fd-8c91-d25cf083c83f\" class=\"colab-df-container\">\n",
              "    <div>\n",
              "<style scoped>\n",
              "    .dataframe tbody tr th:only-of-type {\n",
              "        vertical-align: middle;\n",
              "    }\n",
              "\n",
              "    .dataframe tbody tr th {\n",
              "        vertical-align: top;\n",
              "    }\n",
              "\n",
              "    .dataframe thead th {\n",
              "        text-align: right;\n",
              "    }\n",
              "</style>\n",
              "<table border=\"1\" class=\"dataframe\">\n",
              "  <thead>\n",
              "    <tr style=\"text-align: right;\">\n",
              "      <th></th>\n",
              "      <th>Participant</th>\n",
              "      <th>Handedness</th>\n",
              "      <th>Finger</th>\n",
              "      <th>Task</th>\n",
              "      <th>Matrix</th>\n",
              "      <th>Timestamp</th>\n",
              "      <th>BlobCoords</th>\n",
              "      <th>BlobCount</th>\n",
              "      <th>Blobs</th>\n",
              "      <th>BlobImage</th>\n",
              "      <th>BlobImgFlattened</th>\n",
              "    </tr>\n",
              "  </thead>\n",
              "  <tbody>\n",
              "    <tr>\n",
              "      <th>16</th>\n",
              "      <td>3</td>\n",
              "      <td>right</td>\n",
              "      <td>little</td>\n",
              "      <td>TAP</td>\n",
              "      <td>[[0, 0, 1, 0, 0, 1, 0, 0, 0, 0, 0, 2, 0, 1, 1]...</td>\n",
              "      <td>1508943194856</td>\n",
              "      <td>[(10, 14, 13, 17)]</td>\n",
              "      <td>1</td>\n",
              "      <td>[[[0, 4, 9, 1], [4, 31, 48, 10], [9, 150, 215,...</td>\n",
              "      <td>[[0, 4, 9, 1, 0, 0, 0, 0, 0, 0, 0, 0, 0, 0, 0]...</td>\n",
              "      <td>[0, 4, 9, 1, 0, 0, 0, 0, 0, 0, 0, 0, 0, 0, 0, ...</td>\n",
              "    </tr>\n",
              "    <tr>\n",
              "      <th>17</th>\n",
              "      <td>3</td>\n",
              "      <td>right</td>\n",
              "      <td>little</td>\n",
              "      <td>TAP</td>\n",
              "      <td>[[0, 0, 1, 0, 0, 1, 0, 0, 0, 0, 0, 2, 0, 1, 1]...</td>\n",
              "      <td>1508943194856</td>\n",
              "      <td>[(10, 14, 13, 17)]</td>\n",
              "      <td>1</td>\n",
              "      <td>[[[0, 4, 9, 1], [4, 31, 48, 10], [9, 150, 215,...</td>\n",
              "      <td>[[0, 4, 9, 1, 0, 0, 0, 0, 0, 0, 0, 0, 0, 0, 0]...</td>\n",
              "      <td>[0, 4, 9, 1, 0, 0, 0, 0, 0, 0, 0, 0, 0, 0, 0, ...</td>\n",
              "    </tr>\n",
              "    <tr>\n",
              "      <th>18</th>\n",
              "      <td>3</td>\n",
              "      <td>right</td>\n",
              "      <td>little</td>\n",
              "      <td>TAP</td>\n",
              "      <td>[[0, 0, 1, 0, 0, 1, 0, 0, 0, 0, 0, 2, 0, 1, 1]...</td>\n",
              "      <td>1508943194926</td>\n",
              "      <td>[(10, 14, 14, 18)]</td>\n",
              "      <td>1</td>\n",
              "      <td>[[[1, 17, 27, 5], [6, 105, 140, 27], [18, 161,...</td>\n",
              "      <td>[[1, 17, 27, 5, 0, 0, 0, 0, 0, 0, 0, 0, 0, 0, ...</td>\n",
              "      <td>[1, 17, 27, 5, 0, 0, 0, 0, 0, 0, 0, 0, 0, 0, 0...</td>\n",
              "    </tr>\n",
              "    <tr>\n",
              "      <th>19</th>\n",
              "      <td>3</td>\n",
              "      <td>right</td>\n",
              "      <td>little</td>\n",
              "      <td>TAP</td>\n",
              "      <td>[[0, 0, 1, 0, 0, 1, 0, 0, 0, 0, 0, 2, 0, 1, 1]...</td>\n",
              "      <td>1508943194997</td>\n",
              "      <td>[(10, 14, 13, 18)]</td>\n",
              "      <td>1</td>\n",
              "      <td>[[[1, 7, 9, 1], [2, 31, 52, 10], [10, 168, 231...</td>\n",
              "      <td>[[1, 7, 9, 1, 0, 0, 0, 0, 0, 0, 0, 0, 0, 0, 0]...</td>\n",
              "      <td>[1, 7, 9, 1, 0, 0, 0, 0, 0, 0, 0, 0, 0, 0, 0, ...</td>\n",
              "    </tr>\n",
              "    <tr>\n",
              "      <th>20</th>\n",
              "      <td>3</td>\n",
              "      <td>right</td>\n",
              "      <td>little</td>\n",
              "      <td>TAP</td>\n",
              "      <td>[[0, 0, 1, 0, 0, 1, 0, 0, 0, 0, 0, 2, 0, 1, 1]...</td>\n",
              "      <td>1508943194997</td>\n",
              "      <td>[(10, 14, 13, 18)]</td>\n",
              "      <td>1</td>\n",
              "      <td>[[[1, 7, 9, 1], [2, 31, 52, 10], [10, 168, 231...</td>\n",
              "      <td>[[1, 7, 9, 1, 0, 0, 0, 0, 0, 0, 0, 0, 0, 0, 0]...</td>\n",
              "      <td>[1, 7, 9, 1, 0, 0, 0, 0, 0, 0, 0, 0, 0, 0, 0, ...</td>\n",
              "    </tr>\n",
              "  </tbody>\n",
              "</table>\n",
              "</div>\n",
              "    <div class=\"colab-df-buttons\">\n",
              "\n",
              "  <div class=\"colab-df-container\">\n",
              "    <button class=\"colab-df-convert\" onclick=\"convertToInteractive('df-ba631e1a-60e2-48fd-8c91-d25cf083c83f')\"\n",
              "            title=\"Convert this dataframe to an interactive table.\"\n",
              "            style=\"display:none;\">\n",
              "\n",
              "  <svg xmlns=\"http://www.w3.org/2000/svg\" height=\"24px\" viewBox=\"0 -960 960 960\">\n",
              "    <path d=\"M120-120v-720h720v720H120Zm60-500h600v-160H180v160Zm220 220h160v-160H400v160Zm0 220h160v-160H400v160ZM180-400h160v-160H180v160Zm440 0h160v-160H620v160ZM180-180h160v-160H180v160Zm440 0h160v-160H620v160Z\"/>\n",
              "  </svg>\n",
              "    </button>\n",
              "\n",
              "  <style>\n",
              "    .colab-df-container {\n",
              "      display:flex;\n",
              "      gap: 12px;\n",
              "    }\n",
              "\n",
              "    .colab-df-convert {\n",
              "      background-color: #E8F0FE;\n",
              "      border: none;\n",
              "      border-radius: 50%;\n",
              "      cursor: pointer;\n",
              "      display: none;\n",
              "      fill: #1967D2;\n",
              "      height: 32px;\n",
              "      padding: 0 0 0 0;\n",
              "      width: 32px;\n",
              "    }\n",
              "\n",
              "    .colab-df-convert:hover {\n",
              "      background-color: #E2EBFA;\n",
              "      box-shadow: 0px 1px 2px rgba(60, 64, 67, 0.3), 0px 1px 3px 1px rgba(60, 64, 67, 0.15);\n",
              "      fill: #174EA6;\n",
              "    }\n",
              "\n",
              "    .colab-df-buttons div {\n",
              "      margin-bottom: 4px;\n",
              "    }\n",
              "\n",
              "    [theme=dark] .colab-df-convert {\n",
              "      background-color: #3B4455;\n",
              "      fill: #D2E3FC;\n",
              "    }\n",
              "\n",
              "    [theme=dark] .colab-df-convert:hover {\n",
              "      background-color: #434B5C;\n",
              "      box-shadow: 0px 1px 3px 1px rgba(0, 0, 0, 0.15);\n",
              "      filter: drop-shadow(0px 1px 2px rgba(0, 0, 0, 0.3));\n",
              "      fill: #FFFFFF;\n",
              "    }\n",
              "  </style>\n",
              "\n",
              "    <script>\n",
              "      const buttonEl =\n",
              "        document.querySelector('#df-ba631e1a-60e2-48fd-8c91-d25cf083c83f button.colab-df-convert');\n",
              "      buttonEl.style.display =\n",
              "        google.colab.kernel.accessAllowed ? 'block' : 'none';\n",
              "\n",
              "      async function convertToInteractive(key) {\n",
              "        const element = document.querySelector('#df-ba631e1a-60e2-48fd-8c91-d25cf083c83f');\n",
              "        const dataTable =\n",
              "          await google.colab.kernel.invokeFunction('convertToInteractive',\n",
              "                                                    [key], {});\n",
              "        if (!dataTable) return;\n",
              "\n",
              "        const docLinkHtml = 'Like what you see? Visit the ' +\n",
              "          '<a target=\"_blank\" href=https://colab.research.google.com/notebooks/data_table.ipynb>data table notebook</a>'\n",
              "          + ' to learn more about interactive tables.';\n",
              "        element.innerHTML = '';\n",
              "        dataTable['output_type'] = 'display_data';\n",
              "        await google.colab.output.renderOutput(dataTable, element);\n",
              "        const docLink = document.createElement('div');\n",
              "        docLink.innerHTML = docLinkHtml;\n",
              "        element.appendChild(docLink);\n",
              "      }\n",
              "    </script>\n",
              "  </div>\n",
              "\n",
              "\n",
              "<div id=\"df-07aa0933-3fd1-417f-aee0-3355b9532120\">\n",
              "  <button class=\"colab-df-quickchart\" onclick=\"quickchart('df-07aa0933-3fd1-417f-aee0-3355b9532120')\"\n",
              "            title=\"Suggest charts\"\n",
              "            style=\"display:none;\">\n",
              "\n",
              "<svg xmlns=\"http://www.w3.org/2000/svg\" height=\"24px\"viewBox=\"0 0 24 24\"\n",
              "     width=\"24px\">\n",
              "    <g>\n",
              "        <path d=\"M19 3H5c-1.1 0-2 .9-2 2v14c0 1.1.9 2 2 2h14c1.1 0 2-.9 2-2V5c0-1.1-.9-2-2-2zM9 17H7v-7h2v7zm4 0h-2V7h2v10zm4 0h-2v-4h2v4z\"/>\n",
              "    </g>\n",
              "</svg>\n",
              "  </button>\n",
              "\n",
              "<style>\n",
              "  .colab-df-quickchart {\n",
              "      --bg-color: #E8F0FE;\n",
              "      --fill-color: #1967D2;\n",
              "      --hover-bg-color: #E2EBFA;\n",
              "      --hover-fill-color: #174EA6;\n",
              "      --disabled-fill-color: #AAA;\n",
              "      --disabled-bg-color: #DDD;\n",
              "  }\n",
              "\n",
              "  [theme=dark] .colab-df-quickchart {\n",
              "      --bg-color: #3B4455;\n",
              "      --fill-color: #D2E3FC;\n",
              "      --hover-bg-color: #434B5C;\n",
              "      --hover-fill-color: #FFFFFF;\n",
              "      --disabled-bg-color: #3B4455;\n",
              "      --disabled-fill-color: #666;\n",
              "  }\n",
              "\n",
              "  .colab-df-quickchart {\n",
              "    background-color: var(--bg-color);\n",
              "    border: none;\n",
              "    border-radius: 50%;\n",
              "    cursor: pointer;\n",
              "    display: none;\n",
              "    fill: var(--fill-color);\n",
              "    height: 32px;\n",
              "    padding: 0;\n",
              "    width: 32px;\n",
              "  }\n",
              "\n",
              "  .colab-df-quickchart:hover {\n",
              "    background-color: var(--hover-bg-color);\n",
              "    box-shadow: 0 1px 2px rgba(60, 64, 67, 0.3), 0 1px 3px 1px rgba(60, 64, 67, 0.15);\n",
              "    fill: var(--button-hover-fill-color);\n",
              "  }\n",
              "\n",
              "  .colab-df-quickchart-complete:disabled,\n",
              "  .colab-df-quickchart-complete:disabled:hover {\n",
              "    background-color: var(--disabled-bg-color);\n",
              "    fill: var(--disabled-fill-color);\n",
              "    box-shadow: none;\n",
              "  }\n",
              "\n",
              "  .colab-df-spinner {\n",
              "    border: 2px solid var(--fill-color);\n",
              "    border-color: transparent;\n",
              "    border-bottom-color: var(--fill-color);\n",
              "    animation:\n",
              "      spin 1s steps(1) infinite;\n",
              "  }\n",
              "\n",
              "  @keyframes spin {\n",
              "    0% {\n",
              "      border-color: transparent;\n",
              "      border-bottom-color: var(--fill-color);\n",
              "      border-left-color: var(--fill-color);\n",
              "    }\n",
              "    20% {\n",
              "      border-color: transparent;\n",
              "      border-left-color: var(--fill-color);\n",
              "      border-top-color: var(--fill-color);\n",
              "    }\n",
              "    30% {\n",
              "      border-color: transparent;\n",
              "      border-left-color: var(--fill-color);\n",
              "      border-top-color: var(--fill-color);\n",
              "      border-right-color: var(--fill-color);\n",
              "    }\n",
              "    40% {\n",
              "      border-color: transparent;\n",
              "      border-right-color: var(--fill-color);\n",
              "      border-top-color: var(--fill-color);\n",
              "    }\n",
              "    60% {\n",
              "      border-color: transparent;\n",
              "      border-right-color: var(--fill-color);\n",
              "    }\n",
              "    80% {\n",
              "      border-color: transparent;\n",
              "      border-right-color: var(--fill-color);\n",
              "      border-bottom-color: var(--fill-color);\n",
              "    }\n",
              "    90% {\n",
              "      border-color: transparent;\n",
              "      border-bottom-color: var(--fill-color);\n",
              "    }\n",
              "  }\n",
              "</style>\n",
              "\n",
              "  <script>\n",
              "    async function quickchart(key) {\n",
              "      const quickchartButtonEl =\n",
              "        document.querySelector('#' + key + ' button');\n",
              "      quickchartButtonEl.disabled = true;  // To prevent multiple clicks.\n",
              "      quickchartButtonEl.classList.add('colab-df-spinner');\n",
              "      try {\n",
              "        const charts = await google.colab.kernel.invokeFunction(\n",
              "            'suggestCharts', [key], {});\n",
              "      } catch (error) {\n",
              "        console.error('Error during call to suggestCharts:', error);\n",
              "      }\n",
              "      quickchartButtonEl.classList.remove('colab-df-spinner');\n",
              "      quickchartButtonEl.classList.add('colab-df-quickchart-complete');\n",
              "    }\n",
              "    (() => {\n",
              "      let quickchartButtonEl =\n",
              "        document.querySelector('#df-07aa0933-3fd1-417f-aee0-3355b9532120 button');\n",
              "      quickchartButtonEl.style.display =\n",
              "        google.colab.kernel.accessAllowed ? 'block' : 'none';\n",
              "    })();\n",
              "  </script>\n",
              "</div>\n",
              "\n",
              "    </div>\n",
              "  </div>\n"
            ],
            "application/vnd.google.colaboratory.intrinsic+json": {
              "type": "dataframe",
              "variable_name": "df"
            }
          },
          "metadata": {},
          "execution_count": 24
        }
      ]
    },
    {
      "cell_type": "code",
      "source": [
        "plt.imshow(df.BlobImage.iloc[20])"
      ],
      "metadata": {
        "colab": {
          "base_uri": "https://localhost:8080/",
          "height": 447
        },
        "id": "dA6YOZhBrQ-S",
        "outputId": "9b639779-077f-414d-f8bf-12730ab3d3cf"
      },
      "execution_count": 14,
      "outputs": [
        {
          "output_type": "execute_result",
          "data": {
            "text/plain": [
              "<matplotlib.image.AxesImage at 0x7ffa92a15780>"
            ]
          },
          "metadata": {},
          "execution_count": 14
        },
        {
          "output_type": "display_data",
          "data": {
            "text/plain": [
              "<Figure size 640x480 with 1 Axes>"
            ],
            "image/png": "[encoded data removed]"
          },
          "metadata": {}
        }
      ]
    },
    {
      "cell_type": "code",
      "source": [
        "#Store the dataset\n",
        "df.to_pickle(\"/content/drive/My Drive/full_preprocess_data.pkl\")"
      ],
      "metadata": {
        "id": "ZTLaa0G_rWcg"
      },
      "execution_count": 20,
      "outputs": []
    }
  ]
}
