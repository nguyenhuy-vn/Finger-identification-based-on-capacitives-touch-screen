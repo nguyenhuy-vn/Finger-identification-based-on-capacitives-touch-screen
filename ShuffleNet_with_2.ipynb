{
  "nbformat": 4,
  "nbformat_minor": 0,
  "metadata": {
    "colab": {
      "provenance": [],
      "gpuType": "T4",
      "authorship_tag": "ABX9TyO5UyXqO5vtzKcwulPeFqJm",
      "include_colab_link": true
    },
    "kernelspec": {
      "name": "python3",
      "display_name": "Python 3"
    },
    "language_info": {
      "name": "python"
    },
    "accelerator": "GPU"
  },
  "cells": [
    {
      "cell_type": "markdown",
      "metadata": {
        "id": "view-in-github",
        "colab_type": "text"
      },
      "source": [
        "<a href=\"https://colab.research.google.com/github/nguyenhuy-vn/Finger-identification-based-on-capacitives-touch-screen/blob/main/ShuffleNet_with_2.ipynb\" target=\"_parent\"><img src=\"https://colab.research.google.com/assets/colab-badge.svg\" alt=\"Open In Colab\"/></a>"
      ]
    },
    {
      "cell_type": "markdown",
      "source": [
        "### Connect to google drive"
      ],
      "metadata": {
        "id": "x9cEHbLDCXuP"
      }
    },
    {
      "cell_type": "code",
      "execution_count": 1,
      "metadata": {
        "id": "AbqdXbsF1Hkc",
        "colab": {
          "base_uri": "https://localhost:8080/"
        },
        "outputId": "e63f5357-091d-41ce-deed-dad9a352f628"
      },
      "outputs": [
        {
          "output_type": "stream",
          "name": "stdout",
          "text": [
            "Mounted at /content/drive\n"
          ]
        }
      ],
      "source": [
        "from google.colab import drive\n",
        "drive.mount('/content/drive')"
      ]
    },
    {
      "cell_type": "markdown",
      "source": [
        "### Import libraries"
      ],
      "metadata": {
        "id": "M52d4LR5CfTi"
      }
    },
    {
      "cell_type": "code",
      "source": [
        "import numpy as np\n",
        "import pandas as pd\n",
        "import matplotlib.pyplot as plt\n",
        "import tensorflow as tf\n",
        "import keras\n",
        "import cv2\n",
        "from tensorflow.keras import datasets, models, layers"
      ],
      "metadata": {
        "id": "6CVCwYNsCfGg"
      },
      "execution_count": 2,
      "outputs": []
    },
    {
      "cell_type": "markdown",
      "source": [
        "### Load data"
      ],
      "metadata": {
        "id": "DnCEw9AgC2Zh"
      }
    },
    {
      "cell_type": "code",
      "source": [
        "X_train = np.load('/content/drive/MyDrive/data for 2/X_train.npy')\n",
        "X_test = np.load('/content/drive/MyDrive/data for 2/X_test.npy')\n",
        "X_val = np.load('/content/drive/MyDrive/data for 2/X_val.npy')\n",
        "Y_train = np.load('/content/drive/MyDrive/data for 2/Y_train.npy')\n",
        "Y_test = np.load('/content/drive/MyDrive/data for 2/Y_test.npy')\n",
        "Y_val = np.load('/content/drive/MyDrive/data for 2/Y_val.npy')\n",
        "label = np.load('/content/drive/MyDrive/data for 2/label.npy')"
      ],
      "metadata": {
        "id": "GFn9Ax7MC4hV"
      },
      "execution_count": 3,
      "outputs": []
    },
    {
      "cell_type": "markdown",
      "source": [
        "### Check if have any missing data"
      ],
      "metadata": {
        "id": "GR116pY4EpLX"
      }
    },
    {
      "cell_type": "code",
      "source": [
        "X_train.shape, X_test.shape, X_val.shape, Y_train.shape, Y_test.shape, Y_val.shape"
      ],
      "metadata": {
        "colab": {
          "base_uri": "https://localhost:8080/"
        },
        "id": "qZdMdP1FEPfe",
        "outputId": "1e2f283d-ecc2-460f-98d9-c5d5333bfd70"
      },
      "execution_count": 4,
      "outputs": [
        {
          "output_type": "execute_result",
          "data": {
            "text/plain": [
              "((61122, 32, 32),\n",
              " (19168, 32, 32),\n",
              " (15281, 32, 32),\n",
              " (61122, 2),\n",
              " (19168, 2),\n",
              " (15281, 2))"
            ]
          },
          "metadata": {},
          "execution_count": 4
        }
      ]
    },
    {
      "cell_type": "code",
      "source": [
        "X_train[0]"
      ],
      "metadata": {
        "colab": {
          "base_uri": "https://localhost:8080/"
        },
        "id": "o1ooWxtPEoZh",
        "outputId": "5e8e04cb-bad5-404d-d640-d2ece17fa511"
      },
      "execution_count": 5,
      "outputs": [
        {
          "output_type": "execute_result",
          "data": {
            "text/plain": [
              "array([[0.02745098, 0.02745098, 0.02745098, ..., 0.04313726, 0.04313726,\n",
              "        0.04313726],\n",
              "       [0.02745098, 0.02745098, 0.02745098, ..., 0.04313726, 0.04313726,\n",
              "        0.04313726],\n",
              "       [0.02745098, 0.02745098, 0.02745098, ..., 0.04313726, 0.04313726,\n",
              "        0.04313726],\n",
              "       ...,\n",
              "       [0.05882353, 0.05882353, 0.05882353, ..., 0.07058824, 0.07058824,\n",
              "        0.07058824],\n",
              "       [0.05882353, 0.05882353, 0.05882353, ..., 0.07058824, 0.07058824,\n",
              "        0.07058824],\n",
              "       [0.05882353, 0.05882353, 0.05882353, ..., 0.07058824, 0.07058824,\n",
              "        0.07058824]], dtype=float32)"
            ]
          },
          "metadata": {},
          "execution_count": 5
        }
      ]
    },
    {
      "cell_type": "code",
      "source": [
        "X_val[0]"
      ],
      "metadata": {
        "colab": {
          "base_uri": "https://localhost:8080/"
        },
        "id": "lTn7K4jjFT6P",
        "outputId": "d3e50bb7-3add-4510-fb88-4e4dd28f262f"
      },
      "execution_count": 6,
      "outputs": [
        {
          "output_type": "execute_result",
          "data": {
            "text/plain": [
              "array([[0.00784314, 0.00784314, 0.00784314, ..., 0.02745098, 0.02745098,\n",
              "        0.02745098],\n",
              "       [0.00784314, 0.00784314, 0.00784314, ..., 0.02745098, 0.02745098,\n",
              "        0.02745098],\n",
              "       [0.00784314, 0.00784314, 0.00784314, ..., 0.02745098, 0.02745098,\n",
              "        0.02745098],\n",
              "       ...,\n",
              "       [0.01568628, 0.01568628, 0.01568628, ..., 0.07058824, 0.07058824,\n",
              "        0.07058824],\n",
              "       [0.01568628, 0.01568628, 0.01568628, ..., 0.07058824, 0.07058824,\n",
              "        0.07058824],\n",
              "       [0.01568628, 0.01568628, 0.01568628, ..., 0.07058824, 0.07058824,\n",
              "        0.07058824]], dtype=float32)"
            ]
          },
          "metadata": {},
          "execution_count": 6
        }
      ]
    },
    {
      "cell_type": "code",
      "source": [
        "Y_train[0]"
      ],
      "metadata": {
        "colab": {
          "base_uri": "https://localhost:8080/"
        },
        "id": "wbB7kFreFWOR",
        "outputId": "37f50b77-aadc-403a-d26e-3aeb0ad19830"
      },
      "execution_count": 7,
      "outputs": [
        {
          "output_type": "execute_result",
          "data": {
            "text/plain": [
              "array([0., 1.])"
            ]
          },
          "metadata": {},
          "execution_count": 7
        }
      ]
    },
    {
      "cell_type": "markdown",
      "source": [
        "### Model and Train"
      ],
      "metadata": {
        "id": "5TsAyMrBPeLJ"
      }
    },
    {
      "cell_type": "code",
      "source": [
        "X_train = X_train.reshape(X_train.shape[0], 32, 32, 1)\n",
        "X_test = X_test.reshape(X_test.shape[0], 32, 32, 1)\n",
        "X_val = X_val.reshape(X_val.shape[0],32,32,1)"
      ],
      "metadata": {
        "id": "KVtd3PxJFtyQ"
      },
      "execution_count": 8,
      "outputs": []
    },
    {
      "cell_type": "code",
      "execution_count": 9,
      "metadata": {
        "id": "23Jho9d4I1Op"
      },
      "outputs": [],
      "source": [
        "from keras.preprocessing.image import ImageDataGenerator\n",
        "aug = ImageDataGenerator(horizontal_flip=True, width_shift_range=0.05,\n",
        "                             height_shift_range=0.05)\n",
        "aug.fit(X_train)"
      ]
    },
    {
      "cell_type": "code",
      "source": [
        "import tensorflow as tf\n",
        "from tensorflow.keras import layers, models, backend\n",
        "\n",
        "def channel_shuffle(x, groups):\n",
        "    height, width, channels = x.shape[1], x.shape[2], x.shape[3]\n",
        "    group_channels = channels // groups\n",
        "\n",
        "    x = tf.reshape(x, [-1, height, width, groups, group_channels])\n",
        "    x = tf.transpose(x, [0, 1, 2, 4, 3])\n",
        "    x = tf.reshape(x, [-1, height, width, channels])\n",
        "    return x\n",
        "\n",
        "def grouped_convolution(x, out_channels, groups):\n",
        "    in_channels = x.shape[-1]\n",
        "    group_list = []\n",
        "\n",
        "    for i in range(groups):\n",
        "        group_list.append(layers.Conv2D(out_channels // groups, kernel_size=1, strides=1, padding='same',\n",
        "                                        use_bias=False)(x[:, :, :, i * in_channels // groups:(i + 1) * in_channels // groups]))\n",
        "    return layers.Concatenate()(group_list)\n",
        "\n",
        "def shuffle_unit(inputs, in_channels, out_channels, strides, groups):\n",
        "    x = grouped_convolution(inputs, in_channels, groups)\n",
        "    x = layers.BatchNormalization()(x)\n",
        "    x = layers.ReLU()(x)\n",
        "    x = layers.DepthwiseConv2D(kernel_size=3, strides=strides, padding='same', use_bias=False)(x)\n",
        "    x = layers.BatchNormalization()(x)\n",
        "    x = grouped_convolution(x, out_channels if strides == 1 else out_channels - in_channels, groups)\n",
        "    x = layers.BatchNormalization()(x)\n",
        "\n",
        "    if strides == 2:\n",
        "        shortcut = layers.AveragePooling2D(pool_size=3, strides=2, padding='same')(inputs)\n",
        "        x = layers.Concatenate()([x, shortcut])\n",
        "    elif strides == 1:\n",
        "        x = layers.Add()([inputs, x])\n",
        "\n",
        "    x = layers.ReLU()(x)\n",
        "    x = channel_shuffle(x, groups)\n",
        "    return x\n",
        "\n",
        "def ShuffleNet(input_shape=(224, 224, 3), num_classes=1000, scale_factor=1.0, groups=3):\n",
        "    in_channels = 24\n",
        "    out_channels = {1: [144, 288, 576], 2: [200, 400, 800], 3: [240, 480, 960], 4: [272, 544, 1088], 8: [384, 768, 1536]}[groups]\n",
        "    out_channels = [int(c * scale_factor) for c in out_channels]\n",
        "\n",
        "    inputs = layers.Input(shape=input_shape)\n",
        "    x = layers.Conv2D(in_channels, kernel_size=3, strides=2, padding='same', use_bias=False)(inputs)\n",
        "    x = layers.BatchNormalization()(x)\n",
        "    x = layers.ReLU()(x)\n",
        "    x = layers.MaxPooling2D(pool_size=3, strides=2, padding='same')(x)\n",
        "\n",
        "    for out_channel in out_channels:\n",
        "        repeat = 4 if out_channel != out_channels[0] else 3\n",
        "        for i in range(repeat):\n",
        "            strides = 2 if i == 0 else 1\n",
        "            x = shuffle_unit(x, in_channels, out_channel, strides, groups)\n",
        "            in_channels = out_channel\n",
        "\n",
        "    x = layers.GlobalAveragePooling2D()(x)\n",
        "    x = layers.Dense(num_classes, activation='softmax')(x)\n",
        "\n",
        "    model = models.Model(inputs=inputs, outputs=x)\n",
        "    return model"
      ],
      "metadata": {
        "id": "v1LNzfEsmcSY"
      },
      "execution_count": 10,
      "outputs": []
    },
    {
      "cell_type": "code",
      "source": [
        "from keras import backend as K\n",
        "\n",
        "def recall_m(y_true, y_pred):\n",
        "    true_positives = K.sum(K.round(K.clip(y_true * y_pred, 0, 1)))\n",
        "    possible_positives = K.sum(K.round(K.clip(y_true, 0, 1)))\n",
        "    recall = true_positives / (possible_positives + K.epsilon())\n",
        "    return recall\n",
        "\n",
        "def precision_m(y_true, y_pred):\n",
        "    true_positives = K.sum(K.round(K.clip(y_true * y_pred, 0, 1)))\n",
        "    predicted_positives = K.sum(K.round(K.clip(y_pred, 0, 1)))\n",
        "    precision = true_positives / (predicted_positives + K.epsilon())\n",
        "    return precision\n",
        "\n",
        "def f1_m(y_true, y_pred):\n",
        "    precision = precision_m(y_true, y_pred)\n",
        "    recall = recall_m(y_true, y_pred)\n",
        "    return 2*((precision*recall)/(precision+recall+K.epsilon()))"
      ],
      "metadata": {
        "id": "ptt9QzJdmrYD"
      },
      "execution_count": 11,
      "outputs": []
    },
    {
      "cell_type": "code",
      "source": [
        "model = ShuffleNet(input_shape = (32,32,1), num_classes = 2)\n",
        "from keras.optimizers import SGD\n",
        "model.compile(optimizer = \"adam\",loss='categorical_crossentropy', metrics=[\"accuracy\", f1_m, precision_m, recall_m])\n",
        "model.summary()"
      ],
      "metadata": {
        "colab": {
          "base_uri": "https://localhost:8080/"
        },
        "collapsed": true,
        "id": "pCMElGRDmy6t",
        "outputId": "795caa25-64d3-43bd-b245-94faa899ed7e"
      },
      "execution_count": 12,
      "outputs": [
        {
          "output_type": "stream",
          "name": "stdout",
          "text": [
            "Model: \"model\"\n",
            "__________________________________________________________________________________________________\n",
            " Layer (type)                Output Shape                 Param #   Connected to                  \n",
            "==================================================================================================\n",
            " input_1 (InputLayer)        [(None, 32, 32, 1)]          0         []                            \n",
            "                                                                                                  \n",
            " conv2d (Conv2D)             (None, 16, 16, 24)           216       ['input_1[0][0]']             \n",
            "                                                                                                  \n",
            " batch_normalization (Batch  (None, 16, 16, 24)           96        ['conv2d[0][0]']              \n",
            " Normalization)                                                                                   \n",
            "                                                                                                  \n",
            " re_lu (ReLU)                (None, 16, 16, 24)           0         ['batch_normalization[0][0]'] \n",
            "                                                                                                  \n",
            " max_pooling2d (MaxPooling2  (None, 8, 8, 24)             0         ['re_lu[0][0]']               \n",
            " D)                                                                                               \n",
            "                                                                                                  \n",
            " tf.__operators__.getitem (  (None, 8, 8, 8)              0         ['max_pooling2d[0][0]']       \n",
            " SlicingOpLambda)                                                                                 \n",
            "                                                                                                  \n",
            " tf.__operators__.getitem_1  (None, 8, 8, 8)              0         ['max_pooling2d[0][0]']       \n",
            "  (SlicingOpLambda)                                                                               \n",
            "                                                                                                  \n",
            " tf.__operators__.getitem_2  (None, 8, 8, 8)              0         ['max_pooling2d[0][0]']       \n",
            "  (SlicingOpLambda)                                                                               \n",
            "                                                                                                  \n",
            " conv2d_1 (Conv2D)           (None, 8, 8, 8)              64        ['tf.__operators__.getitem[0][\n",
            "                                                                    0]']                          \n",
            "                                                                                                  \n",
            " conv2d_2 (Conv2D)           (None, 8, 8, 8)              64        ['tf.__operators__.getitem_1[0\n",
            "                                                                    ][0]']                        \n",
            "                                                                                                  \n",
            " conv2d_3 (Conv2D)           (None, 8, 8, 8)              64        ['tf.__operators__.getitem_2[0\n",
            "                                                                    ][0]']                        \n",
            "                                                                                                  \n",
            " concatenate (Concatenate)   (None, 8, 8, 24)             0         ['conv2d_1[0][0]',            \n",
            "                                                                     'conv2d_2[0][0]',            \n",
            "                                                                     'conv2d_3[0][0]']            \n",
            "                                                                                                  \n",
            " batch_normalization_1 (Bat  (None, 8, 8, 24)             96        ['concatenate[0][0]']         \n",
            " chNormalization)                                                                                 \n",
            "                                                                                                  \n",
            " re_lu_1 (ReLU)              (None, 8, 8, 24)             0         ['batch_normalization_1[0][0]'\n",
            "                                                                    ]                             \n",
            "                                                                                                  \n",
            " depthwise_conv2d (Depthwis  (None, 4, 4, 24)             216       ['re_lu_1[0][0]']             \n",
            " eConv2D)                                                                                         \n",
            "                                                                                                  \n",
            " batch_normalization_2 (Bat  (None, 4, 4, 24)             96        ['depthwise_conv2d[0][0]']    \n",
            " chNormalization)                                                                                 \n",
            "                                                                                                  \n",
            " tf.__operators__.getitem_3  (None, 4, 4, 8)              0         ['batch_normalization_2[0][0]'\n",
            "  (SlicingOpLambda)                                                 ]                             \n",
            "                                                                                                  \n",
            " tf.__operators__.getitem_4  (None, 4, 4, 8)              0         ['batch_normalization_2[0][0]'\n",
            "  (SlicingOpLambda)                                                 ]                             \n",
            "                                                                                                  \n",
            " tf.__operators__.getitem_5  (None, 4, 4, 8)              0         ['batch_normalization_2[0][0]'\n",
            "  (SlicingOpLambda)                                                 ]                             \n",
            "                                                                                                  \n",
            " conv2d_4 (Conv2D)           (None, 4, 4, 72)             576       ['tf.__operators__.getitem_3[0\n",
            "                                                                    ][0]']                        \n",
            "                                                                                                  \n",
            " conv2d_5 (Conv2D)           (None, 4, 4, 72)             576       ['tf.__operators__.getitem_4[0\n",
            "                                                                    ][0]']                        \n",
            "                                                                                                  \n",
            " conv2d_6 (Conv2D)           (None, 4, 4, 72)             576       ['tf.__operators__.getitem_5[0\n",
            "                                                                    ][0]']                        \n",
            "                                                                                                  \n",
            " concatenate_1 (Concatenate  (None, 4, 4, 216)            0         ['conv2d_4[0][0]',            \n",
            " )                                                                   'conv2d_5[0][0]',            \n",
            "                                                                     'conv2d_6[0][0]']            \n",
            "                                                                                                  \n",
            " batch_normalization_3 (Bat  (None, 4, 4, 216)            864       ['concatenate_1[0][0]']       \n",
            " chNormalization)                                                                                 \n",
            "                                                                                                  \n",
            " average_pooling2d (Average  (None, 4, 4, 24)             0         ['max_pooling2d[0][0]']       \n",
            " Pooling2D)                                                                                       \n",
            "                                                                                                  \n",
            " concatenate_2 (Concatenate  (None, 4, 4, 240)            0         ['batch_normalization_3[0][0]'\n",
            " )                                                                  , 'average_pooling2d[0][0]']  \n",
            "                                                                                                  \n",
            " re_lu_2 (ReLU)              (None, 4, 4, 240)            0         ['concatenate_2[0][0]']       \n",
            "                                                                                                  \n",
            " tf.reshape (TFOpLambda)     (None, 4, 4, 3, 80)          0         ['re_lu_2[0][0]']             \n",
            "                                                                                                  \n",
            " tf.compat.v1.transpose (TF  (None, 4, 4, 80, 3)          0         ['tf.reshape[0][0]']          \n",
            " OpLambda)                                                                                        \n",
            "                                                                                                  \n",
            " tf.reshape_1 (TFOpLambda)   (None, 4, 4, 240)            0         ['tf.compat.v1.transpose[0][0]\n",
            "                                                                    ']                            \n",
            "                                                                                                  \n",
            " tf.__operators__.getitem_6  (None, 4, 4, 80)             0         ['tf.reshape_1[0][0]']        \n",
            "  (SlicingOpLambda)                                                                               \n",
            "                                                                                                  \n",
            " tf.__operators__.getitem_7  (None, 4, 4, 80)             0         ['tf.reshape_1[0][0]']        \n",
            "  (SlicingOpLambda)                                                                               \n",
            "                                                                                                  \n",
            " tf.__operators__.getitem_8  (None, 4, 4, 80)             0         ['tf.reshape_1[0][0]']        \n",
            "  (SlicingOpLambda)                                                                               \n",
            "                                                                                                  \n",
            " conv2d_7 (Conv2D)           (None, 4, 4, 80)             6400      ['tf.__operators__.getitem_6[0\n",
            "                                                                    ][0]']                        \n",
            "                                                                                                  \n",
            " conv2d_8 (Conv2D)           (None, 4, 4, 80)             6400      ['tf.__operators__.getitem_7[0\n",
            "                                                                    ][0]']                        \n",
            "                                                                                                  \n",
            " conv2d_9 (Conv2D)           (None, 4, 4, 80)             6400      ['tf.__operators__.getitem_8[0\n",
            "                                                                    ][0]']                        \n",
            "                                                                                                  \n",
            " concatenate_3 (Concatenate  (None, 4, 4, 240)            0         ['conv2d_7[0][0]',            \n",
            " )                                                                   'conv2d_8[0][0]',            \n",
            "                                                                     'conv2d_9[0][0]']            \n",
            "                                                                                                  \n",
            " batch_normalization_4 (Bat  (None, 4, 4, 240)            960       ['concatenate_3[0][0]']       \n",
            " chNormalization)                                                                                 \n",
            "                                                                                                  \n",
            " re_lu_3 (ReLU)              (None, 4, 4, 240)            0         ['batch_normalization_4[0][0]'\n",
            "                                                                    ]                             \n",
            "                                                                                                  \n",
            " depthwise_conv2d_1 (Depthw  (None, 4, 4, 240)            2160      ['re_lu_3[0][0]']             \n",
            " iseConv2D)                                                                                       \n",
            "                                                                                                  \n",
            " batch_normalization_5 (Bat  (None, 4, 4, 240)            960       ['depthwise_conv2d_1[0][0]']  \n",
            " chNormalization)                                                                                 \n",
            "                                                                                                  \n",
            " tf.__operators__.getitem_9  (None, 4, 4, 80)             0         ['batch_normalization_5[0][0]'\n",
            "  (SlicingOpLambda)                                                 ]                             \n",
            "                                                                                                  \n",
            " tf.__operators__.getitem_1  (None, 4, 4, 80)             0         ['batch_normalization_5[0][0]'\n",
            " 0 (SlicingOpLambda)                                                ]                             \n",
            "                                                                                                  \n",
            " tf.__operators__.getitem_1  (None, 4, 4, 80)             0         ['batch_normalization_5[0][0]'\n",
            " 1 (SlicingOpLambda)                                                ]                             \n",
            "                                                                                                  \n",
            " conv2d_10 (Conv2D)          (None, 4, 4, 80)             6400      ['tf.__operators__.getitem_9[0\n",
            "                                                                    ][0]']                        \n",
            "                                                                                                  \n",
            " conv2d_11 (Conv2D)          (None, 4, 4, 80)             6400      ['tf.__operators__.getitem_10[\n",
            "                                                                    0][0]']                       \n",
            "                                                                                                  \n",
            " conv2d_12 (Conv2D)          (None, 4, 4, 80)             6400      ['tf.__operators__.getitem_11[\n",
            "                                                                    0][0]']                       \n",
            "                                                                                                  \n",
            " concatenate_4 (Concatenate  (None, 4, 4, 240)            0         ['conv2d_10[0][0]',           \n",
            " )                                                                   'conv2d_11[0][0]',           \n",
            "                                                                     'conv2d_12[0][0]']           \n",
            "                                                                                                  \n",
            " batch_normalization_6 (Bat  (None, 4, 4, 240)            960       ['concatenate_4[0][0]']       \n",
            " chNormalization)                                                                                 \n",
            "                                                                                                  \n",
            " add (Add)                   (None, 4, 4, 240)            0         ['tf.reshape_1[0][0]',        \n",
            "                                                                     'batch_normalization_6[0][0]'\n",
            "                                                                    ]                             \n",
            "                                                                                                  \n",
            " re_lu_4 (ReLU)              (None, 4, 4, 240)            0         ['add[0][0]']                 \n",
            "                                                                                                  \n",
            " tf.reshape_2 (TFOpLambda)   (None, 4, 4, 3, 80)          0         ['re_lu_4[0][0]']             \n",
            "                                                                                                  \n",
            " tf.compat.v1.transpose_1 (  (None, 4, 4, 80, 3)          0         ['tf.reshape_2[0][0]']        \n",
            " TFOpLambda)                                                                                      \n",
            "                                                                                                  \n",
            " tf.reshape_3 (TFOpLambda)   (None, 4, 4, 240)            0         ['tf.compat.v1.transpose_1[0][\n",
            "                                                                    0]']                          \n",
            "                                                                                                  \n",
            " tf.__operators__.getitem_1  (None, 4, 4, 80)             0         ['tf.reshape_3[0][0]']        \n",
            " 2 (SlicingOpLambda)                                                                              \n",
            "                                                                                                  \n",
            " tf.__operators__.getitem_1  (None, 4, 4, 80)             0         ['tf.reshape_3[0][0]']        \n",
            " 3 (SlicingOpLambda)                                                                              \n",
            "                                                                                                  \n",
            " tf.__operators__.getitem_1  (None, 4, 4, 80)             0         ['tf.reshape_3[0][0]']        \n",
            " 4 (SlicingOpLambda)                                                                              \n",
            "                                                                                                  \n",
            " conv2d_13 (Conv2D)          (None, 4, 4, 80)             6400      ['tf.__operators__.getitem_12[\n",
            "                                                                    0][0]']                       \n",
            "                                                                                                  \n",
            " conv2d_14 (Conv2D)          (None, 4, 4, 80)             6400      ['tf.__operators__.getitem_13[\n",
            "                                                                    0][0]']                       \n",
            "                                                                                                  \n",
            " conv2d_15 (Conv2D)          (None, 4, 4, 80)             6400      ['tf.__operators__.getitem_14[\n",
            "                                                                    0][0]']                       \n",
            "                                                                                                  \n",
            " concatenate_5 (Concatenate  (None, 4, 4, 240)            0         ['conv2d_13[0][0]',           \n",
            " )                                                                   'conv2d_14[0][0]',           \n",
            "                                                                     'conv2d_15[0][0]']           \n",
            "                                                                                                  \n",
            " batch_normalization_7 (Bat  (None, 4, 4, 240)            960       ['concatenate_5[0][0]']       \n",
            " chNormalization)                                                                                 \n",
            "                                                                                                  \n",
            " re_lu_5 (ReLU)              (None, 4, 4, 240)            0         ['batch_normalization_7[0][0]'\n",
            "                                                                    ]                             \n",
            "                                                                                                  \n",
            " depthwise_conv2d_2 (Depthw  (None, 4, 4, 240)            2160      ['re_lu_5[0][0]']             \n",
            " iseConv2D)                                                                                       \n",
            "                                                                                                  \n",
            " batch_normalization_8 (Bat  (None, 4, 4, 240)            960       ['depthwise_conv2d_2[0][0]']  \n",
            " chNormalization)                                                                                 \n",
            "                                                                                                  \n",
            " tf.__operators__.getitem_1  (None, 4, 4, 80)             0         ['batch_normalization_8[0][0]'\n",
            " 5 (SlicingOpLambda)                                                ]                             \n",
            "                                                                                                  \n",
            " tf.__operators__.getitem_1  (None, 4, 4, 80)             0         ['batch_normalization_8[0][0]'\n",
            " 6 (SlicingOpLambda)                                                ]                             \n",
            "                                                                                                  \n",
            " tf.__operators__.getitem_1  (None, 4, 4, 80)             0         ['batch_normalization_8[0][0]'\n",
            " 7 (SlicingOpLambda)                                                ]                             \n",
            "                                                                                                  \n",
            " conv2d_16 (Conv2D)          (None, 4, 4, 80)             6400      ['tf.__operators__.getitem_15[\n",
            "                                                                    0][0]']                       \n",
            "                                                                                                  \n",
            " conv2d_17 (Conv2D)          (None, 4, 4, 80)             6400      ['tf.__operators__.getitem_16[\n",
            "                                                                    0][0]']                       \n",
            "                                                                                                  \n",
            " conv2d_18 (Conv2D)          (None, 4, 4, 80)             6400      ['tf.__operators__.getitem_17[\n",
            "                                                                    0][0]']                       \n",
            "                                                                                                  \n",
            " concatenate_6 (Concatenate  (None, 4, 4, 240)            0         ['conv2d_16[0][0]',           \n",
            " )                                                                   'conv2d_17[0][0]',           \n",
            "                                                                     'conv2d_18[0][0]']           \n",
            "                                                                                                  \n",
            " batch_normalization_9 (Bat  (None, 4, 4, 240)            960       ['concatenate_6[0][0]']       \n",
            " chNormalization)                                                                                 \n",
            "                                                                                                  \n",
            " add_1 (Add)                 (None, 4, 4, 240)            0         ['tf.reshape_3[0][0]',        \n",
            "                                                                     'batch_normalization_9[0][0]'\n",
            "                                                                    ]                             \n",
            "                                                                                                  \n",
            " re_lu_6 (ReLU)              (None, 4, 4, 240)            0         ['add_1[0][0]']               \n",
            "                                                                                                  \n",
            " tf.reshape_4 (TFOpLambda)   (None, 4, 4, 3, 80)          0         ['re_lu_6[0][0]']             \n",
            "                                                                                                  \n",
            " tf.compat.v1.transpose_2 (  (None, 4, 4, 80, 3)          0         ['tf.reshape_4[0][0]']        \n",
            " TFOpLambda)                                                                                      \n",
            "                                                                                                  \n",
            " tf.reshape_5 (TFOpLambda)   (None, 4, 4, 240)            0         ['tf.compat.v1.transpose_2[0][\n",
            "                                                                    0]']                          \n",
            "                                                                                                  \n",
            " tf.__operators__.getitem_1  (None, 4, 4, 80)             0         ['tf.reshape_5[0][0]']        \n",
            " 8 (SlicingOpLambda)                                                                              \n",
            "                                                                                                  \n",
            " tf.__operators__.getitem_1  (None, 4, 4, 80)             0         ['tf.reshape_5[0][0]']        \n",
            " 9 (SlicingOpLambda)                                                                              \n",
            "                                                                                                  \n",
            " tf.__operators__.getitem_2  (None, 4, 4, 80)             0         ['tf.reshape_5[0][0]']        \n",
            " 0 (SlicingOpLambda)                                                                              \n",
            "                                                                                                  \n",
            " conv2d_19 (Conv2D)          (None, 4, 4, 80)             6400      ['tf.__operators__.getitem_18[\n",
            "                                                                    0][0]']                       \n",
            "                                                                                                  \n",
            " conv2d_20 (Conv2D)          (None, 4, 4, 80)             6400      ['tf.__operators__.getitem_19[\n",
            "                                                                    0][0]']                       \n",
            "                                                                                                  \n",
            " conv2d_21 (Conv2D)          (None, 4, 4, 80)             6400      ['tf.__operators__.getitem_20[\n",
            "                                                                    0][0]']                       \n",
            "                                                                                                  \n",
            " concatenate_7 (Concatenate  (None, 4, 4, 240)            0         ['conv2d_19[0][0]',           \n",
            " )                                                                   'conv2d_20[0][0]',           \n",
            "                                                                     'conv2d_21[0][0]']           \n",
            "                                                                                                  \n",
            " batch_normalization_10 (Ba  (None, 4, 4, 240)            960       ['concatenate_7[0][0]']       \n",
            " tchNormalization)                                                                                \n",
            "                                                                                                  \n",
            " re_lu_7 (ReLU)              (None, 4, 4, 240)            0         ['batch_normalization_10[0][0]\n",
            "                                                                    ']                            \n",
            "                                                                                                  \n",
            " depthwise_conv2d_3 (Depthw  (None, 2, 2, 240)            2160      ['re_lu_7[0][0]']             \n",
            " iseConv2D)                                                                                       \n",
            "                                                                                                  \n",
            " batch_normalization_11 (Ba  (None, 2, 2, 240)            960       ['depthwise_conv2d_3[0][0]']  \n",
            " tchNormalization)                                                                                \n",
            "                                                                                                  \n",
            " tf.__operators__.getitem_2  (None, 2, 2, 80)             0         ['batch_normalization_11[0][0]\n",
            " 1 (SlicingOpLambda)                                                ']                            \n",
            "                                                                                                  \n",
            " tf.__operators__.getitem_2  (None, 2, 2, 80)             0         ['batch_normalization_11[0][0]\n",
            " 2 (SlicingOpLambda)                                                ']                            \n",
            "                                                                                                  \n",
            " tf.__operators__.getitem_2  (None, 2, 2, 80)             0         ['batch_normalization_11[0][0]\n",
            " 3 (SlicingOpLambda)                                                ']                            \n",
            "                                                                                                  \n",
            " conv2d_22 (Conv2D)          (None, 2, 2, 80)             6400      ['tf.__operators__.getitem_21[\n",
            "                                                                    0][0]']                       \n",
            "                                                                                                  \n",
            " conv2d_23 (Conv2D)          (None, 2, 2, 80)             6400      ['tf.__operators__.getitem_22[\n",
            "                                                                    0][0]']                       \n",
            "                                                                                                  \n",
            " conv2d_24 (Conv2D)          (None, 2, 2, 80)             6400      ['tf.__operators__.getitem_23[\n",
            "                                                                    0][0]']                       \n",
            "                                                                                                  \n",
            " concatenate_8 (Concatenate  (None, 2, 2, 240)            0         ['conv2d_22[0][0]',           \n",
            " )                                                                   'conv2d_23[0][0]',           \n",
            "                                                                     'conv2d_24[0][0]']           \n",
            "                                                                                                  \n",
            " batch_normalization_12 (Ba  (None, 2, 2, 240)            960       ['concatenate_8[0][0]']       \n",
            " tchNormalization)                                                                                \n",
            "                                                                                                  \n",
            " average_pooling2d_1 (Avera  (None, 2, 2, 240)            0         ['tf.reshape_5[0][0]']        \n",
            " gePooling2D)                                                                                     \n",
            "                                                                                                  \n",
            " concatenate_9 (Concatenate  (None, 2, 2, 480)            0         ['batch_normalization_12[0][0]\n",
            " )                                                                  ',                            \n",
            "                                                                     'average_pooling2d_1[0][0]'] \n",
            "                                                                                                  \n",
            " re_lu_8 (ReLU)              (None, 2, 2, 480)            0         ['concatenate_9[0][0]']       \n",
            "                                                                                                  \n",
            " tf.reshape_6 (TFOpLambda)   (None, 2, 2, 3, 160)         0         ['re_lu_8[0][0]']             \n",
            "                                                                                                  \n",
            " tf.compat.v1.transpose_3 (  (None, 2, 2, 160, 3)         0         ['tf.reshape_6[0][0]']        \n",
            " TFOpLambda)                                                                                      \n",
            "                                                                                                  \n",
            " tf.reshape_7 (TFOpLambda)   (None, 2, 2, 480)            0         ['tf.compat.v1.transpose_3[0][\n",
            "                                                                    0]']                          \n",
            "                                                                                                  \n",
            " tf.__operators__.getitem_2  (None, 2, 2, 160)            0         ['tf.reshape_7[0][0]']        \n",
            " 4 (SlicingOpLambda)                                                                              \n",
            "                                                                                                  \n",
            " tf.__operators__.getitem_2  (None, 2, 2, 160)            0         ['tf.reshape_7[0][0]']        \n",
            " 5 (SlicingOpLambda)                                                                              \n",
            "                                                                                                  \n",
            " tf.__operators__.getitem_2  (None, 2, 2, 160)            0         ['tf.reshape_7[0][0]']        \n",
            " 6 (SlicingOpLambda)                                                                              \n",
            "                                                                                                  \n",
            " conv2d_25 (Conv2D)          (None, 2, 2, 160)            25600     ['tf.__operators__.getitem_24[\n",
            "                                                                    0][0]']                       \n",
            "                                                                                                  \n",
            " conv2d_26 (Conv2D)          (None, 2, 2, 160)            25600     ['tf.__operators__.getitem_25[\n",
            "                                                                    0][0]']                       \n",
            "                                                                                                  \n",
            " conv2d_27 (Conv2D)          (None, 2, 2, 160)            25600     ['tf.__operators__.getitem_26[\n",
            "                                                                    0][0]']                       \n",
            "                                                                                                  \n",
            " concatenate_10 (Concatenat  (None, 2, 2, 480)            0         ['conv2d_25[0][0]',           \n",
            " e)                                                                  'conv2d_26[0][0]',           \n",
            "                                                                     'conv2d_27[0][0]']           \n",
            "                                                                                                  \n",
            " batch_normalization_13 (Ba  (None, 2, 2, 480)            1920      ['concatenate_10[0][0]']      \n",
            " tchNormalization)                                                                                \n",
            "                                                                                                  \n",
            " re_lu_9 (ReLU)              (None, 2, 2, 480)            0         ['batch_normalization_13[0][0]\n",
            "                                                                    ']                            \n",
            "                                                                                                  \n",
            " depthwise_conv2d_4 (Depthw  (None, 2, 2, 480)            4320      ['re_lu_9[0][0]']             \n",
            " iseConv2D)                                                                                       \n",
            "                                                                                                  \n",
            " batch_normalization_14 (Ba  (None, 2, 2, 480)            1920      ['depthwise_conv2d_4[0][0]']  \n",
            " tchNormalization)                                                                                \n",
            "                                                                                                  \n",
            " tf.__operators__.getitem_2  (None, 2, 2, 160)            0         ['batch_normalization_14[0][0]\n",
            " 7 (SlicingOpLambda)                                                ']                            \n",
            "                                                                                                  \n",
            " tf.__operators__.getitem_2  (None, 2, 2, 160)            0         ['batch_normalization_14[0][0]\n",
            " 8 (SlicingOpLambda)                                                ']                            \n",
            "                                                                                                  \n",
            " tf.__operators__.getitem_2  (None, 2, 2, 160)            0         ['batch_normalization_14[0][0]\n",
            " 9 (SlicingOpLambda)                                                ']                            \n",
            "                                                                                                  \n",
            " conv2d_28 (Conv2D)          (None, 2, 2, 160)            25600     ['tf.__operators__.getitem_27[\n",
            "                                                                    0][0]']                       \n",
            "                                                                                                  \n",
            " conv2d_29 (Conv2D)          (None, 2, 2, 160)            25600     ['tf.__operators__.getitem_28[\n",
            "                                                                    0][0]']                       \n",
            "                                                                                                  \n",
            " conv2d_30 (Conv2D)          (None, 2, 2, 160)            25600     ['tf.__operators__.getitem_29[\n",
            "                                                                    0][0]']                       \n",
            "                                                                                                  \n",
            " concatenate_11 (Concatenat  (None, 2, 2, 480)            0         ['conv2d_28[0][0]',           \n",
            " e)                                                                  'conv2d_29[0][0]',           \n",
            "                                                                     'conv2d_30[0][0]']           \n",
            "                                                                                                  \n",
            " batch_normalization_15 (Ba  (None, 2, 2, 480)            1920      ['concatenate_11[0][0]']      \n",
            " tchNormalization)                                                                                \n",
            "                                                                                                  \n",
            " add_2 (Add)                 (None, 2, 2, 480)            0         ['tf.reshape_7[0][0]',        \n",
            "                                                                     'batch_normalization_15[0][0]\n",
            "                                                                    ']                            \n",
            "                                                                                                  \n",
            " re_lu_10 (ReLU)             (None, 2, 2, 480)            0         ['add_2[0][0]']               \n",
            "                                                                                                  \n",
            " tf.reshape_8 (TFOpLambda)   (None, 2, 2, 3, 160)         0         ['re_lu_10[0][0]']            \n",
            "                                                                                                  \n",
            " tf.compat.v1.transpose_4 (  (None, 2, 2, 160, 3)         0         ['tf.reshape_8[0][0]']        \n",
            " TFOpLambda)                                                                                      \n",
            "                                                                                                  \n",
            " tf.reshape_9 (TFOpLambda)   (None, 2, 2, 480)            0         ['tf.compat.v1.transpose_4[0][\n",
            "                                                                    0]']                          \n",
            "                                                                                                  \n",
            " tf.__operators__.getitem_3  (None, 2, 2, 160)            0         ['tf.reshape_9[0][0]']        \n",
            " 0 (SlicingOpLambda)                                                                              \n",
            "                                                                                                  \n",
            " tf.__operators__.getitem_3  (None, 2, 2, 160)            0         ['tf.reshape_9[0][0]']        \n",
            " 1 (SlicingOpLambda)                                                                              \n",
            "                                                                                                  \n",
            " tf.__operators__.getitem_3  (None, 2, 2, 160)            0         ['tf.reshape_9[0][0]']        \n",
            " 2 (SlicingOpLambda)                                                                              \n",
            "                                                                                                  \n",
            " conv2d_31 (Conv2D)          (None, 2, 2, 160)            25600     ['tf.__operators__.getitem_30[\n",
            "                                                                    0][0]']                       \n",
            "                                                                                                  \n",
            " conv2d_32 (Conv2D)          (None, 2, 2, 160)            25600     ['tf.__operators__.getitem_31[\n",
            "                                                                    0][0]']                       \n",
            "                                                                                                  \n",
            " conv2d_33 (Conv2D)          (None, 2, 2, 160)            25600     ['tf.__operators__.getitem_32[\n",
            "                                                                    0][0]']                       \n",
            "                                                                                                  \n",
            " concatenate_12 (Concatenat  (None, 2, 2, 480)            0         ['conv2d_31[0][0]',           \n",
            " e)                                                                  'conv2d_32[0][0]',           \n",
            "                                                                     'conv2d_33[0][0]']           \n",
            "                                                                                                  \n",
            " batch_normalization_16 (Ba  (None, 2, 2, 480)            1920      ['concatenate_12[0][0]']      \n",
            " tchNormalization)                                                                                \n",
            "                                                                                                  \n",
            " re_lu_11 (ReLU)             (None, 2, 2, 480)            0         ['batch_normalization_16[0][0]\n",
            "                                                                    ']                            \n",
            "                                                                                                  \n",
            " depthwise_conv2d_5 (Depthw  (None, 2, 2, 480)            4320      ['re_lu_11[0][0]']            \n",
            " iseConv2D)                                                                                       \n",
            "                                                                                                  \n",
            " batch_normalization_17 (Ba  (None, 2, 2, 480)            1920      ['depthwise_conv2d_5[0][0]']  \n",
            " tchNormalization)                                                                                \n",
            "                                                                                                  \n",
            " tf.__operators__.getitem_3  (None, 2, 2, 160)            0         ['batch_normalization_17[0][0]\n",
            " 3 (SlicingOpLambda)                                                ']                            \n",
            "                                                                                                  \n",
            " tf.__operators__.getitem_3  (None, 2, 2, 160)            0         ['batch_normalization_17[0][0]\n",
            " 4 (SlicingOpLambda)                                                ']                            \n",
            "                                                                                                  \n",
            " tf.__operators__.getitem_3  (None, 2, 2, 160)            0         ['batch_normalization_17[0][0]\n",
            " 5 (SlicingOpLambda)                                                ']                            \n",
            "                                                                                                  \n",
            " conv2d_34 (Conv2D)          (None, 2, 2, 160)            25600     ['tf.__operators__.getitem_33[\n",
            "                                                                    0][0]']                       \n",
            "                                                                                                  \n",
            " conv2d_35 (Conv2D)          (None, 2, 2, 160)            25600     ['tf.__operators__.getitem_34[\n",
            "                                                                    0][0]']                       \n",
            "                                                                                                  \n",
            " conv2d_36 (Conv2D)          (None, 2, 2, 160)            25600     ['tf.__operators__.getitem_35[\n",
            "                                                                    0][0]']                       \n",
            "                                                                                                  \n",
            " concatenate_13 (Concatenat  (None, 2, 2, 480)            0         ['conv2d_34[0][0]',           \n",
            " e)                                                                  'conv2d_35[0][0]',           \n",
            "                                                                     'conv2d_36[0][0]']           \n",
            "                                                                                                  \n",
            " batch_normalization_18 (Ba  (None, 2, 2, 480)            1920      ['concatenate_13[0][0]']      \n",
            " tchNormalization)                                                                                \n",
            "                                                                                                  \n",
            " add_3 (Add)                 (None, 2, 2, 480)            0         ['tf.reshape_9[0][0]',        \n",
            "                                                                     'batch_normalization_18[0][0]\n",
            "                                                                    ']                            \n",
            "                                                                                                  \n",
            " re_lu_12 (ReLU)             (None, 2, 2, 480)            0         ['add_3[0][0]']               \n",
            "                                                                                                  \n",
            " tf.reshape_10 (TFOpLambda)  (None, 2, 2, 3, 160)         0         ['re_lu_12[0][0]']            \n",
            "                                                                                                  \n",
            " tf.compat.v1.transpose_5 (  (None, 2, 2, 160, 3)         0         ['tf.reshape_10[0][0]']       \n",
            " TFOpLambda)                                                                                      \n",
            "                                                                                                  \n",
            " tf.reshape_11 (TFOpLambda)  (None, 2, 2, 480)            0         ['tf.compat.v1.transpose_5[0][\n",
            "                                                                    0]']                          \n",
            "                                                                                                  \n",
            " tf.__operators__.getitem_3  (None, 2, 2, 160)            0         ['tf.reshape_11[0][0]']       \n",
            " 6 (SlicingOpLambda)                                                                              \n",
            "                                                                                                  \n",
            " tf.__operators__.getitem_3  (None, 2, 2, 160)            0         ['tf.reshape_11[0][0]']       \n",
            " 7 (SlicingOpLambda)                                                                              \n",
            "                                                                                                  \n",
            " tf.__operators__.getitem_3  (None, 2, 2, 160)            0         ['tf.reshape_11[0][0]']       \n",
            " 8 (SlicingOpLambda)                                                                              \n",
            "                                                                                                  \n",
            " conv2d_37 (Conv2D)          (None, 2, 2, 160)            25600     ['tf.__operators__.getitem_36[\n",
            "                                                                    0][0]']                       \n",
            "                                                                                                  \n",
            " conv2d_38 (Conv2D)          (None, 2, 2, 160)            25600     ['tf.__operators__.getitem_37[\n",
            "                                                                    0][0]']                       \n",
            "                                                                                                  \n",
            " conv2d_39 (Conv2D)          (None, 2, 2, 160)            25600     ['tf.__operators__.getitem_38[\n",
            "                                                                    0][0]']                       \n",
            "                                                                                                  \n",
            " concatenate_14 (Concatenat  (None, 2, 2, 480)            0         ['conv2d_37[0][0]',           \n",
            " e)                                                                  'conv2d_38[0][0]',           \n",
            "                                                                     'conv2d_39[0][0]']           \n",
            "                                                                                                  \n",
            " batch_normalization_19 (Ba  (None, 2, 2, 480)            1920      ['concatenate_14[0][0]']      \n",
            " tchNormalization)                                                                                \n",
            "                                                                                                  \n",
            " re_lu_13 (ReLU)             (None, 2, 2, 480)            0         ['batch_normalization_19[0][0]\n",
            "                                                                    ']                            \n",
            "                                                                                                  \n",
            " depthwise_conv2d_6 (Depthw  (None, 2, 2, 480)            4320      ['re_lu_13[0][0]']            \n",
            " iseConv2D)                                                                                       \n",
            "                                                                                                  \n",
            " batch_normalization_20 (Ba  (None, 2, 2, 480)            1920      ['depthwise_conv2d_6[0][0]']  \n",
            " tchNormalization)                                                                                \n",
            "                                                                                                  \n",
            " tf.__operators__.getitem_3  (None, 2, 2, 160)            0         ['batch_normalization_20[0][0]\n",
            " 9 (SlicingOpLambda)                                                ']                            \n",
            "                                                                                                  \n",
            " tf.__operators__.getitem_4  (None, 2, 2, 160)            0         ['batch_normalization_20[0][0]\n",
            " 0 (SlicingOpLambda)                                                ']                            \n",
            "                                                                                                  \n",
            " tf.__operators__.getitem_4  (None, 2, 2, 160)            0         ['batch_normalization_20[0][0]\n",
            " 1 (SlicingOpLambda)                                                ']                            \n",
            "                                                                                                  \n",
            " conv2d_40 (Conv2D)          (None, 2, 2, 160)            25600     ['tf.__operators__.getitem_39[\n",
            "                                                                    0][0]']                       \n",
            "                                                                                                  \n",
            " conv2d_41 (Conv2D)          (None, 2, 2, 160)            25600     ['tf.__operators__.getitem_40[\n",
            "                                                                    0][0]']                       \n",
            "                                                                                                  \n",
            " conv2d_42 (Conv2D)          (None, 2, 2, 160)            25600     ['tf.__operators__.getitem_41[\n",
            "                                                                    0][0]']                       \n",
            "                                                                                                  \n",
            " concatenate_15 (Concatenat  (None, 2, 2, 480)            0         ['conv2d_40[0][0]',           \n",
            " e)                                                                  'conv2d_41[0][0]',           \n",
            "                                                                     'conv2d_42[0][0]']           \n",
            "                                                                                                  \n",
            " batch_normalization_21 (Ba  (None, 2, 2, 480)            1920      ['concatenate_15[0][0]']      \n",
            " tchNormalization)                                                                                \n",
            "                                                                                                  \n",
            " add_4 (Add)                 (None, 2, 2, 480)            0         ['tf.reshape_11[0][0]',       \n",
            "                                                                     'batch_normalization_21[0][0]\n",
            "                                                                    ']                            \n",
            "                                                                                                  \n",
            " re_lu_14 (ReLU)             (None, 2, 2, 480)            0         ['add_4[0][0]']               \n",
            "                                                                                                  \n",
            " tf.reshape_12 (TFOpLambda)  (None, 2, 2, 3, 160)         0         ['re_lu_14[0][0]']            \n",
            "                                                                                                  \n",
            " tf.compat.v1.transpose_6 (  (None, 2, 2, 160, 3)         0         ['tf.reshape_12[0][0]']       \n",
            " TFOpLambda)                                                                                      \n",
            "                                                                                                  \n",
            " tf.reshape_13 (TFOpLambda)  (None, 2, 2, 480)            0         ['tf.compat.v1.transpose_6[0][\n",
            "                                                                    0]']                          \n",
            "                                                                                                  \n",
            " tf.__operators__.getitem_4  (None, 2, 2, 160)            0         ['tf.reshape_13[0][0]']       \n",
            " 2 (SlicingOpLambda)                                                                              \n",
            "                                                                                                  \n",
            " tf.__operators__.getitem_4  (None, 2, 2, 160)            0         ['tf.reshape_13[0][0]']       \n",
            " 3 (SlicingOpLambda)                                                                              \n",
            "                                                                                                  \n",
            " tf.__operators__.getitem_4  (None, 2, 2, 160)            0         ['tf.reshape_13[0][0]']       \n",
            " 4 (SlicingOpLambda)                                                                              \n",
            "                                                                                                  \n",
            " conv2d_43 (Conv2D)          (None, 2, 2, 160)            25600     ['tf.__operators__.getitem_42[\n",
            "                                                                    0][0]']                       \n",
            "                                                                                                  \n",
            " conv2d_44 (Conv2D)          (None, 2, 2, 160)            25600     ['tf.__operators__.getitem_43[\n",
            "                                                                    0][0]']                       \n",
            "                                                                                                  \n",
            " conv2d_45 (Conv2D)          (None, 2, 2, 160)            25600     ['tf.__operators__.getitem_44[\n",
            "                                                                    0][0]']                       \n",
            "                                                                                                  \n",
            " concatenate_16 (Concatenat  (None, 2, 2, 480)            0         ['conv2d_43[0][0]',           \n",
            " e)                                                                  'conv2d_44[0][0]',           \n",
            "                                                                     'conv2d_45[0][0]']           \n",
            "                                                                                                  \n",
            " batch_normalization_22 (Ba  (None, 2, 2, 480)            1920      ['concatenate_16[0][0]']      \n",
            " tchNormalization)                                                                                \n",
            "                                                                                                  \n",
            " re_lu_15 (ReLU)             (None, 2, 2, 480)            0         ['batch_normalization_22[0][0]\n",
            "                                                                    ']                            \n",
            "                                                                                                  \n",
            " depthwise_conv2d_7 (Depthw  (None, 1, 1, 480)            4320      ['re_lu_15[0][0]']            \n",
            " iseConv2D)                                                                                       \n",
            "                                                                                                  \n",
            " batch_normalization_23 (Ba  (None, 1, 1, 480)            1920      ['depthwise_conv2d_7[0][0]']  \n",
            " tchNormalization)                                                                                \n",
            "                                                                                                  \n",
            " tf.__operators__.getitem_4  (None, 1, 1, 160)            0         ['batch_normalization_23[0][0]\n",
            " 5 (SlicingOpLambda)                                                ']                            \n",
            "                                                                                                  \n",
            " tf.__operators__.getitem_4  (None, 1, 1, 160)            0         ['batch_normalization_23[0][0]\n",
            " 6 (SlicingOpLambda)                                                ']                            \n",
            "                                                                                                  \n",
            " tf.__operators__.getitem_4  (None, 1, 1, 160)            0         ['batch_normalization_23[0][0]\n",
            " 7 (SlicingOpLambda)                                                ']                            \n",
            "                                                                                                  \n",
            " conv2d_46 (Conv2D)          (None, 1, 1, 160)            25600     ['tf.__operators__.getitem_45[\n",
            "                                                                    0][0]']                       \n",
            "                                                                                                  \n",
            " conv2d_47 (Conv2D)          (None, 1, 1, 160)            25600     ['tf.__operators__.getitem_46[\n",
            "                                                                    0][0]']                       \n",
            "                                                                                                  \n",
            " conv2d_48 (Conv2D)          (None, 1, 1, 160)            25600     ['tf.__operators__.getitem_47[\n",
            "                                                                    0][0]']                       \n",
            "                                                                                                  \n",
            " concatenate_17 (Concatenat  (None, 1, 1, 480)            0         ['conv2d_46[0][0]',           \n",
            " e)                                                                  'conv2d_47[0][0]',           \n",
            "                                                                     'conv2d_48[0][0]']           \n",
            "                                                                                                  \n",
            " batch_normalization_24 (Ba  (None, 1, 1, 480)            1920      ['concatenate_17[0][0]']      \n",
            " tchNormalization)                                                                                \n",
            "                                                                                                  \n",
            " average_pooling2d_2 (Avera  (None, 1, 1, 480)            0         ['tf.reshape_13[0][0]']       \n",
            " gePooling2D)                                                                                     \n",
            "                                                                                                  \n",
            " concatenate_18 (Concatenat  (None, 1, 1, 960)            0         ['batch_normalization_24[0][0]\n",
            " e)                                                                 ',                            \n",
            "                                                                     'average_pooling2d_2[0][0]'] \n",
            "                                                                                                  \n",
            " re_lu_16 (ReLU)             (None, 1, 1, 960)            0         ['concatenate_18[0][0]']      \n",
            "                                                                                                  \n",
            " tf.reshape_14 (TFOpLambda)  (None, 1, 1, 3, 320)         0         ['re_lu_16[0][0]']            \n",
            "                                                                                                  \n",
            " tf.compat.v1.transpose_7 (  (None, 1, 1, 320, 3)         0         ['tf.reshape_14[0][0]']       \n",
            " TFOpLambda)                                                                                      \n",
            "                                                                                                  \n",
            " tf.reshape_15 (TFOpLambda)  (None, 1, 1, 960)            0         ['tf.compat.v1.transpose_7[0][\n",
            "                                                                    0]']                          \n",
            "                                                                                                  \n",
            " tf.__operators__.getitem_4  (None, 1, 1, 320)            0         ['tf.reshape_15[0][0]']       \n",
            " 8 (SlicingOpLambda)                                                                              \n",
            "                                                                                                  \n",
            " tf.__operators__.getitem_4  (None, 1, 1, 320)            0         ['tf.reshape_15[0][0]']       \n",
            " 9 (SlicingOpLambda)                                                                              \n",
            "                                                                                                  \n",
            " tf.__operators__.getitem_5  (None, 1, 1, 320)            0         ['tf.reshape_15[0][0]']       \n",
            " 0 (SlicingOpLambda)                                                                              \n",
            "                                                                                                  \n",
            " conv2d_49 (Conv2D)          (None, 1, 1, 320)            102400    ['tf.__operators__.getitem_48[\n",
            "                                                                    0][0]']                       \n",
            "                                                                                                  \n",
            " conv2d_50 (Conv2D)          (None, 1, 1, 320)            102400    ['tf.__operators__.getitem_49[\n",
            "                                                                    0][0]']                       \n",
            "                                                                                                  \n",
            " conv2d_51 (Conv2D)          (None, 1, 1, 320)            102400    ['tf.__operators__.getitem_50[\n",
            "                                                                    0][0]']                       \n",
            "                                                                                                  \n",
            " concatenate_19 (Concatenat  (None, 1, 1, 960)            0         ['conv2d_49[0][0]',           \n",
            " e)                                                                  'conv2d_50[0][0]',           \n",
            "                                                                     'conv2d_51[0][0]']           \n",
            "                                                                                                  \n",
            " batch_normalization_25 (Ba  (None, 1, 1, 960)            3840      ['concatenate_19[0][0]']      \n",
            " tchNormalization)                                                                                \n",
            "                                                                                                  \n",
            " re_lu_17 (ReLU)             (None, 1, 1, 960)            0         ['batch_normalization_25[0][0]\n",
            "                                                                    ']                            \n",
            "                                                                                                  \n",
            " depthwise_conv2d_8 (Depthw  (None, 1, 1, 960)            8640      ['re_lu_17[0][0]']            \n",
            " iseConv2D)                                                                                       \n",
            "                                                                                                  \n",
            " batch_normalization_26 (Ba  (None, 1, 1, 960)            3840      ['depthwise_conv2d_8[0][0]']  \n",
            " tchNormalization)                                                                                \n",
            "                                                                                                  \n",
            " tf.__operators__.getitem_5  (None, 1, 1, 320)            0         ['batch_normalization_26[0][0]\n",
            " 1 (SlicingOpLambda)                                                ']                            \n",
            "                                                                                                  \n",
            " tf.__operators__.getitem_5  (None, 1, 1, 320)            0         ['batch_normalization_26[0][0]\n",
            " 2 (SlicingOpLambda)                                                ']                            \n",
            "                                                                                                  \n",
            " tf.__operators__.getitem_5  (None, 1, 1, 320)            0         ['batch_normalization_26[0][0]\n",
            " 3 (SlicingOpLambda)                                                ']                            \n",
            "                                                                                                  \n",
            " conv2d_52 (Conv2D)          (None, 1, 1, 320)            102400    ['tf.__operators__.getitem_51[\n",
            "                                                                    0][0]']                       \n",
            "                                                                                                  \n",
            " conv2d_53 (Conv2D)          (None, 1, 1, 320)            102400    ['tf.__operators__.getitem_52[\n",
            "                                                                    0][0]']                       \n",
            "                                                                                                  \n",
            " conv2d_54 (Conv2D)          (None, 1, 1, 320)            102400    ['tf.__operators__.getitem_53[\n",
            "                                                                    0][0]']                       \n",
            "                                                                                                  \n",
            " concatenate_20 (Concatenat  (None, 1, 1, 960)            0         ['conv2d_52[0][0]',           \n",
            " e)                                                                  'conv2d_53[0][0]',           \n",
            "                                                                     'conv2d_54[0][0]']           \n",
            "                                                                                                  \n",
            " batch_normalization_27 (Ba  (None, 1, 1, 960)            3840      ['concatenate_20[0][0]']      \n",
            " tchNormalization)                                                                                \n",
            "                                                                                                  \n",
            " add_5 (Add)                 (None, 1, 1, 960)            0         ['tf.reshape_15[0][0]',       \n",
            "                                                                     'batch_normalization_27[0][0]\n",
            "                                                                    ']                            \n",
            "                                                                                                  \n",
            " re_lu_18 (ReLU)             (None, 1, 1, 960)            0         ['add_5[0][0]']               \n",
            "                                                                                                  \n",
            " tf.reshape_16 (TFOpLambda)  (None, 1, 1, 3, 320)         0         ['re_lu_18[0][0]']            \n",
            "                                                                                                  \n",
            " tf.compat.v1.transpose_8 (  (None, 1, 1, 320, 3)         0         ['tf.reshape_16[0][0]']       \n",
            " TFOpLambda)                                                                                      \n",
            "                                                                                                  \n",
            " tf.reshape_17 (TFOpLambda)  (None, 1, 1, 960)            0         ['tf.compat.v1.transpose_8[0][\n",
            "                                                                    0]']                          \n",
            "                                                                                                  \n",
            " tf.__operators__.getitem_5  (None, 1, 1, 320)            0         ['tf.reshape_17[0][0]']       \n",
            " 4 (SlicingOpLambda)                                                                              \n",
            "                                                                                                  \n",
            " tf.__operators__.getitem_5  (None, 1, 1, 320)            0         ['tf.reshape_17[0][0]']       \n",
            " 5 (SlicingOpLambda)                                                                              \n",
            "                                                                                                  \n",
            " tf.__operators__.getitem_5  (None, 1, 1, 320)            0         ['tf.reshape_17[0][0]']       \n",
            " 6 (SlicingOpLambda)                                                                              \n",
            "                                                                                                  \n",
            " conv2d_55 (Conv2D)          (None, 1, 1, 320)            102400    ['tf.__operators__.getitem_54[\n",
            "                                                                    0][0]']                       \n",
            "                                                                                                  \n",
            " conv2d_56 (Conv2D)          (None, 1, 1, 320)            102400    ['tf.__operators__.getitem_55[\n",
            "                                                                    0][0]']                       \n",
            "                                                                                                  \n",
            " conv2d_57 (Conv2D)          (None, 1, 1, 320)            102400    ['tf.__operators__.getitem_56[\n",
            "                                                                    0][0]']                       \n",
            "                                                                                                  \n",
            " concatenate_21 (Concatenat  (None, 1, 1, 960)            0         ['conv2d_55[0][0]',           \n",
            " e)                                                                  'conv2d_56[0][0]',           \n",
            "                                                                     'conv2d_57[0][0]']           \n",
            "                                                                                                  \n",
            " batch_normalization_28 (Ba  (None, 1, 1, 960)            3840      ['concatenate_21[0][0]']      \n",
            " tchNormalization)                                                                                \n",
            "                                                                                                  \n",
            " re_lu_19 (ReLU)             (None, 1, 1, 960)            0         ['batch_normalization_28[0][0]\n",
            "                                                                    ']                            \n",
            "                                                                                                  \n",
            " depthwise_conv2d_9 (Depthw  (None, 1, 1, 960)            8640      ['re_lu_19[0][0]']            \n",
            " iseConv2D)                                                                                       \n",
            "                                                                                                  \n",
            " batch_normalization_29 (Ba  (None, 1, 1, 960)            3840      ['depthwise_conv2d_9[0][0]']  \n",
            " tchNormalization)                                                                                \n",
            "                                                                                                  \n",
            " tf.__operators__.getitem_5  (None, 1, 1, 320)            0         ['batch_normalization_29[0][0]\n",
            " 7 (SlicingOpLambda)                                                ']                            \n",
            "                                                                                                  \n",
            " tf.__operators__.getitem_5  (None, 1, 1, 320)            0         ['batch_normalization_29[0][0]\n",
            " 8 (SlicingOpLambda)                                                ']                            \n",
            "                                                                                                  \n",
            " tf.__operators__.getitem_5  (None, 1, 1, 320)            0         ['batch_normalization_29[0][0]\n",
            " 9 (SlicingOpLambda)                                                ']                            \n",
            "                                                                                                  \n",
            " conv2d_58 (Conv2D)          (None, 1, 1, 320)            102400    ['tf.__operators__.getitem_57[\n",
            "                                                                    0][0]']                       \n",
            "                                                                                                  \n",
            " conv2d_59 (Conv2D)          (None, 1, 1, 320)            102400    ['tf.__operators__.getitem_58[\n",
            "                                                                    0][0]']                       \n",
            "                                                                                                  \n",
            " conv2d_60 (Conv2D)          (None, 1, 1, 320)            102400    ['tf.__operators__.getitem_59[\n",
            "                                                                    0][0]']                       \n",
            "                                                                                                  \n",
            " concatenate_22 (Concatenat  (None, 1, 1, 960)            0         ['conv2d_58[0][0]',           \n",
            " e)                                                                  'conv2d_59[0][0]',           \n",
            "                                                                     'conv2d_60[0][0]']           \n",
            "                                                                                                  \n",
            " batch_normalization_30 (Ba  (None, 1, 1, 960)            3840      ['concatenate_22[0][0]']      \n",
            " tchNormalization)                                                                                \n",
            "                                                                                                  \n",
            " add_6 (Add)                 (None, 1, 1, 960)            0         ['tf.reshape_17[0][0]',       \n",
            "                                                                     'batch_normalization_30[0][0]\n",
            "                                                                    ']                            \n",
            "                                                                                                  \n",
            " re_lu_20 (ReLU)             (None, 1, 1, 960)            0         ['add_6[0][0]']               \n",
            "                                                                                                  \n",
            " tf.reshape_18 (TFOpLambda)  (None, 1, 1, 3, 320)         0         ['re_lu_20[0][0]']            \n",
            "                                                                                                  \n",
            " tf.compat.v1.transpose_9 (  (None, 1, 1, 320, 3)         0         ['tf.reshape_18[0][0]']       \n",
            " TFOpLambda)                                                                                      \n",
            "                                                                                                  \n",
            " tf.reshape_19 (TFOpLambda)  (None, 1, 1, 960)            0         ['tf.compat.v1.transpose_9[0][\n",
            "                                                                    0]']                          \n",
            "                                                                                                  \n",
            " tf.__operators__.getitem_6  (None, 1, 1, 320)            0         ['tf.reshape_19[0][0]']       \n",
            " 0 (SlicingOpLambda)                                                                              \n",
            "                                                                                                  \n",
            " tf.__operators__.getitem_6  (None, 1, 1, 320)            0         ['tf.reshape_19[0][0]']       \n",
            " 1 (SlicingOpLambda)                                                                              \n",
            "                                                                                                  \n",
            " tf.__operators__.getitem_6  (None, 1, 1, 320)            0         ['tf.reshape_19[0][0]']       \n",
            " 2 (SlicingOpLambda)                                                                              \n",
            "                                                                                                  \n",
            " conv2d_61 (Conv2D)          (None, 1, 1, 320)            102400    ['tf.__operators__.getitem_60[\n",
            "                                                                    0][0]']                       \n",
            "                                                                                                  \n",
            " conv2d_62 (Conv2D)          (None, 1, 1, 320)            102400    ['tf.__operators__.getitem_61[\n",
            "                                                                    0][0]']                       \n",
            "                                                                                                  \n",
            " conv2d_63 (Conv2D)          (None, 1, 1, 320)            102400    ['tf.__operators__.getitem_62[\n",
            "                                                                    0][0]']                       \n",
            "                                                                                                  \n",
            " concatenate_23 (Concatenat  (None, 1, 1, 960)            0         ['conv2d_61[0][0]',           \n",
            " e)                                                                  'conv2d_62[0][0]',           \n",
            "                                                                     'conv2d_63[0][0]']           \n",
            "                                                                                                  \n",
            " batch_normalization_31 (Ba  (None, 1, 1, 960)            3840      ['concatenate_23[0][0]']      \n",
            " tchNormalization)                                                                                \n",
            "                                                                                                  \n",
            " re_lu_21 (ReLU)             (None, 1, 1, 960)            0         ['batch_normalization_31[0][0]\n",
            "                                                                    ']                            \n",
            "                                                                                                  \n",
            " depthwise_conv2d_10 (Depth  (None, 1, 1, 960)            8640      ['re_lu_21[0][0]']            \n",
            " wiseConv2D)                                                                                      \n",
            "                                                                                                  \n",
            " batch_normalization_32 (Ba  (None, 1, 1, 960)            3840      ['depthwise_conv2d_10[0][0]'] \n",
            " tchNormalization)                                                                                \n",
            "                                                                                                  \n",
            " tf.__operators__.getitem_6  (None, 1, 1, 320)            0         ['batch_normalization_32[0][0]\n",
            " 3 (SlicingOpLambda)                                                ']                            \n",
            "                                                                                                  \n",
            " tf.__operators__.getitem_6  (None, 1, 1, 320)            0         ['batch_normalization_32[0][0]\n",
            " 4 (SlicingOpLambda)                                                ']                            \n",
            "                                                                                                  \n",
            " tf.__operators__.getitem_6  (None, 1, 1, 320)            0         ['batch_normalization_32[0][0]\n",
            " 5 (SlicingOpLambda)                                                ']                            \n",
            "                                                                                                  \n",
            " conv2d_64 (Conv2D)          (None, 1, 1, 320)            102400    ['tf.__operators__.getitem_63[\n",
            "                                                                    0][0]']                       \n",
            "                                                                                                  \n",
            " conv2d_65 (Conv2D)          (None, 1, 1, 320)            102400    ['tf.__operators__.getitem_64[\n",
            "                                                                    0][0]']                       \n",
            "                                                                                                  \n",
            " conv2d_66 (Conv2D)          (None, 1, 1, 320)            102400    ['tf.__operators__.getitem_65[\n",
            "                                                                    0][0]']                       \n",
            "                                                                                                  \n",
            " concatenate_24 (Concatenat  (None, 1, 1, 960)            0         ['conv2d_64[0][0]',           \n",
            " e)                                                                  'conv2d_65[0][0]',           \n",
            "                                                                     'conv2d_66[0][0]']           \n",
            "                                                                                                  \n",
            " batch_normalization_33 (Ba  (None, 1, 1, 960)            3840      ['concatenate_24[0][0]']      \n",
            " tchNormalization)                                                                                \n",
            "                                                                                                  \n",
            " add_7 (Add)                 (None, 1, 1, 960)            0         ['tf.reshape_19[0][0]',       \n",
            "                                                                     'batch_normalization_33[0][0]\n",
            "                                                                    ']                            \n",
            "                                                                                                  \n",
            " re_lu_22 (ReLU)             (None, 1, 1, 960)            0         ['add_7[0][0]']               \n",
            "                                                                                                  \n",
            " tf.reshape_20 (TFOpLambda)  (None, 1, 1, 3, 320)         0         ['re_lu_22[0][0]']            \n",
            "                                                                                                  \n",
            " tf.compat.v1.transpose_10   (None, 1, 1, 320, 3)         0         ['tf.reshape_20[0][0]']       \n",
            " (TFOpLambda)                                                                                     \n",
            "                                                                                                  \n",
            " tf.reshape_21 (TFOpLambda)  (None, 1, 1, 960)            0         ['tf.compat.v1.transpose_10[0]\n",
            "                                                                    [0]']                         \n",
            "                                                                                                  \n",
            " global_average_pooling2d (  (None, 960)                  0         ['tf.reshape_21[0][0]']       \n",
            " GlobalAveragePooling2D)                                                                          \n",
            "                                                                                                  \n",
            " dense (Dense)               (None, 2)                    1922      ['global_average_pooling2d[0][\n",
            "                                                                    0]']                          \n",
            "                                                                                                  \n",
            "==================================================================================================\n",
            "Total params: 2694146 (10.28 MB)\n",
            "Trainable params: 2660450 (10.15 MB)\n",
            "Non-trainable params: 33696 (131.62 KB)\n",
            "__________________________________________________________________________________________________\n"
          ]
        }
      ]
    },
    {
      "cell_type": "code",
      "source": [
        "from keras.callbacks import EarlyStopping\n",
        "\n",
        "es = EarlyStopping(patience= 8, restore_best_weights=True, monitor=\"val_accuraccy\")\n",
        "#I did not use cross validation, so the validate performance is not accurate.\n",
        "STEPS = len(X_train) / 256\n",
        "history = model.fit(aug.flow(X_train,Y_train,batch_size = 256), steps_per_epoch=STEPS, batch_size = 256, epochs= 50, validation_data=(X_val, Y_val),callbacks=[es])"
      ],
      "metadata": {
        "colab": {
          "base_uri": "https://localhost:8080/"
        },
        "id": "nWdYUUP9ncVz",
        "outputId": "28e2d422-0b4c-4132-8172-7fe3373c1238"
      },
      "execution_count": 13,
      "outputs": [
        {
          "output_type": "stream",
          "name": "stdout",
          "text": [
            "Epoch 1/50\n",
            "239/238 [==============================] - ETA: 0s - loss: 0.7802 - accuracy: 0.6058 - f1_m: 0.6056 - precision_m: 0.6056 - recall_m: 0.6056"
          ]
        },
        {
          "output_type": "stream",
          "name": "stderr",
          "text": [
            "WARNING:tensorflow:Early stopping conditioned on metric `val_accuraccy` which is not available. Available metrics are: loss,accuracy,f1_m,precision_m,recall_m,val_loss,val_accuracy,val_f1_m,val_precision_m,val_recall_m\n"
          ]
        },
        {
          "output_type": "stream",
          "name": "stdout",
          "text": [
            "\b\b\b\b\b\b\b\b\b\b\b\b\b\b\b\b\b\b\b\b\b\b\b\b\b\b\b\b\b\b\b\b\b\b\b\b\b\b\b\b\b\b\b\b\b\b\b\b\b\b\b\b\b\b\b\b\b\b\b\b\b\b\b\b\b\b\b\b\b\b\b\b\b\b\b\b\b\b\b\b\b\b\b\b\b\b\b\b\b\b\b\b\b\b\b\b\b\b\b\b\b\b\b\b\b\b\b\b\b\b\b\b\b\b\b\b\b\b\b\b\b\b\b\b\b\b\b\b\b\b\b\b\b\b\b\b\b\b\b\b\r238/238 [==============================] - 57s 119ms/step - loss: 0.7802 - accuracy: 0.6058 - f1_m: 0.6056 - precision_m: 0.6056 - recall_m: 0.6056 - val_loss: 0.6976 - val_accuracy: 0.4790 - val_f1_m: 0.4790 - val_precision_m: 0.4790 - val_recall_m: 0.4790\n",
            "Epoch 2/50\n",
            "239/238 [==============================] - ETA: 0s - loss: 0.5562 - accuracy: 0.7148 - f1_m: 0.7148 - precision_m: 0.7148 - recall_m: 0.7148"
          ]
        },
        {
          "output_type": "stream",
          "name": "stderr",
          "text": [
            "WARNING:tensorflow:Early stopping conditioned on metric `val_accuraccy` which is not available. Available metrics are: loss,accuracy,f1_m,precision_m,recall_m,val_loss,val_accuracy,val_f1_m,val_precision_m,val_recall_m\n"
          ]
        },
        {
          "output_type": "stream",
          "name": "stdout",
          "text": [
            "\b\b\b\b\b\b\b\b\b\b\b\b\b\b\b\b\b\b\b\b\b\b\b\b\b\b\b\b\b\b\b\b\b\b\b\b\b\b\b\b\b\b\b\b\b\b\b\b\b\b\b\b\b\b\b\b\b\b\b\b\b\b\b\b\b\b\b\b\b\b\b\b\b\b\b\b\b\b\b\b\b\b\b\b\b\b\b\b\b\b\b\b\b\b\b\b\b\b\b\b\b\b\b\b\b\b\b\b\b\b\b\b\b\b\b\b\b\b\b\b\b\b\b\b\b\b\b\b\b\b\b\b\b\b\b\b\b\b\b\b\r238/238 [==============================] - 26s 107ms/step - loss: 0.5562 - accuracy: 0.7148 - f1_m: 0.7148 - precision_m: 0.7148 - recall_m: 0.7148 - val_loss: 0.7231 - val_accuracy: 0.4790 - val_f1_m: 0.4790 - val_precision_m: 0.4790 - val_recall_m: 0.4790\n",
            "Epoch 3/50\n",
            "239/238 [==============================] - ETA: 0s - loss: 0.4452 - accuracy: 0.7867 - f1_m: 0.7868 - precision_m: 0.7868 - recall_m: 0.7868"
          ]
        },
        {
          "output_type": "stream",
          "name": "stderr",
          "text": [
            "WARNING:tensorflow:Early stopping conditioned on metric `val_accuraccy` which is not available. Available metrics are: loss,accuracy,f1_m,precision_m,recall_m,val_loss,val_accuracy,val_f1_m,val_precision_m,val_recall_m\n"
          ]
        },
        {
          "output_type": "stream",
          "name": "stdout",
          "text": [
            "\b\b\b\b\b\b\b\b\b\b\b\b\b\b\b\b\b\b\b\b\b\b\b\b\b\b\b\b\b\b\b\b\b\b\b\b\b\b\b\b\b\b\b\b\b\b\b\b\b\b\b\b\b\b\b\b\b\b\b\b\b\b\b\b\b\b\b\b\b\b\b\b\b\b\b\b\b\b\b\b\b\b\b\b\b\b\b\b\b\b\b\b\b\b\b\b\b\b\b\b\b\b\b\b\b\b\b\b\b\b\b\b\b\b\b\b\b\b\b\b\b\b\b\b\b\b\b\b\b\b\b\b\b\b\b\b\b\b\b\b\r238/238 [==============================] - 26s 109ms/step - loss: 0.4452 - accuracy: 0.7867 - f1_m: 0.7868 - precision_m: 0.7868 - recall_m: 0.7868 - val_loss: 0.4989 - val_accuracy: 0.7421 - val_f1_m: 0.7420 - val_precision_m: 0.7420 - val_recall_m: 0.7420\n",
            "Epoch 4/50\n",
            "239/238 [==============================] - ETA: 0s - loss: 0.3953 - accuracy: 0.8217 - f1_m: 0.8217 - precision_m: 0.8217 - recall_m: 0.8217"
          ]
        },
        {
          "output_type": "stream",
          "name": "stderr",
          "text": [
            "WARNING:tensorflow:Early stopping conditioned on metric `val_accuraccy` which is not available. Available metrics are: loss,accuracy,f1_m,precision_m,recall_m,val_loss,val_accuracy,val_f1_m,val_precision_m,val_recall_m\n"
          ]
        },
        {
          "output_type": "stream",
          "name": "stdout",
          "text": [
            "\b\b\b\b\b\b\b\b\b\b\b\b\b\b\b\b\b\b\b\b\b\b\b\b\b\b\b\b\b\b\b\b\b\b\b\b\b\b\b\b\b\b\b\b\b\b\b\b\b\b\b\b\b\b\b\b\b\b\b\b\b\b\b\b\b\b\b\b\b\b\b\b\b\b\b\b\b\b\b\b\b\b\b\b\b\b\b\b\b\b\b\b\b\b\b\b\b\b\b\b\b\b\b\b\b\b\b\b\b\b\b\b\b\b\b\b\b\b\b\b\b\b\b\b\b\b\b\b\b\b\b\b\b\b\b\b\b\b\b\b\r238/238 [==============================] - 42s 177ms/step - loss: 0.3953 - accuracy: 0.8217 - f1_m: 0.8217 - precision_m: 0.8217 - recall_m: 0.8217 - val_loss: 0.5109 - val_accuracy: 0.7749 - val_f1_m: 0.7749 - val_precision_m: 0.7749 - val_recall_m: 0.7749\n",
            "Epoch 5/50\n",
            "239/238 [==============================] - ETA: 0s - loss: 0.3477 - accuracy: 0.8437 - f1_m: 0.8437 - precision_m: 0.8437 - recall_m: 0.8437"
          ]
        },
        {
          "output_type": "stream",
          "name": "stderr",
          "text": [
            "WARNING:tensorflow:Early stopping conditioned on metric `val_accuraccy` which is not available. Available metrics are: loss,accuracy,f1_m,precision_m,recall_m,val_loss,val_accuracy,val_f1_m,val_precision_m,val_recall_m\n"
          ]
        },
        {
          "output_type": "stream",
          "name": "stdout",
          "text": [
            "\b\b\b\b\b\b\b\b\b\b\b\b\b\b\b\b\b\b\b\b\b\b\b\b\b\b\b\b\b\b\b\b\b\b\b\b\b\b\b\b\b\b\b\b\b\b\b\b\b\b\b\b\b\b\b\b\b\b\b\b\b\b\b\b\b\b\b\b\b\b\b\b\b\b\b\b\b\b\b\b\b\b\b\b\b\b\b\b\b\b\b\b\b\b\b\b\b\b\b\b\b\b\b\b\b\b\b\b\b\b\b\b\b\b\b\b\b\b\b\b\b\b\b\b\b\b\b\b\b\b\b\b\b\b\b\b\b\b\b\b\r238/238 [==============================] - 25s 106ms/step - loss: 0.3477 - accuracy: 0.8437 - f1_m: 0.8437 - precision_m: 0.8437 - recall_m: 0.8437 - val_loss: 0.3912 - val_accuracy: 0.8321 - val_f1_m: 0.8319 - val_precision_m: 0.8319 - val_recall_m: 0.8319\n",
            "Epoch 6/50\n",
            "239/238 [==============================] - ETA: 0s - loss: 0.3186 - accuracy: 0.8580 - f1_m: 0.8580 - precision_m: 0.8580 - recall_m: 0.8580"
          ]
        },
        {
          "output_type": "stream",
          "name": "stderr",
          "text": [
            "WARNING:tensorflow:Early stopping conditioned on metric `val_accuraccy` which is not available. Available metrics are: loss,accuracy,f1_m,precision_m,recall_m,val_loss,val_accuracy,val_f1_m,val_precision_m,val_recall_m\n"
          ]
        },
        {
          "output_type": "stream",
          "name": "stdout",
          "text": [
            "\b\b\b\b\b\b\b\b\b\b\b\b\b\b\b\b\b\b\b\b\b\b\b\b\b\b\b\b\b\b\b\b\b\b\b\b\b\b\b\b\b\b\b\b\b\b\b\b\b\b\b\b\b\b\b\b\b\b\b\b\b\b\b\b\b\b\b\b\b\b\b\b\b\b\b\b\b\b\b\b\b\b\b\b\b\b\b\b\b\b\b\b\b\b\b\b\b\b\b\b\b\b\b\b\b\b\b\b\b\b\b\b\b\b\b\b\b\b\b\b\b\b\b\b\b\b\b\b\b\b\b\b\b\b\b\b\b\b\b\b\r238/238 [==============================] - 25s 105ms/step - loss: 0.3186 - accuracy: 0.8580 - f1_m: 0.8580 - precision_m: 0.8580 - recall_m: 0.8580 - val_loss: 0.3360 - val_accuracy: 0.8491 - val_f1_m: 0.8491 - val_precision_m: 0.8491 - val_recall_m: 0.8491\n",
            "Epoch 7/50\n",
            "239/238 [==============================] - ETA: 0s - loss: 0.3021 - accuracy: 0.8675 - f1_m: 0.8675 - precision_m: 0.8675 - recall_m: 0.8675"
          ]
        },
        {
          "output_type": "stream",
          "name": "stderr",
          "text": [
            "WARNING:tensorflow:Early stopping conditioned on metric `val_accuraccy` which is not available. Available metrics are: loss,accuracy,f1_m,precision_m,recall_m,val_loss,val_accuracy,val_f1_m,val_precision_m,val_recall_m\n"
          ]
        },
        {
          "output_type": "stream",
          "name": "stdout",
          "text": [
            "\b\b\b\b\b\b\b\b\b\b\b\b\b\b\b\b\b\b\b\b\b\b\b\b\b\b\b\b\b\b\b\b\b\b\b\b\b\b\b\b\b\b\b\b\b\b\b\b\b\b\b\b\b\b\b\b\b\b\b\b\b\b\b\b\b\b\b\b\b\b\b\b\b\b\b\b\b\b\b\b\b\b\b\b\b\b\b\b\b\b\b\b\b\b\b\b\b\b\b\b\b\b\b\b\b\b\b\b\b\b\b\b\b\b\b\b\b\b\b\b\b\b\b\b\b\b\b\b\b\b\b\b\b\b\b\b\b\b\b\b\r238/238 [==============================] - 27s 112ms/step - loss: 0.3021 - accuracy: 0.8675 - f1_m: 0.8675 - precision_m: 0.8675 - recall_m: 0.8675 - val_loss: 0.4201 - val_accuracy: 0.8338 - val_f1_m: 0.8338 - val_precision_m: 0.8338 - val_recall_m: 0.8338\n",
            "Epoch 8/50\n",
            "239/238 [==============================] - ETA: 0s - loss: 0.2821 - accuracy: 0.8760 - f1_m: 0.8760 - precision_m: 0.8760 - recall_m: 0.8760"
          ]
        },
        {
          "output_type": "stream",
          "name": "stderr",
          "text": [
            "WARNING:tensorflow:Early stopping conditioned on metric `val_accuraccy` which is not available. Available metrics are: loss,accuracy,f1_m,precision_m,recall_m,val_loss,val_accuracy,val_f1_m,val_precision_m,val_recall_m\n"
          ]
        },
        {
          "output_type": "stream",
          "name": "stdout",
          "text": [
            "\b\b\b\b\b\b\b\b\b\b\b\b\b\b\b\b\b\b\b\b\b\b\b\b\b\b\b\b\b\b\b\b\b\b\b\b\b\b\b\b\b\b\b\b\b\b\b\b\b\b\b\b\b\b\b\b\b\b\b\b\b\b\b\b\b\b\b\b\b\b\b\b\b\b\b\b\b\b\b\b\b\b\b\b\b\b\b\b\b\b\b\b\b\b\b\b\b\b\b\b\b\b\b\b\b\b\b\b\b\b\b\b\b\b\b\b\b\b\b\b\b\b\b\b\b\b\b\b\b\b\b\b\b\b\b\b\b\b\b\b\r238/238 [==============================] - 27s 115ms/step - loss: 0.2821 - accuracy: 0.8760 - f1_m: 0.8760 - precision_m: 0.8760 - recall_m: 0.8760 - val_loss: 0.2703 - val_accuracy: 0.8840 - val_f1_m: 0.8838 - val_precision_m: 0.8838 - val_recall_m: 0.8838\n",
            "Epoch 9/50\n",
            "239/238 [==============================] - ETA: 0s - loss: 0.2725 - accuracy: 0.8813 - f1_m: 0.8813 - precision_m: 0.8813 - recall_m: 0.8813"
          ]
        },
        {
          "output_type": "stream",
          "name": "stderr",
          "text": [
            "WARNING:tensorflow:Early stopping conditioned on metric `val_accuraccy` which is not available. Available metrics are: loss,accuracy,f1_m,precision_m,recall_m,val_loss,val_accuracy,val_f1_m,val_precision_m,val_recall_m\n"
          ]
        },
        {
          "output_type": "stream",
          "name": "stdout",
          "text": [
            "\b\b\b\b\b\b\b\b\b\b\b\b\b\b\b\b\b\b\b\b\b\b\b\b\b\b\b\b\b\b\b\b\b\b\b\b\b\b\b\b\b\b\b\b\b\b\b\b\b\b\b\b\b\b\b\b\b\b\b\b\b\b\b\b\b\b\b\b\b\b\b\b\b\b\b\b\b\b\b\b\b\b\b\b\b\b\b\b\b\b\b\b\b\b\b\b\b\b\b\b\b\b\b\b\b\b\b\b\b\b\b\b\b\b\b\b\b\b\b\b\b\b\b\b\b\b\b\b\b\b\b\b\b\b\b\b\b\b\b\b\r238/238 [==============================] - 24s 102ms/step - loss: 0.2725 - accuracy: 0.8813 - f1_m: 0.8813 - precision_m: 0.8813 - recall_m: 0.8813 - val_loss: 0.3517 - val_accuracy: 0.8545 - val_f1_m: 0.8541 - val_precision_m: 0.8541 - val_recall_m: 0.8541\n",
            "Epoch 10/50\n",
            "239/238 [==============================] - ETA: 0s - loss: 0.2658 - accuracy: 0.8841 - f1_m: 0.8841 - precision_m: 0.8841 - recall_m: 0.8841"
          ]
        },
        {
          "output_type": "stream",
          "name": "stderr",
          "text": [
            "WARNING:tensorflow:Early stopping conditioned on metric `val_accuraccy` which is not available. Available metrics are: loss,accuracy,f1_m,precision_m,recall_m,val_loss,val_accuracy,val_f1_m,val_precision_m,val_recall_m\n"
          ]
        },
        {
          "output_type": "stream",
          "name": "stdout",
          "text": [
            "\b\b\b\b\b\b\b\b\b\b\b\b\b\b\b\b\b\b\b\b\b\b\b\b\b\b\b\b\b\b\b\b\b\b\b\b\b\b\b\b\b\b\b\b\b\b\b\b\b\b\b\b\b\b\b\b\b\b\b\b\b\b\b\b\b\b\b\b\b\b\b\b\b\b\b\b\b\b\b\b\b\b\b\b\b\b\b\b\b\b\b\b\b\b\b\b\b\b\b\b\b\b\b\b\b\b\b\b\b\b\b\b\b\b\b\b\b\b\b\b\b\b\b\b\b\b\b\b\b\b\b\b\b\b\b\b\b\b\b\b\r238/238 [==============================] - 25s 104ms/step - loss: 0.2658 - accuracy: 0.8841 - f1_m: 0.8841 - precision_m: 0.8841 - recall_m: 0.8841 - val_loss: 0.2943 - val_accuracy: 0.8742 - val_f1_m: 0.8738 - val_precision_m: 0.8738 - val_recall_m: 0.8738\n",
            "Epoch 11/50\n",
            "239/238 [==============================] - ETA: 0s - loss: 0.2559 - accuracy: 0.8883 - f1_m: 0.8883 - precision_m: 0.8883 - recall_m: 0.8883"
          ]
        },
        {
          "output_type": "stream",
          "name": "stderr",
          "text": [
            "WARNING:tensorflow:Early stopping conditioned on metric `val_accuraccy` which is not available. Available metrics are: loss,accuracy,f1_m,precision_m,recall_m,val_loss,val_accuracy,val_f1_m,val_precision_m,val_recall_m\n"
          ]
        },
        {
          "output_type": "stream",
          "name": "stdout",
          "text": [
            "\b\b\b\b\b\b\b\b\b\b\b\b\b\b\b\b\b\b\b\b\b\b\b\b\b\b\b\b\b\b\b\b\b\b\b\b\b\b\b\b\b\b\b\b\b\b\b\b\b\b\b\b\b\b\b\b\b\b\b\b\b\b\b\b\b\b\b\b\b\b\b\b\b\b\b\b\b\b\b\b\b\b\b\b\b\b\b\b\b\b\b\b\b\b\b\b\b\b\b\b\b\b\b\b\b\b\b\b\b\b\b\b\b\b\b\b\b\b\b\b\b\b\b\b\b\b\b\b\b\b\b\b\b\b\b\b\b\b\b\b\r238/238 [==============================] - 25s 105ms/step - loss: 0.2559 - accuracy: 0.8883 - f1_m: 0.8883 - precision_m: 0.8883 - recall_m: 0.8883 - val_loss: 0.2875 - val_accuracy: 0.8738 - val_f1_m: 0.8733 - val_precision_m: 0.8733 - val_recall_m: 0.8733\n",
            "Epoch 12/50\n",
            "239/238 [==============================] - ETA: 0s - loss: 0.2452 - accuracy: 0.8945 - f1_m: 0.8945 - precision_m: 0.8945 - recall_m: 0.8945"
          ]
        },
        {
          "output_type": "stream",
          "name": "stderr",
          "text": [
            "WARNING:tensorflow:Early stopping conditioned on metric `val_accuraccy` which is not available. Available metrics are: loss,accuracy,f1_m,precision_m,recall_m,val_loss,val_accuracy,val_f1_m,val_precision_m,val_recall_m\n"
          ]
        },
        {
          "output_type": "stream",
          "name": "stdout",
          "text": [
            "\b\b\b\b\b\b\b\b\b\b\b\b\b\b\b\b\b\b\b\b\b\b\b\b\b\b\b\b\b\b\b\b\b\b\b\b\b\b\b\b\b\b\b\b\b\b\b\b\b\b\b\b\b\b\b\b\b\b\b\b\b\b\b\b\b\b\b\b\b\b\b\b\b\b\b\b\b\b\b\b\b\b\b\b\b\b\b\b\b\b\b\b\b\b\b\b\b\b\b\b\b\b\b\b\b\b\b\b\b\b\b\b\b\b\b\b\b\b\b\b\b\b\b\b\b\b\b\b\b\b\b\b\b\b\b\b\b\b\b\b\r238/238 [==============================] - 26s 107ms/step - loss: 0.2452 - accuracy: 0.8945 - f1_m: 0.8945 - precision_m: 0.8945 - recall_m: 0.8945 - val_loss: 0.3730 - val_accuracy: 0.8476 - val_f1_m: 0.8475 - val_precision_m: 0.8475 - val_recall_m: 0.8475\n",
            "Epoch 13/50\n",
            "239/238 [==============================] - ETA: 0s - loss: 0.2428 - accuracy: 0.8952 - f1_m: 0.8952 - precision_m: 0.8952 - recall_m: 0.8952"
          ]
        },
        {
          "output_type": "stream",
          "name": "stderr",
          "text": [
            "WARNING:tensorflow:Early stopping conditioned on metric `val_accuraccy` which is not available. Available metrics are: loss,accuracy,f1_m,precision_m,recall_m,val_loss,val_accuracy,val_f1_m,val_precision_m,val_recall_m\n"
          ]
        },
        {
          "output_type": "stream",
          "name": "stdout",
          "text": [
            "\b\b\b\b\b\b\b\b\b\b\b\b\b\b\b\b\b\b\b\b\b\b\b\b\b\b\b\b\b\b\b\b\b\b\b\b\b\b\b\b\b\b\b\b\b\b\b\b\b\b\b\b\b\b\b\b\b\b\b\b\b\b\b\b\b\b\b\b\b\b\b\b\b\b\b\b\b\b\b\b\b\b\b\b\b\b\b\b\b\b\b\b\b\b\b\b\b\b\b\b\b\b\b\b\b\b\b\b\b\b\b\b\b\b\b\b\b\b\b\b\b\b\b\b\b\b\b\b\b\b\b\b\b\b\b\b\b\b\b\b\r238/238 [==============================] - 25s 106ms/step - loss: 0.2428 - accuracy: 0.8952 - f1_m: 0.8952 - precision_m: 0.8952 - recall_m: 0.8952 - val_loss: 0.2809 - val_accuracy: 0.8865 - val_f1_m: 0.8862 - val_precision_m: 0.8862 - val_recall_m: 0.8862\n",
            "Epoch 14/50\n",
            "239/238 [==============================] - ETA: 0s - loss: 0.2316 - accuracy: 0.9014 - f1_m: 0.9014 - precision_m: 0.9014 - recall_m: 0.9014"
          ]
        },
        {
          "output_type": "stream",
          "name": "stderr",
          "text": [
            "WARNING:tensorflow:Early stopping conditioned on metric `val_accuraccy` which is not available. Available metrics are: loss,accuracy,f1_m,precision_m,recall_m,val_loss,val_accuracy,val_f1_m,val_precision_m,val_recall_m\n"
          ]
        },
        {
          "output_type": "stream",
          "name": "stdout",
          "text": [
            "\b\b\b\b\b\b\b\b\b\b\b\b\b\b\b\b\b\b\b\b\b\b\b\b\b\b\b\b\b\b\b\b\b\b\b\b\b\b\b\b\b\b\b\b\b\b\b\b\b\b\b\b\b\b\b\b\b\b\b\b\b\b\b\b\b\b\b\b\b\b\b\b\b\b\b\b\b\b\b\b\b\b\b\b\b\b\b\b\b\b\b\b\b\b\b\b\b\b\b\b\b\b\b\b\b\b\b\b\b\b\b\b\b\b\b\b\b\b\b\b\b\b\b\b\b\b\b\b\b\b\b\b\b\b\b\b\b\b\b\b\r238/238 [==============================] - 25s 106ms/step - loss: 0.2316 - accuracy: 0.9014 - f1_m: 0.9014 - precision_m: 0.9014 - recall_m: 0.9014 - val_loss: 0.2423 - val_accuracy: 0.8978 - val_f1_m: 0.8976 - val_precision_m: 0.8976 - val_recall_m: 0.8976\n",
            "Epoch 15/50\n",
            "239/238 [==============================] - ETA: 0s - loss: 0.2245 - accuracy: 0.9039 - f1_m: 0.9039 - precision_m: 0.9039 - recall_m: 0.9039"
          ]
        },
        {
          "output_type": "stream",
          "name": "stderr",
          "text": [
            "WARNING:tensorflow:Early stopping conditioned on metric `val_accuraccy` which is not available. Available metrics are: loss,accuracy,f1_m,precision_m,recall_m,val_loss,val_accuracy,val_f1_m,val_precision_m,val_recall_m\n"
          ]
        },
        {
          "output_type": "stream",
          "name": "stdout",
          "text": [
            "\b\b\b\b\b\b\b\b\b\b\b\b\b\b\b\b\b\b\b\b\b\b\b\b\b\b\b\b\b\b\b\b\b\b\b\b\b\b\b\b\b\b\b\b\b\b\b\b\b\b\b\b\b\b\b\b\b\b\b\b\b\b\b\b\b\b\b\b\b\b\b\b\b\b\b\b\b\b\b\b\b\b\b\b\b\b\b\b\b\b\b\b\b\b\b\b\b\b\b\b\b\b\b\b\b\b\b\b\b\b\b\b\b\b\b\b\b\b\b\b\b\b\b\b\b\b\b\b\b\b\b\b\b\b\b\b\b\b\b\b\r238/238 [==============================] - 26s 110ms/step - loss: 0.2245 - accuracy: 0.9039 - f1_m: 0.9039 - precision_m: 0.9039 - recall_m: 0.9039 - val_loss: 0.2627 - val_accuracy: 0.8905 - val_f1_m: 0.8904 - val_precision_m: 0.8904 - val_recall_m: 0.8904\n",
            "Epoch 16/50\n",
            "239/238 [==============================] - ETA: 0s - loss: 0.2189 - accuracy: 0.9070 - f1_m: 0.9070 - precision_m: 0.9070 - recall_m: 0.9070"
          ]
        },
        {
          "output_type": "stream",
          "name": "stderr",
          "text": [
            "WARNING:tensorflow:Early stopping conditioned on metric `val_accuraccy` which is not available. Available metrics are: loss,accuracy,f1_m,precision_m,recall_m,val_loss,val_accuracy,val_f1_m,val_precision_m,val_recall_m\n"
          ]
        },
        {
          "output_type": "stream",
          "name": "stdout",
          "text": [
            "\b\b\b\b\b\b\b\b\b\b\b\b\b\b\b\b\b\b\b\b\b\b\b\b\b\b\b\b\b\b\b\b\b\b\b\b\b\b\b\b\b\b\b\b\b\b\b\b\b\b\b\b\b\b\b\b\b\b\b\b\b\b\b\b\b\b\b\b\b\b\b\b\b\b\b\b\b\b\b\b\b\b\b\b\b\b\b\b\b\b\b\b\b\b\b\b\b\b\b\b\b\b\b\b\b\b\b\b\b\b\b\b\b\b\b\b\b\b\b\b\b\b\b\b\b\b\b\b\b\b\b\b\b\b\b\b\b\b\b\b\r238/238 [==============================] - 24s 100ms/step - loss: 0.2189 - accuracy: 0.9070 - f1_m: 0.9070 - precision_m: 0.9070 - recall_m: 0.9070 - val_loss: 0.3161 - val_accuracy: 0.8689 - val_f1_m: 0.8685 - val_precision_m: 0.8685 - val_recall_m: 0.8685\n",
            "Epoch 17/50\n",
            "239/238 [==============================] - ETA: 0s - loss: 0.2124 - accuracy: 0.9095 - f1_m: 0.9095 - precision_m: 0.9095 - recall_m: 0.9095"
          ]
        },
        {
          "output_type": "stream",
          "name": "stderr",
          "text": [
            "WARNING:tensorflow:Early stopping conditioned on metric `val_accuraccy` which is not available. Available metrics are: loss,accuracy,f1_m,precision_m,recall_m,val_loss,val_accuracy,val_f1_m,val_precision_m,val_recall_m\n"
          ]
        },
        {
          "output_type": "stream",
          "name": "stdout",
          "text": [
            "\b\b\b\b\b\b\b\b\b\b\b\b\b\b\b\b\b\b\b\b\b\b\b\b\b\b\b\b\b\b\b\b\b\b\b\b\b\b\b\b\b\b\b\b\b\b\b\b\b\b\b\b\b\b\b\b\b\b\b\b\b\b\b\b\b\b\b\b\b\b\b\b\b\b\b\b\b\b\b\b\b\b\b\b\b\b\b\b\b\b\b\b\b\b\b\b\b\b\b\b\b\b\b\b\b\b\b\b\b\b\b\b\b\b\b\b\b\b\b\b\b\b\b\b\b\b\b\b\b\b\b\b\b\b\b\b\b\b\b\b\r238/238 [==============================] - 26s 107ms/step - loss: 0.2124 - accuracy: 0.9095 - f1_m: 0.9095 - precision_m: 0.9095 - recall_m: 0.9095 - val_loss: 0.2476 - val_accuracy: 0.8944 - val_f1_m: 0.8943 - val_precision_m: 0.8943 - val_recall_m: 0.8943\n",
            "Epoch 18/50\n",
            "239/238 [==============================] - ETA: 0s - loss: 0.2109 - accuracy: 0.9111 - f1_m: 0.9111 - precision_m: 0.9111 - recall_m: 0.9111"
          ]
        },
        {
          "output_type": "stream",
          "name": "stderr",
          "text": [
            "WARNING:tensorflow:Early stopping conditioned on metric `val_accuraccy` which is not available. Available metrics are: loss,accuracy,f1_m,precision_m,recall_m,val_loss,val_accuracy,val_f1_m,val_precision_m,val_recall_m\n"
          ]
        },
        {
          "output_type": "stream",
          "name": "stdout",
          "text": [
            "\b\b\b\b\b\b\b\b\b\b\b\b\b\b\b\b\b\b\b\b\b\b\b\b\b\b\b\b\b\b\b\b\b\b\b\b\b\b\b\b\b\b\b\b\b\b\b\b\b\b\b\b\b\b\b\b\b\b\b\b\b\b\b\b\b\b\b\b\b\b\b\b\b\b\b\b\b\b\b\b\b\b\b\b\b\b\b\b\b\b\b\b\b\b\b\b\b\b\b\b\b\b\b\b\b\b\b\b\b\b\b\b\b\b\b\b\b\b\b\b\b\b\b\b\b\b\b\b\b\b\b\b\b\b\b\b\b\b\b\b\r238/238 [==============================] - 25s 106ms/step - loss: 0.2109 - accuracy: 0.9111 - f1_m: 0.9111 - precision_m: 0.9111 - recall_m: 0.9111 - val_loss: 0.2680 - val_accuracy: 0.8894 - val_f1_m: 0.8893 - val_precision_m: 0.8893 - val_recall_m: 0.8893\n",
            "Epoch 19/50\n",
            "239/238 [==============================] - ETA: 0s - loss: 0.2078 - accuracy: 0.9109 - f1_m: 0.9110 - precision_m: 0.9110 - recall_m: 0.9110"
          ]
        },
        {
          "output_type": "stream",
          "name": "stderr",
          "text": [
            "WARNING:tensorflow:Early stopping conditioned on metric `val_accuraccy` which is not available. Available metrics are: loss,accuracy,f1_m,precision_m,recall_m,val_loss,val_accuracy,val_f1_m,val_precision_m,val_recall_m\n"
          ]
        },
        {
          "output_type": "stream",
          "name": "stdout",
          "text": [
            "\b\b\b\b\b\b\b\b\b\b\b\b\b\b\b\b\b\b\b\b\b\b\b\b\b\b\b\b\b\b\b\b\b\b\b\b\b\b\b\b\b\b\b\b\b\b\b\b\b\b\b\b\b\b\b\b\b\b\b\b\b\b\b\b\b\b\b\b\b\b\b\b\b\b\b\b\b\b\b\b\b\b\b\b\b\b\b\b\b\b\b\b\b\b\b\b\b\b\b\b\b\b\b\b\b\b\b\b\b\b\b\b\b\b\b\b\b\b\b\b\b\b\b\b\b\b\b\b\b\b\b\b\b\b\b\b\b\b\b\b\r238/238 [==============================] - 25s 105ms/step - loss: 0.2078 - accuracy: 0.9109 - f1_m: 0.9110 - precision_m: 0.9110 - recall_m: 0.9110 - val_loss: 0.2971 - val_accuracy: 0.8865 - val_f1_m: 0.8863 - val_precision_m: 0.8863 - val_recall_m: 0.8863\n",
            "Epoch 20/50\n",
            "239/238 [==============================] - ETA: 0s - loss: 0.2020 - accuracy: 0.9150 - f1_m: 0.9150 - precision_m: 0.9150 - recall_m: 0.9150"
          ]
        },
        {
          "output_type": "stream",
          "name": "stderr",
          "text": [
            "WARNING:tensorflow:Early stopping conditioned on metric `val_accuraccy` which is not available. Available metrics are: loss,accuracy,f1_m,precision_m,recall_m,val_loss,val_accuracy,val_f1_m,val_precision_m,val_recall_m\n"
          ]
        },
        {
          "output_type": "stream",
          "name": "stdout",
          "text": [
            "\b\b\b\b\b\b\b\b\b\b\b\b\b\b\b\b\b\b\b\b\b\b\b\b\b\b\b\b\b\b\b\b\b\b\b\b\b\b\b\b\b\b\b\b\b\b\b\b\b\b\b\b\b\b\b\b\b\b\b\b\b\b\b\b\b\b\b\b\b\b\b\b\b\b\b\b\b\b\b\b\b\b\b\b\b\b\b\b\b\b\b\b\b\b\b\b\b\b\b\b\b\b\b\b\b\b\b\b\b\b\b\b\b\b\b\b\b\b\b\b\b\b\b\b\b\b\b\b\b\b\b\b\b\b\b\b\b\b\b\b\r238/238 [==============================] - 26s 110ms/step - loss: 0.2020 - accuracy: 0.9150 - f1_m: 0.9150 - precision_m: 0.9150 - recall_m: 0.9150 - val_loss: 0.2335 - val_accuracy: 0.9049 - val_f1_m: 0.9049 - val_precision_m: 0.9049 - val_recall_m: 0.9049\n",
            "Epoch 21/50\n",
            "239/238 [==============================] - ETA: 0s - loss: 0.1949 - accuracy: 0.9176 - f1_m: 0.9176 - precision_m: 0.9176 - recall_m: 0.9176"
          ]
        },
        {
          "output_type": "stream",
          "name": "stderr",
          "text": [
            "WARNING:tensorflow:Early stopping conditioned on metric `val_accuraccy` which is not available. Available metrics are: loss,accuracy,f1_m,precision_m,recall_m,val_loss,val_accuracy,val_f1_m,val_precision_m,val_recall_m\n"
          ]
        },
        {
          "output_type": "stream",
          "name": "stdout",
          "text": [
            "\b\b\b\b\b\b\b\b\b\b\b\b\b\b\b\b\b\b\b\b\b\b\b\b\b\b\b\b\b\b\b\b\b\b\b\b\b\b\b\b\b\b\b\b\b\b\b\b\b\b\b\b\b\b\b\b\b\b\b\b\b\b\b\b\b\b\b\b\b\b\b\b\b\b\b\b\b\b\b\b\b\b\b\b\b\b\b\b\b\b\b\b\b\b\b\b\b\b\b\b\b\b\b\b\b\b\b\b\b\b\b\b\b\b\b\b\b\b\b\b\b\b\b\b\b\b\b\b\b\b\b\b\b\b\b\b\b\b\b\b\r238/238 [==============================] - 25s 105ms/step - loss: 0.1949 - accuracy: 0.9176 - f1_m: 0.9176 - precision_m: 0.9176 - recall_m: 0.9176 - val_loss: 0.2251 - val_accuracy: 0.9062 - val_f1_m: 0.9059 - val_precision_m: 0.9059 - val_recall_m: 0.9059\n",
            "Epoch 22/50\n",
            "239/238 [==============================] - ETA: 0s - loss: 0.1921 - accuracy: 0.9182 - f1_m: 0.9182 - precision_m: 0.9182 - recall_m: 0.9182"
          ]
        },
        {
          "output_type": "stream",
          "name": "stderr",
          "text": [
            "WARNING:tensorflow:Early stopping conditioned on metric `val_accuraccy` which is not available. Available metrics are: loss,accuracy,f1_m,precision_m,recall_m,val_loss,val_accuracy,val_f1_m,val_precision_m,val_recall_m\n"
          ]
        },
        {
          "output_type": "stream",
          "name": "stdout",
          "text": [
            "\b\b\b\b\b\b\b\b\b\b\b\b\b\b\b\b\b\b\b\b\b\b\b\b\b\b\b\b\b\b\b\b\b\b\b\b\b\b\b\b\b\b\b\b\b\b\b\b\b\b\b\b\b\b\b\b\b\b\b\b\b\b\b\b\b\b\b\b\b\b\b\b\b\b\b\b\b\b\b\b\b\b\b\b\b\b\b\b\b\b\b\b\b\b\b\b\b\b\b\b\b\b\b\b\b\b\b\b\b\b\b\b\b\b\b\b\b\b\b\b\b\b\b\b\b\b\b\b\b\b\b\b\b\b\b\b\b\b\b\b\r238/238 [==============================] - 28s 115ms/step - loss: 0.1921 - accuracy: 0.9182 - f1_m: 0.9182 - precision_m: 0.9182 - recall_m: 0.9182 - val_loss: 0.2932 - val_accuracy: 0.8868 - val_f1_m: 0.8867 - val_precision_m: 0.8867 - val_recall_m: 0.8867\n",
            "Epoch 23/50\n",
            "239/238 [==============================] - ETA: 0s - loss: 0.1873 - accuracy: 0.9220 - f1_m: 0.9220 - precision_m: 0.9220 - recall_m: 0.9220"
          ]
        },
        {
          "output_type": "stream",
          "name": "stderr",
          "text": [
            "WARNING:tensorflow:Early stopping conditioned on metric `val_accuraccy` which is not available. Available metrics are: loss,accuracy,f1_m,precision_m,recall_m,val_loss,val_accuracy,val_f1_m,val_precision_m,val_recall_m\n"
          ]
        },
        {
          "output_type": "stream",
          "name": "stdout",
          "text": [
            "\b\b\b\b\b\b\b\b\b\b\b\b\b\b\b\b\b\b\b\b\b\b\b\b\b\b\b\b\b\b\b\b\b\b\b\b\b\b\b\b\b\b\b\b\b\b\b\b\b\b\b\b\b\b\b\b\b\b\b\b\b\b\b\b\b\b\b\b\b\b\b\b\b\b\b\b\b\b\b\b\b\b\b\b\b\b\b\b\b\b\b\b\b\b\b\b\b\b\b\b\b\b\b\b\b\b\b\b\b\b\b\b\b\b\b\b\b\b\b\b\b\b\b\b\b\b\b\b\b\b\b\b\b\b\b\b\b\b\b\b\r238/238 [==============================] - 26s 108ms/step - loss: 0.1873 - accuracy: 0.9220 - f1_m: 0.9220 - precision_m: 0.9220 - recall_m: 0.9220 - val_loss: 0.2635 - val_accuracy: 0.8963 - val_f1_m: 0.8964 - val_precision_m: 0.8964 - val_recall_m: 0.8964\n",
            "Epoch 24/50\n",
            "239/238 [==============================] - ETA: 0s - loss: 0.1841 - accuracy: 0.9233 - f1_m: 0.9233 - precision_m: 0.9233 - recall_m: 0.9233"
          ]
        },
        {
          "output_type": "stream",
          "name": "stderr",
          "text": [
            "WARNING:tensorflow:Early stopping conditioned on metric `val_accuraccy` which is not available. Available metrics are: loss,accuracy,f1_m,precision_m,recall_m,val_loss,val_accuracy,val_f1_m,val_precision_m,val_recall_m\n"
          ]
        },
        {
          "output_type": "stream",
          "name": "stdout",
          "text": [
            "\b\b\b\b\b\b\b\b\b\b\b\b\b\b\b\b\b\b\b\b\b\b\b\b\b\b\b\b\b\b\b\b\b\b\b\b\b\b\b\b\b\b\b\b\b\b\b\b\b\b\b\b\b\b\b\b\b\b\b\b\b\b\b\b\b\b\b\b\b\b\b\b\b\b\b\b\b\b\b\b\b\b\b\b\b\b\b\b\b\b\b\b\b\b\b\b\b\b\b\b\b\b\b\b\b\b\b\b\b\b\b\b\b\b\b\b\b\b\b\b\b\b\b\b\b\b\b\b\b\b\b\b\b\b\b\b\b\b\b\b\r238/238 [==============================] - 26s 109ms/step - loss: 0.1841 - accuracy: 0.9233 - f1_m: 0.9233 - precision_m: 0.9233 - recall_m: 0.9233 - val_loss: 0.2826 - val_accuracy: 0.8801 - val_f1_m: 0.8803 - val_precision_m: 0.8803 - val_recall_m: 0.8803\n",
            "Epoch 25/50\n",
            "239/238 [==============================] - ETA: 0s - loss: 0.1759 - accuracy: 0.9273 - f1_m: 0.9273 - precision_m: 0.9273 - recall_m: 0.9273"
          ]
        },
        {
          "output_type": "stream",
          "name": "stderr",
          "text": [
            "WARNING:tensorflow:Early stopping conditioned on metric `val_accuraccy` which is not available. Available metrics are: loss,accuracy,f1_m,precision_m,recall_m,val_loss,val_accuracy,val_f1_m,val_precision_m,val_recall_m\n"
          ]
        },
        {
          "output_type": "stream",
          "name": "stdout",
          "text": [
            "\b\b\b\b\b\b\b\b\b\b\b\b\b\b\b\b\b\b\b\b\b\b\b\b\b\b\b\b\b\b\b\b\b\b\b\b\b\b\b\b\b\b\b\b\b\b\b\b\b\b\b\b\b\b\b\b\b\b\b\b\b\b\b\b\b\b\b\b\b\b\b\b\b\b\b\b\b\b\b\b\b\b\b\b\b\b\b\b\b\b\b\b\b\b\b\b\b\b\b\b\b\b\b\b\b\b\b\b\b\b\b\b\b\b\b\b\b\b\b\b\b\b\b\b\b\b\b\b\b\b\b\b\b\b\b\b\b\b\b\b\r238/238 [==============================] - 26s 111ms/step - loss: 0.1759 - accuracy: 0.9273 - f1_m: 0.9273 - precision_m: 0.9273 - recall_m: 0.9273 - val_loss: 0.2553 - val_accuracy: 0.8954 - val_f1_m: 0.8954 - val_precision_m: 0.8954 - val_recall_m: 0.8954\n",
            "Epoch 26/50\n",
            "239/238 [==============================] - ETA: 0s - loss: 0.1753 - accuracy: 0.9266 - f1_m: 0.9266 - precision_m: 0.9266 - recall_m: 0.9266"
          ]
        },
        {
          "output_type": "stream",
          "name": "stderr",
          "text": [
            "WARNING:tensorflow:Early stopping conditioned on metric `val_accuraccy` which is not available. Available metrics are: loss,accuracy,f1_m,precision_m,recall_m,val_loss,val_accuracy,val_f1_m,val_precision_m,val_recall_m\n"
          ]
        },
        {
          "output_type": "stream",
          "name": "stdout",
          "text": [
            "\b\b\b\b\b\b\b\b\b\b\b\b\b\b\b\b\b\b\b\b\b\b\b\b\b\b\b\b\b\b\b\b\b\b\b\b\b\b\b\b\b\b\b\b\b\b\b\b\b\b\b\b\b\b\b\b\b\b\b\b\b\b\b\b\b\b\b\b\b\b\b\b\b\b\b\b\b\b\b\b\b\b\b\b\b\b\b\b\b\b\b\b\b\b\b\b\b\b\b\b\b\b\b\b\b\b\b\b\b\b\b\b\b\b\b\b\b\b\b\b\b\b\b\b\b\b\b\b\b\b\b\b\b\b\b\b\b\b\b\b\r238/238 [==============================] - 27s 112ms/step - loss: 0.1753 - accuracy: 0.9266 - f1_m: 0.9266 - precision_m: 0.9266 - recall_m: 0.9266 - val_loss: 0.2397 - val_accuracy: 0.9037 - val_f1_m: 0.9035 - val_precision_m: 0.9035 - val_recall_m: 0.9035\n",
            "Epoch 27/50\n",
            "239/238 [==============================] - ETA: 0s - loss: 0.1714 - accuracy: 0.9303 - f1_m: 0.9303 - precision_m: 0.9303 - recall_m: 0.9303"
          ]
        },
        {
          "output_type": "stream",
          "name": "stderr",
          "text": [
            "WARNING:tensorflow:Early stopping conditioned on metric `val_accuraccy` which is not available. Available metrics are: loss,accuracy,f1_m,precision_m,recall_m,val_loss,val_accuracy,val_f1_m,val_precision_m,val_recall_m\n"
          ]
        },
        {
          "output_type": "stream",
          "name": "stdout",
          "text": [
            "\b\b\b\b\b\b\b\b\b\b\b\b\b\b\b\b\b\b\b\b\b\b\b\b\b\b\b\b\b\b\b\b\b\b\b\b\b\b\b\b\b\b\b\b\b\b\b\b\b\b\b\b\b\b\b\b\b\b\b\b\b\b\b\b\b\b\b\b\b\b\b\b\b\b\b\b\b\b\b\b\b\b\b\b\b\b\b\b\b\b\b\b\b\b\b\b\b\b\b\b\b\b\b\b\b\b\b\b\b\b\b\b\b\b\b\b\b\b\b\b\b\b\b\b\b\b\b\b\b\b\b\b\b\b\b\b\b\b\b\b\r238/238 [==============================] - 27s 111ms/step - loss: 0.1714 - accuracy: 0.9303 - f1_m: 0.9303 - precision_m: 0.9303 - recall_m: 0.9303 - val_loss: 0.2610 - val_accuracy: 0.8988 - val_f1_m: 0.8988 - val_precision_m: 0.8988 - val_recall_m: 0.8988\n",
            "Epoch 28/50\n",
            "239/238 [==============================] - ETA: 0s - loss: 0.1681 - accuracy: 0.9293 - f1_m: 0.9293 - precision_m: 0.9293 - recall_m: 0.9293"
          ]
        },
        {
          "output_type": "stream",
          "name": "stderr",
          "text": [
            "WARNING:tensorflow:Early stopping conditioned on metric `val_accuraccy` which is not available. Available metrics are: loss,accuracy,f1_m,precision_m,recall_m,val_loss,val_accuracy,val_f1_m,val_precision_m,val_recall_m\n"
          ]
        },
        {
          "output_type": "stream",
          "name": "stdout",
          "text": [
            "\b\b\b\b\b\b\b\b\b\b\b\b\b\b\b\b\b\b\b\b\b\b\b\b\b\b\b\b\b\b\b\b\b\b\b\b\b\b\b\b\b\b\b\b\b\b\b\b\b\b\b\b\b\b\b\b\b\b\b\b\b\b\b\b\b\b\b\b\b\b\b\b\b\b\b\b\b\b\b\b\b\b\b\b\b\b\b\b\b\b\b\b\b\b\b\b\b\b\b\b\b\b\b\b\b\b\b\b\b\b\b\b\b\b\b\b\b\b\b\b\b\b\b\b\b\b\b\b\b\b\b\b\b\b\b\b\b\b\b\b\r238/238 [==============================] - 28s 115ms/step - loss: 0.1681 - accuracy: 0.9293 - f1_m: 0.9293 - precision_m: 0.9293 - recall_m: 0.9293 - val_loss: 0.2128 - val_accuracy: 0.9124 - val_f1_m: 0.9123 - val_precision_m: 0.9123 - val_recall_m: 0.9123\n",
            "Epoch 29/50\n",
            "239/238 [==============================] - ETA: 0s - loss: 0.1653 - accuracy: 0.9313 - f1_m: 0.9312 - precision_m: 0.9312 - recall_m: 0.9312"
          ]
        },
        {
          "output_type": "stream",
          "name": "stderr",
          "text": [
            "WARNING:tensorflow:Early stopping conditioned on metric `val_accuraccy` which is not available. Available metrics are: loss,accuracy,f1_m,precision_m,recall_m,val_loss,val_accuracy,val_f1_m,val_precision_m,val_recall_m\n"
          ]
        },
        {
          "output_type": "stream",
          "name": "stdout",
          "text": [
            "\b\b\b\b\b\b\b\b\b\b\b\b\b\b\b\b\b\b\b\b\b\b\b\b\b\b\b\b\b\b\b\b\b\b\b\b\b\b\b\b\b\b\b\b\b\b\b\b\b\b\b\b\b\b\b\b\b\b\b\b\b\b\b\b\b\b\b\b\b\b\b\b\b\b\b\b\b\b\b\b\b\b\b\b\b\b\b\b\b\b\b\b\b\b\b\b\b\b\b\b\b\b\b\b\b\b\b\b\b\b\b\b\b\b\b\b\b\b\b\b\b\b\b\b\b\b\b\b\b\b\b\b\b\b\b\b\b\b\b\b\r238/238 [==============================] - 25s 105ms/step - loss: 0.1653 - accuracy: 0.9313 - f1_m: 0.9312 - precision_m: 0.9312 - recall_m: 0.9312 - val_loss: 0.2023 - val_accuracy: 0.9159 - val_f1_m: 0.9159 - val_precision_m: 0.9159 - val_recall_m: 0.9159\n",
            "Epoch 30/50\n",
            "239/238 [==============================] - ETA: 0s - loss: 0.1593 - accuracy: 0.9340 - f1_m: 0.9340 - precision_m: 0.9340 - recall_m: 0.9340"
          ]
        },
        {
          "output_type": "stream",
          "name": "stderr",
          "text": [
            "WARNING:tensorflow:Early stopping conditioned on metric `val_accuraccy` which is not available. Available metrics are: loss,accuracy,f1_m,precision_m,recall_m,val_loss,val_accuracy,val_f1_m,val_precision_m,val_recall_m\n"
          ]
        },
        {
          "output_type": "stream",
          "name": "stdout",
          "text": [
            "\b\b\b\b\b\b\b\b\b\b\b\b\b\b\b\b\b\b\b\b\b\b\b\b\b\b\b\b\b\b\b\b\b\b\b\b\b\b\b\b\b\b\b\b\b\b\b\b\b\b\b\b\b\b\b\b\b\b\b\b\b\b\b\b\b\b\b\b\b\b\b\b\b\b\b\b\b\b\b\b\b\b\b\b\b\b\b\b\b\b\b\b\b\b\b\b\b\b\b\b\b\b\b\b\b\b\b\b\b\b\b\b\b\b\b\b\b\b\b\b\b\b\b\b\b\b\b\b\b\b\b\b\b\b\b\b\b\b\b\b\r238/238 [==============================] - 25s 105ms/step - loss: 0.1593 - accuracy: 0.9340 - f1_m: 0.9340 - precision_m: 0.9340 - recall_m: 0.9340 - val_loss: 0.1923 - val_accuracy: 0.9245 - val_f1_m: 0.9245 - val_precision_m: 0.9245 - val_recall_m: 0.9245\n",
            "Epoch 31/50\n",
            "239/238 [==============================] - ETA: 0s - loss: 0.1577 - accuracy: 0.9359 - f1_m: 0.9359 - precision_m: 0.9359 - recall_m: 0.9359"
          ]
        },
        {
          "output_type": "stream",
          "name": "stderr",
          "text": [
            "WARNING:tensorflow:Early stopping conditioned on metric `val_accuraccy` which is not available. Available metrics are: loss,accuracy,f1_m,precision_m,recall_m,val_loss,val_accuracy,val_f1_m,val_precision_m,val_recall_m\n"
          ]
        },
        {
          "output_type": "stream",
          "name": "stdout",
          "text": [
            "\b\b\b\b\b\b\b\b\b\b\b\b\b\b\b\b\b\b\b\b\b\b\b\b\b\b\b\b\b\b\b\b\b\b\b\b\b\b\b\b\b\b\b\b\b\b\b\b\b\b\b\b\b\b\b\b\b\b\b\b\b\b\b\b\b\b\b\b\b\b\b\b\b\b\b\b\b\b\b\b\b\b\b\b\b\b\b\b\b\b\b\b\b\b\b\b\b\b\b\b\b\b\b\b\b\b\b\b\b\b\b\b\b\b\b\b\b\b\b\b\b\b\b\b\b\b\b\b\b\b\b\b\b\b\b\b\b\b\b\b\r238/238 [==============================] - 26s 108ms/step - loss: 0.1577 - accuracy: 0.9359 - f1_m: 0.9359 - precision_m: 0.9359 - recall_m: 0.9359 - val_loss: 0.1965 - val_accuracy: 0.9214 - val_f1_m: 0.9215 - val_precision_m: 0.9215 - val_recall_m: 0.9215\n",
            "Epoch 32/50\n",
            "239/238 [==============================] - ETA: 0s - loss: 0.1543 - accuracy: 0.9363 - f1_m: 0.9363 - precision_m: 0.9363 - recall_m: 0.9363"
          ]
        },
        {
          "output_type": "stream",
          "name": "stderr",
          "text": [
            "WARNING:tensorflow:Early stopping conditioned on metric `val_accuraccy` which is not available. Available metrics are: loss,accuracy,f1_m,precision_m,recall_m,val_loss,val_accuracy,val_f1_m,val_precision_m,val_recall_m\n"
          ]
        },
        {
          "output_type": "stream",
          "name": "stdout",
          "text": [
            "\b\b\b\b\b\b\b\b\b\b\b\b\b\b\b\b\b\b\b\b\b\b\b\b\b\b\b\b\b\b\b\b\b\b\b\b\b\b\b\b\b\b\b\b\b\b\b\b\b\b\b\b\b\b\b\b\b\b\b\b\b\b\b\b\b\b\b\b\b\b\b\b\b\b\b\b\b\b\b\b\b\b\b\b\b\b\b\b\b\b\b\b\b\b\b\b\b\b\b\b\b\b\b\b\b\b\b\b\b\b\b\b\b\b\b\b\b\b\b\b\b\b\b\b\b\b\b\b\b\b\b\b\b\b\b\b\b\b\b\b\r238/238 [==============================] - 27s 112ms/step - loss: 0.1543 - accuracy: 0.9363 - f1_m: 0.9363 - precision_m: 0.9363 - recall_m: 0.9363 - val_loss: 0.2062 - val_accuracy: 0.9143 - val_f1_m: 0.9143 - val_precision_m: 0.9143 - val_recall_m: 0.9143\n",
            "Epoch 33/50\n",
            "239/238 [==============================] - ETA: 0s - loss: 0.1524 - accuracy: 0.9375 - f1_m: 0.9375 - precision_m: 0.9375 - recall_m: 0.9375"
          ]
        },
        {
          "output_type": "stream",
          "name": "stderr",
          "text": [
            "WARNING:tensorflow:Early stopping conditioned on metric `val_accuraccy` which is not available. Available metrics are: loss,accuracy,f1_m,precision_m,recall_m,val_loss,val_accuracy,val_f1_m,val_precision_m,val_recall_m\n"
          ]
        },
        {
          "output_type": "stream",
          "name": "stdout",
          "text": [
            "\b\b\b\b\b\b\b\b\b\b\b\b\b\b\b\b\b\b\b\b\b\b\b\b\b\b\b\b\b\b\b\b\b\b\b\b\b\b\b\b\b\b\b\b\b\b\b\b\b\b\b\b\b\b\b\b\b\b\b\b\b\b\b\b\b\b\b\b\b\b\b\b\b\b\b\b\b\b\b\b\b\b\b\b\b\b\b\b\b\b\b\b\b\b\b\b\b\b\b\b\b\b\b\b\b\b\b\b\b\b\b\b\b\b\b\b\b\b\b\b\b\b\b\b\b\b\b\b\b\b\b\b\b\b\b\b\b\b\b\b\r238/238 [==============================] - 26s 109ms/step - loss: 0.1524 - accuracy: 0.9375 - f1_m: 0.9375 - precision_m: 0.9375 - recall_m: 0.9375 - val_loss: 0.3224 - val_accuracy: 0.8888 - val_f1_m: 0.8889 - val_precision_m: 0.8889 - val_recall_m: 0.8889\n",
            "Epoch 34/50\n",
            "239/238 [==============================] - ETA: 0s - loss: 0.1452 - accuracy: 0.9414 - f1_m: 0.9414 - precision_m: 0.9414 - recall_m: 0.9414"
          ]
        },
        {
          "output_type": "stream",
          "name": "stderr",
          "text": [
            "WARNING:tensorflow:Early stopping conditioned on metric `val_accuraccy` which is not available. Available metrics are: loss,accuracy,f1_m,precision_m,recall_m,val_loss,val_accuracy,val_f1_m,val_precision_m,val_recall_m\n"
          ]
        },
        {
          "output_type": "stream",
          "name": "stdout",
          "text": [
            "\b\b\b\b\b\b\b\b\b\b\b\b\b\b\b\b\b\b\b\b\b\b\b\b\b\b\b\b\b\b\b\b\b\b\b\b\b\b\b\b\b\b\b\b\b\b\b\b\b\b\b\b\b\b\b\b\b\b\b\b\b\b\b\b\b\b\b\b\b\b\b\b\b\b\b\b\b\b\b\b\b\b\b\b\b\b\b\b\b\b\b\b\b\b\b\b\b\b\b\b\b\b\b\b\b\b\b\b\b\b\b\b\b\b\b\b\b\b\b\b\b\b\b\b\b\b\b\b\b\b\b\b\b\b\b\b\b\b\b\b\r238/238 [==============================] - 26s 108ms/step - loss: 0.1452 - accuracy: 0.9414 - f1_m: 0.9414 - precision_m: 0.9414 - recall_m: 0.9414 - val_loss: 0.2127 - val_accuracy: 0.9144 - val_f1_m: 0.9144 - val_precision_m: 0.9144 - val_recall_m: 0.9144\n",
            "Epoch 35/50\n",
            "239/238 [==============================] - ETA: 0s - loss: 0.1418 - accuracy: 0.9425 - f1_m: 0.9424 - precision_m: 0.9424 - recall_m: 0.9424"
          ]
        },
        {
          "output_type": "stream",
          "name": "stderr",
          "text": [
            "WARNING:tensorflow:Early stopping conditioned on metric `val_accuraccy` which is not available. Available metrics are: loss,accuracy,f1_m,precision_m,recall_m,val_loss,val_accuracy,val_f1_m,val_precision_m,val_recall_m\n"
          ]
        },
        {
          "output_type": "stream",
          "name": "stdout",
          "text": [
            "\b\b\b\b\b\b\b\b\b\b\b\b\b\b\b\b\b\b\b\b\b\b\b\b\b\b\b\b\b\b\b\b\b\b\b\b\b\b\b\b\b\b\b\b\b\b\b\b\b\b\b\b\b\b\b\b\b\b\b\b\b\b\b\b\b\b\b\b\b\b\b\b\b\b\b\b\b\b\b\b\b\b\b\b\b\b\b\b\b\b\b\b\b\b\b\b\b\b\b\b\b\b\b\b\b\b\b\b\b\b\b\b\b\b\b\b\b\b\b\b\b\b\b\b\b\b\b\b\b\b\b\b\b\b\b\b\b\b\b\b\r238/238 [==============================] - 26s 110ms/step - loss: 0.1418 - accuracy: 0.9425 - f1_m: 0.9424 - precision_m: 0.9424 - recall_m: 0.9424 - val_loss: 0.2170 - val_accuracy: 0.9149 - val_f1_m: 0.9147 - val_precision_m: 0.9147 - val_recall_m: 0.9147\n",
            "Epoch 36/50\n",
            "239/238 [==============================] - ETA: 0s - loss: 0.1411 - accuracy: 0.9432 - f1_m: 0.9432 - precision_m: 0.9432 - recall_m: 0.9432"
          ]
        },
        {
          "output_type": "stream",
          "name": "stderr",
          "text": [
            "WARNING:tensorflow:Early stopping conditioned on metric `val_accuraccy` which is not available. Available metrics are: loss,accuracy,f1_m,precision_m,recall_m,val_loss,val_accuracy,val_f1_m,val_precision_m,val_recall_m\n"
          ]
        },
        {
          "output_type": "stream",
          "name": "stdout",
          "text": [
            "\b\b\b\b\b\b\b\b\b\b\b\b\b\b\b\b\b\b\b\b\b\b\b\b\b\b\b\b\b\b\b\b\b\b\b\b\b\b\b\b\b\b\b\b\b\b\b\b\b\b\b\b\b\b\b\b\b\b\b\b\b\b\b\b\b\b\b\b\b\b\b\b\b\b\b\b\b\b\b\b\b\b\b\b\b\b\b\b\b\b\b\b\b\b\b\b\b\b\b\b\b\b\b\b\b\b\b\b\b\b\b\b\b\b\b\b\b\b\b\b\b\b\b\b\b\b\b\b\b\b\b\b\b\b\b\b\b\b\b\b\r238/238 [==============================] - 26s 110ms/step - loss: 0.1411 - accuracy: 0.9432 - f1_m: 0.9432 - precision_m: 0.9432 - recall_m: 0.9432 - val_loss: 0.1852 - val_accuracy: 0.9246 - val_f1_m: 0.9246 - val_precision_m: 0.9246 - val_recall_m: 0.9246\n",
            "Epoch 37/50\n",
            "239/238 [==============================] - ETA: 0s - loss: 0.1394 - accuracy: 0.9423 - f1_m: 0.9423 - precision_m: 0.9423 - recall_m: 0.9423"
          ]
        },
        {
          "output_type": "stream",
          "name": "stderr",
          "text": [
            "WARNING:tensorflow:Early stopping conditioned on metric `val_accuraccy` which is not available. Available metrics are: loss,accuracy,f1_m,precision_m,recall_m,val_loss,val_accuracy,val_f1_m,val_precision_m,val_recall_m\n"
          ]
        },
        {
          "output_type": "stream",
          "name": "stdout",
          "text": [
            "\b\b\b\b\b\b\b\b\b\b\b\b\b\b\b\b\b\b\b\b\b\b\b\b\b\b\b\b\b\b\b\b\b\b\b\b\b\b\b\b\b\b\b\b\b\b\b\b\b\b\b\b\b\b\b\b\b\b\b\b\b\b\b\b\b\b\b\b\b\b\b\b\b\b\b\b\b\b\b\b\b\b\b\b\b\b\b\b\b\b\b\b\b\b\b\b\b\b\b\b\b\b\b\b\b\b\b\b\b\b\b\b\b\b\b\b\b\b\b\b\b\b\b\b\b\b\b\b\b\b\b\b\b\b\b\b\b\b\b\b\r238/238 [==============================] - 26s 110ms/step - loss: 0.1394 - accuracy: 0.9423 - f1_m: 0.9423 - precision_m: 0.9423 - recall_m: 0.9423 - val_loss: 0.2213 - val_accuracy: 0.9116 - val_f1_m: 0.9114 - val_precision_m: 0.9114 - val_recall_m: 0.9114\n",
            "Epoch 38/50\n",
            "239/238 [==============================] - ETA: 0s - loss: 0.1382 - accuracy: 0.9437 - f1_m: 0.9437 - precision_m: 0.9437 - recall_m: 0.9437"
          ]
        },
        {
          "output_type": "stream",
          "name": "stderr",
          "text": [
            "WARNING:tensorflow:Early stopping conditioned on metric `val_accuraccy` which is not available. Available metrics are: loss,accuracy,f1_m,precision_m,recall_m,val_loss,val_accuracy,val_f1_m,val_precision_m,val_recall_m\n"
          ]
        },
        {
          "output_type": "stream",
          "name": "stdout",
          "text": [
            "\b\b\b\b\b\b\b\b\b\b\b\b\b\b\b\b\b\b\b\b\b\b\b\b\b\b\b\b\b\b\b\b\b\b\b\b\b\b\b\b\b\b\b\b\b\b\b\b\b\b\b\b\b\b\b\b\b\b\b\b\b\b\b\b\b\b\b\b\b\b\b\b\b\b\b\b\b\b\b\b\b\b\b\b\b\b\b\b\b\b\b\b\b\b\b\b\b\b\b\b\b\b\b\b\b\b\b\b\b\b\b\b\b\b\b\b\b\b\b\b\b\b\b\b\b\b\b\b\b\b\b\b\b\b\b\b\b\b\b\b\r238/238 [==============================] - 26s 108ms/step - loss: 0.1382 - accuracy: 0.9437 - f1_m: 0.9437 - precision_m: 0.9437 - recall_m: 0.9437 - val_loss: 0.2449 - val_accuracy: 0.9136 - val_f1_m: 0.9136 - val_precision_m: 0.9136 - val_recall_m: 0.9136\n",
            "Epoch 39/50\n",
            "239/238 [==============================] - ETA: 0s - loss: 0.1326 - accuracy: 0.9462 - f1_m: 0.9462 - precision_m: 0.9462 - recall_m: 0.9462"
          ]
        },
        {
          "output_type": "stream",
          "name": "stderr",
          "text": [
            "WARNING:tensorflow:Early stopping conditioned on metric `val_accuraccy` which is not available. Available metrics are: loss,accuracy,f1_m,precision_m,recall_m,val_loss,val_accuracy,val_f1_m,val_precision_m,val_recall_m\n"
          ]
        },
        {
          "output_type": "stream",
          "name": "stdout",
          "text": [
            "\b\b\b\b\b\b\b\b\b\b\b\b\b\b\b\b\b\b\b\b\b\b\b\b\b\b\b\b\b\b\b\b\b\b\b\b\b\b\b\b\b\b\b\b\b\b\b\b\b\b\b\b\b\b\b\b\b\b\b\b\b\b\b\b\b\b\b\b\b\b\b\b\b\b\b\b\b\b\b\b\b\b\b\b\b\b\b\b\b\b\b\b\b\b\b\b\b\b\b\b\b\b\b\b\b\b\b\b\b\b\b\b\b\b\b\b\b\b\b\b\b\b\b\b\b\b\b\b\b\b\b\b\b\b\b\b\b\b\b\b\r238/238 [==============================] - 27s 111ms/step - loss: 0.1326 - accuracy: 0.9462 - f1_m: 0.9462 - precision_m: 0.9462 - recall_m: 0.9462 - val_loss: 0.2041 - val_accuracy: 0.9221 - val_f1_m: 0.9221 - val_precision_m: 0.9221 - val_recall_m: 0.9221\n",
            "Epoch 40/50\n",
            "239/238 [==============================] - ETA: 0s - loss: 0.1346 - accuracy: 0.9459 - f1_m: 0.9459 - precision_m: 0.9459 - recall_m: 0.9459"
          ]
        },
        {
          "output_type": "stream",
          "name": "stderr",
          "text": [
            "WARNING:tensorflow:Early stopping conditioned on metric `val_accuraccy` which is not available. Available metrics are: loss,accuracy,f1_m,precision_m,recall_m,val_loss,val_accuracy,val_f1_m,val_precision_m,val_recall_m\n"
          ]
        },
        {
          "output_type": "stream",
          "name": "stdout",
          "text": [
            "\b\b\b\b\b\b\b\b\b\b\b\b\b\b\b\b\b\b\b\b\b\b\b\b\b\b\b\b\b\b\b\b\b\b\b\b\b\b\b\b\b\b\b\b\b\b\b\b\b\b\b\b\b\b\b\b\b\b\b\b\b\b\b\b\b\b\b\b\b\b\b\b\b\b\b\b\b\b\b\b\b\b\b\b\b\b\b\b\b\b\b\b\b\b\b\b\b\b\b\b\b\b\b\b\b\b\b\b\b\b\b\b\b\b\b\b\b\b\b\b\b\b\b\b\b\b\b\b\b\b\b\b\b\b\b\b\b\b\b\b\r238/238 [==============================] - 27s 112ms/step - loss: 0.1346 - accuracy: 0.9459 - f1_m: 0.9459 - precision_m: 0.9459 - recall_m: 0.9459 - val_loss: 0.2927 - val_accuracy: 0.8967 - val_f1_m: 0.8967 - val_precision_m: 0.8967 - val_recall_m: 0.8967\n",
            "Epoch 41/50\n",
            "239/238 [==============================] - ETA: 0s - loss: 0.1699 - accuracy: 0.9352 - f1_m: 0.9352 - precision_m: 0.9352 - recall_m: 0.9352"
          ]
        },
        {
          "output_type": "stream",
          "name": "stderr",
          "text": [
            "WARNING:tensorflow:Early stopping conditioned on metric `val_accuraccy` which is not available. Available metrics are: loss,accuracy,f1_m,precision_m,recall_m,val_loss,val_accuracy,val_f1_m,val_precision_m,val_recall_m\n"
          ]
        },
        {
          "output_type": "stream",
          "name": "stdout",
          "text": [
            "\b\b\b\b\b\b\b\b\b\b\b\b\b\b\b\b\b\b\b\b\b\b\b\b\b\b\b\b\b\b\b\b\b\b\b\b\b\b\b\b\b\b\b\b\b\b\b\b\b\b\b\b\b\b\b\b\b\b\b\b\b\b\b\b\b\b\b\b\b\b\b\b\b\b\b\b\b\b\b\b\b\b\b\b\b\b\b\b\b\b\b\b\b\b\b\b\b\b\b\b\b\b\b\b\b\b\b\b\b\b\b\b\b\b\b\b\b\b\b\b\b\b\b\b\b\b\b\b\b\b\b\b\b\b\b\b\b\b\b\b\r238/238 [==============================] - 28s 118ms/step - loss: 0.1699 - accuracy: 0.9352 - f1_m: 0.9352 - precision_m: 0.9352 - recall_m: 0.9352 - val_loss: 0.2495 - val_accuracy: 0.9164 - val_f1_m: 0.9164 - val_precision_m: 0.9164 - val_recall_m: 0.9164\n",
            "Epoch 42/50\n",
            "239/238 [==============================] - ETA: 0s - loss: 0.1394 - accuracy: 0.9434 - f1_m: 0.9435 - precision_m: 0.9435 - recall_m: 0.9435"
          ]
        },
        {
          "output_type": "stream",
          "name": "stderr",
          "text": [
            "WARNING:tensorflow:Early stopping conditioned on metric `val_accuraccy` which is not available. Available metrics are: loss,accuracy,f1_m,precision_m,recall_m,val_loss,val_accuracy,val_f1_m,val_precision_m,val_recall_m\n"
          ]
        },
        {
          "output_type": "stream",
          "name": "stdout",
          "text": [
            "\b\b\b\b\b\b\b\b\b\b\b\b\b\b\b\b\b\b\b\b\b\b\b\b\b\b\b\b\b\b\b\b\b\b\b\b\b\b\b\b\b\b\b\b\b\b\b\b\b\b\b\b\b\b\b\b\b\b\b\b\b\b\b\b\b\b\b\b\b\b\b\b\b\b\b\b\b\b\b\b\b\b\b\b\b\b\b\b\b\b\b\b\b\b\b\b\b\b\b\b\b\b\b\b\b\b\b\b\b\b\b\b\b\b\b\b\b\b\b\b\b\b\b\b\b\b\b\b\b\b\b\b\b\b\b\b\b\b\b\b\r238/238 [==============================] - 26s 110ms/step - loss: 0.1394 - accuracy: 0.9434 - f1_m: 0.9435 - precision_m: 0.9435 - recall_m: 0.9435 - val_loss: 0.1723 - val_accuracy: 0.9343 - val_f1_m: 0.9344 - val_precision_m: 0.9344 - val_recall_m: 0.9344\n",
            "Epoch 43/50\n",
            "239/238 [==============================] - ETA: 0s - loss: 0.1224 - accuracy: 0.9506 - f1_m: 0.9506 - precision_m: 0.9506 - recall_m: 0.9506"
          ]
        },
        {
          "output_type": "stream",
          "name": "stderr",
          "text": [
            "WARNING:tensorflow:Early stopping conditioned on metric `val_accuraccy` which is not available. Available metrics are: loss,accuracy,f1_m,precision_m,recall_m,val_loss,val_accuracy,val_f1_m,val_precision_m,val_recall_m\n"
          ]
        },
        {
          "output_type": "stream",
          "name": "stdout",
          "text": [
            "\b\b\b\b\b\b\b\b\b\b\b\b\b\b\b\b\b\b\b\b\b\b\b\b\b\b\b\b\b\b\b\b\b\b\b\b\b\b\b\b\b\b\b\b\b\b\b\b\b\b\b\b\b\b\b\b\b\b\b\b\b\b\b\b\b\b\b\b\b\b\b\b\b\b\b\b\b\b\b\b\b\b\b\b\b\b\b\b\b\b\b\b\b\b\b\b\b\b\b\b\b\b\b\b\b\b\b\b\b\b\b\b\b\b\b\b\b\b\b\b\b\b\b\b\b\b\b\b\b\b\b\b\b\b\b\b\b\b\b\b\r238/238 [==============================] - 25s 105ms/step - loss: 0.1224 - accuracy: 0.9506 - f1_m: 0.9506 - precision_m: 0.9506 - recall_m: 0.9506 - val_loss: 0.1698 - val_accuracy: 0.9350 - val_f1_m: 0.9350 - val_precision_m: 0.9350 - val_recall_m: 0.9350\n",
            "Epoch 44/50\n",
            "239/238 [==============================] - ETA: 0s - loss: 0.1218 - accuracy: 0.9510 - f1_m: 0.9510 - precision_m: 0.9510 - recall_m: 0.9510"
          ]
        },
        {
          "output_type": "stream",
          "name": "stderr",
          "text": [
            "WARNING:tensorflow:Early stopping conditioned on metric `val_accuraccy` which is not available. Available metrics are: loss,accuracy,f1_m,precision_m,recall_m,val_loss,val_accuracy,val_f1_m,val_precision_m,val_recall_m\n"
          ]
        },
        {
          "output_type": "stream",
          "name": "stdout",
          "text": [
            "\b\b\b\b\b\b\b\b\b\b\b\b\b\b\b\b\b\b\b\b\b\b\b\b\b\b\b\b\b\b\b\b\b\b\b\b\b\b\b\b\b\b\b\b\b\b\b\b\b\b\b\b\b\b\b\b\b\b\b\b\b\b\b\b\b\b\b\b\b\b\b\b\b\b\b\b\b\b\b\b\b\b\b\b\b\b\b\b\b\b\b\b\b\b\b\b\b\b\b\b\b\b\b\b\b\b\b\b\b\b\b\b\b\b\b\b\b\b\b\b\b\b\b\b\b\b\b\b\b\b\b\b\b\b\b\b\b\b\b\b\r238/238 [==============================] - 27s 111ms/step - loss: 0.1218 - accuracy: 0.9510 - f1_m: 0.9510 - precision_m: 0.9510 - recall_m: 0.9510 - val_loss: 0.2006 - val_accuracy: 0.9247 - val_f1_m: 0.9248 - val_precision_m: 0.9248 - val_recall_m: 0.9248\n",
            "Epoch 45/50\n",
            "239/238 [==============================] - ETA: 0s - loss: 0.1165 - accuracy: 0.9539 - f1_m: 0.9539 - precision_m: 0.9539 - recall_m: 0.9539"
          ]
        },
        {
          "output_type": "stream",
          "name": "stderr",
          "text": [
            "WARNING:tensorflow:Early stopping conditioned on metric `val_accuraccy` which is not available. Available metrics are: loss,accuracy,f1_m,precision_m,recall_m,val_loss,val_accuracy,val_f1_m,val_precision_m,val_recall_m\n"
          ]
        },
        {
          "output_type": "stream",
          "name": "stdout",
          "text": [
            "\b\b\b\b\b\b\b\b\b\b\b\b\b\b\b\b\b\b\b\b\b\b\b\b\b\b\b\b\b\b\b\b\b\b\b\b\b\b\b\b\b\b\b\b\b\b\b\b\b\b\b\b\b\b\b\b\b\b\b\b\b\b\b\b\b\b\b\b\b\b\b\b\b\b\b\b\b\b\b\b\b\b\b\b\b\b\b\b\b\b\b\b\b\b\b\b\b\b\b\b\b\b\b\b\b\b\b\b\b\b\b\b\b\b\b\b\b\b\b\b\b\b\b\b\b\b\b\b\b\b\b\b\b\b\b\b\b\b\b\b\r238/238 [==============================] - 25s 106ms/step - loss: 0.1165 - accuracy: 0.9539 - f1_m: 0.9539 - precision_m: 0.9539 - recall_m: 0.9539 - val_loss: 0.1738 - val_accuracy: 0.9318 - val_f1_m: 0.9319 - val_precision_m: 0.9319 - val_recall_m: 0.9319\n",
            "Epoch 46/50\n",
            "239/238 [==============================] - ETA: 0s - loss: 0.1171 - accuracy: 0.9532 - f1_m: 0.9532 - precision_m: 0.9532 - recall_m: 0.9532"
          ]
        },
        {
          "output_type": "stream",
          "name": "stderr",
          "text": [
            "WARNING:tensorflow:Early stopping conditioned on metric `val_accuraccy` which is not available. Available metrics are: loss,accuracy,f1_m,precision_m,recall_m,val_loss,val_accuracy,val_f1_m,val_precision_m,val_recall_m\n"
          ]
        },
        {
          "output_type": "stream",
          "name": "stdout",
          "text": [
            "\b\b\b\b\b\b\b\b\b\b\b\b\b\b\b\b\b\b\b\b\b\b\b\b\b\b\b\b\b\b\b\b\b\b\b\b\b\b\b\b\b\b\b\b\b\b\b\b\b\b\b\b\b\b\b\b\b\b\b\b\b\b\b\b\b\b\b\b\b\b\b\b\b\b\b\b\b\b\b\b\b\b\b\b\b\b\b\b\b\b\b\b\b\b\b\b\b\b\b\b\b\b\b\b\b\b\b\b\b\b\b\b\b\b\b\b\b\b\b\b\b\b\b\b\b\b\b\b\b\b\b\b\b\b\b\b\b\b\b\b\r238/238 [==============================] - 25s 105ms/step - loss: 0.1171 - accuracy: 0.9532 - f1_m: 0.9532 - precision_m: 0.9532 - recall_m: 0.9532 - val_loss: 0.2432 - val_accuracy: 0.9103 - val_f1_m: 0.9102 - val_precision_m: 0.9102 - val_recall_m: 0.9102\n",
            "Epoch 47/50\n",
            "239/238 [==============================] - ETA: 0s - loss: 0.1126 - accuracy: 0.9549 - f1_m: 0.9549 - precision_m: 0.9549 - recall_m: 0.9549"
          ]
        },
        {
          "output_type": "stream",
          "name": "stderr",
          "text": [
            "WARNING:tensorflow:Early stopping conditioned on metric `val_accuraccy` which is not available. Available metrics are: loss,accuracy,f1_m,precision_m,recall_m,val_loss,val_accuracy,val_f1_m,val_precision_m,val_recall_m\n"
          ]
        },
        {
          "output_type": "stream",
          "name": "stdout",
          "text": [
            "\b\b\b\b\b\b\b\b\b\b\b\b\b\b\b\b\b\b\b\b\b\b\b\b\b\b\b\b\b\b\b\b\b\b\b\b\b\b\b\b\b\b\b\b\b\b\b\b\b\b\b\b\b\b\b\b\b\b\b\b\b\b\b\b\b\b\b\b\b\b\b\b\b\b\b\b\b\b\b\b\b\b\b\b\b\b\b\b\b\b\b\b\b\b\b\b\b\b\b\b\b\b\b\b\b\b\b\b\b\b\b\b\b\b\b\b\b\b\b\b\b\b\b\b\b\b\b\b\b\b\b\b\b\b\b\b\b\b\b\b\r238/238 [==============================] - 27s 111ms/step - loss: 0.1126 - accuracy: 0.9549 - f1_m: 0.9549 - precision_m: 0.9549 - recall_m: 0.9549 - val_loss: 0.2058 - val_accuracy: 0.9231 - val_f1_m: 0.9231 - val_precision_m: 0.9231 - val_recall_m: 0.9231\n",
            "Epoch 48/50\n",
            "239/238 [==============================] - ETA: 0s - loss: 0.1143 - accuracy: 0.9545 - f1_m: 0.9545 - precision_m: 0.9545 - recall_m: 0.9545"
          ]
        },
        {
          "output_type": "stream",
          "name": "stderr",
          "text": [
            "WARNING:tensorflow:Early stopping conditioned on metric `val_accuraccy` which is not available. Available metrics are: loss,accuracy,f1_m,precision_m,recall_m,val_loss,val_accuracy,val_f1_m,val_precision_m,val_recall_m\n"
          ]
        },
        {
          "output_type": "stream",
          "name": "stdout",
          "text": [
            "\b\b\b\b\b\b\b\b\b\b\b\b\b\b\b\b\b\b\b\b\b\b\b\b\b\b\b\b\b\b\b\b\b\b\b\b\b\b\b\b\b\b\b\b\b\b\b\b\b\b\b\b\b\b\b\b\b\b\b\b\b\b\b\b\b\b\b\b\b\b\b\b\b\b\b\b\b\b\b\b\b\b\b\b\b\b\b\b\b\b\b\b\b\b\b\b\b\b\b\b\b\b\b\b\b\b\b\b\b\b\b\b\b\b\b\b\b\b\b\b\b\b\b\b\b\b\b\b\b\b\b\b\b\b\b\b\b\b\b\b\r238/238 [==============================] - 28s 117ms/step - loss: 0.1143 - accuracy: 0.9545 - f1_m: 0.9545 - precision_m: 0.9545 - recall_m: 0.9545 - val_loss: 0.1742 - val_accuracy: 0.9344 - val_f1_m: 0.9344 - val_precision_m: 0.9344 - val_recall_m: 0.9344\n",
            "Epoch 49/50\n",
            "239/238 [==============================] - ETA: 0s - loss: 0.1102 - accuracy: 0.9560 - f1_m: 0.9560 - precision_m: 0.9560 - recall_m: 0.9560"
          ]
        },
        {
          "output_type": "stream",
          "name": "stderr",
          "text": [
            "WARNING:tensorflow:Early stopping conditioned on metric `val_accuraccy` which is not available. Available metrics are: loss,accuracy,f1_m,precision_m,recall_m,val_loss,val_accuracy,val_f1_m,val_precision_m,val_recall_m\n"
          ]
        },
        {
          "output_type": "stream",
          "name": "stdout",
          "text": [
            "\b\b\b\b\b\b\b\b\b\b\b\b\b\b\b\b\b\b\b\b\b\b\b\b\b\b\b\b\b\b\b\b\b\b\b\b\b\b\b\b\b\b\b\b\b\b\b\b\b\b\b\b\b\b\b\b\b\b\b\b\b\b\b\b\b\b\b\b\b\b\b\b\b\b\b\b\b\b\b\b\b\b\b\b\b\b\b\b\b\b\b\b\b\b\b\b\b\b\b\b\b\b\b\b\b\b\b\b\b\b\b\b\b\b\b\b\b\b\b\b\b\b\b\b\b\b\b\b\b\b\b\b\b\b\b\b\b\b\b\b\r238/238 [==============================] - 27s 112ms/step - loss: 0.1102 - accuracy: 0.9560 - f1_m: 0.9560 - precision_m: 0.9560 - recall_m: 0.9560 - val_loss: 0.1891 - val_accuracy: 0.9260 - val_f1_m: 0.9260 - val_precision_m: 0.9260 - val_recall_m: 0.9260\n",
            "Epoch 50/50\n",
            "239/238 [==============================] - ETA: 0s - loss: 0.1061 - accuracy: 0.9576 - f1_m: 0.9575 - precision_m: 0.9575 - recall_m: 0.9575"
          ]
        },
        {
          "output_type": "stream",
          "name": "stderr",
          "text": [
            "WARNING:tensorflow:Early stopping conditioned on metric `val_accuraccy` which is not available. Available metrics are: loss,accuracy,f1_m,precision_m,recall_m,val_loss,val_accuracy,val_f1_m,val_precision_m,val_recall_m\n"
          ]
        },
        {
          "output_type": "stream",
          "name": "stdout",
          "text": [
            "\b\b\b\b\b\b\b\b\b\b\b\b\b\b\b\b\b\b\b\b\b\b\b\b\b\b\b\b\b\b\b\b\b\b\b\b\b\b\b\b\b\b\b\b\b\b\b\b\b\b\b\b\b\b\b\b\b\b\b\b\b\b\b\b\b\b\b\b\b\b\b\b\b\b\b\b\b\b\b\b\b\b\b\b\b\b\b\b\b\b\b\b\b\b\b\b\b\b\b\b\b\b\b\b\b\b\b\b\b\b\b\b\b\b\b\b\b\b\b\b\b\b\b\b\b\b\b\b\b\b\b\b\b\b\b\b\b\b\b\b\r238/238 [==============================] - 27s 112ms/step - loss: 0.1061 - accuracy: 0.9576 - f1_m: 0.9575 - precision_m: 0.9575 - recall_m: 0.9575 - val_loss: 0.1734 - val_accuracy: 0.9358 - val_f1_m: 0.9358 - val_precision_m: 0.9358 - val_recall_m: 0.9358\n"
          ]
        }
      ]
    },
    {
      "cell_type": "code",
      "source": [
        "def plotmodelhistory(history):\n",
        "    fig, axs = plt.subplots(3, 2, figsize=(15, 10))\n",
        "\n",
        "    # Plot accuracy\n",
        "    axs[0, 0].plot(history.history['accuracy'])\n",
        "    axs[0, 0].plot(history.history['val_accuracy'])\n",
        "    axs[0, 0].set_title('Model Accuracy')\n",
        "    axs[0, 0].set_ylabel('Accuracy')\n",
        "    axs[0, 0].set_xlabel('Epoch')\n",
        "    axs[0, 0].legend(['train', 'validate'], loc='upper left')\n",
        "\n",
        "    # Plot loss\n",
        "    axs[0, 1].plot(history.history['loss'])\n",
        "    axs[0, 1].plot(history.history['val_loss'])\n",
        "    axs[0, 1].set_title('Model Loss')\n",
        "    axs[0, 1].set_ylabel('Loss')\n",
        "    axs[0, 1].set_xlabel('Epoch')\n",
        "    axs[0, 1].legend(['train', 'validate'], loc='upper left')\n",
        "\n",
        "    # Plot precision_m\n",
        "    axs[1, 0].plot(history.history['precision_m'])\n",
        "    axs[1, 0].plot(history.history['val_precision_m'])\n",
        "    axs[1, 0].set_title('Model Precision')\n",
        "    axs[1, 0].set_ylabel('Precision')\n",
        "    axs[1, 0].set_xlabel('Epoch')\n",
        "    axs[1, 0].legend(['train', 'validate'], loc='upper left')\n",
        "\n",
        "    # Plot recall_m\n",
        "    axs[1, 1].plot(history.history['recall_m'])\n",
        "    axs[1, 1].plot(history.history['val_recall_m'])\n",
        "    axs[1, 1].set_title('Model Recall')\n",
        "    axs[1, 1].set_ylabel('Recall')\n",
        "    axs[1, 1].set_xlabel('Epoch')\n",
        "    axs[1, 1].legend(['train', 'validate'], loc='upper left')\n",
        "\n",
        "    # Plot f1score_m\n",
        "    axs[2, 0].plot(history.history['f1_m'])\n",
        "    axs[2, 0].plot(history.history['val_f1_m'])\n",
        "    axs[2, 0].set_title('Model F1score')\n",
        "    axs[2, 0].set_ylabel('F1score')\n",
        "    axs[2, 0].set_xlabel('Epoch')\n",
        "    axs[2, 0].legend(['train', 'validate'], loc='upper left')\n",
        "\n",
        "    plt.tight_layout()\n",
        "    plt.show()\n",
        "\n",
        "# list all data in history\n",
        "print(history.history.keys())\n",
        "plotmodelhistory(history)"
      ],
      "metadata": {
        "colab": {
          "base_uri": "https://localhost:8080/",
          "height": 819
        },
        "id": "Zwtu2NOWA7OX",
        "outputId": "06d0c999-1bb9-4561-f1ee-3d7300fb639c"
      },
      "execution_count": 14,
      "outputs": [
        {
          "output_type": "stream",
          "name": "stdout",
          "text": [
            "dict_keys(['loss', 'accuracy', 'f1_m', 'precision_m', 'recall_m', 'val_loss', 'val_accuracy', 'val_f1_m', 'val_precision_m', 'val_recall_m'])\n"
          ]
        },
        {
          "output_type": "display_data",
          "data": {
            "text/plain": [
              "<Figure size 1500x1000 with 6 Axes>"
            ],
            "image/png": "[encoded data removed]"
          },
          "metadata": {}
        }
      ]
    },
    {
      "cell_type": "code",
      "source": [
        "lost_test, accuracy_test, f1score_test, precision_test, recall_test = model.evaluate(X_test, Y_test, verbose=0)\n",
        "print(\"Loss of test set is: \",lost_test)\n",
        "print(\"Accuracy of test set is: \",accuracy_test)\n",
        "print(\"F1score of test set is: \",f1score_test)\n",
        "print(\"Precision of test set is: \",precision_test)\n",
        "print(\"Recall of test set is: \",recall_test)"
      ],
      "metadata": {
        "id": "9PoQa4QOZZ9P",
        "colab": {
          "base_uri": "https://localhost:8080/"
        },
        "outputId": "acff6fb6-efc3-4d99-cfa9-62ffa4842a7a"
      },
      "execution_count": 15,
      "outputs": [
        {
          "output_type": "stream",
          "name": "stdout",
          "text": [
            "Loss of test set is:  0.42303603887557983\n",
            "Accuracy of test set is:  0.8679569959640503\n",
            "F1score of test set is:  0.8679569959640503\n",
            "Precision of test set is:  0.8679569959640503\n",
            "Recall of test set is:  0.8679569959640503\n"
          ]
        }
      ]
    },
    {
      "cell_type": "markdown",
      "source": [
        "### Draw confusion matrix"
      ],
      "metadata": {
        "id": "HTDrPbViNg9y"
      }
    },
    {
      "cell_type": "code",
      "source": [
        "label"
      ],
      "metadata": {
        "colab": {
          "base_uri": "https://localhost:8080/"
        },
        "id": "WpK8RJhdvcv0",
        "outputId": "f1e9d56c-6fa7-4c22-be18-932b489c48ca"
      },
      "execution_count": 18,
      "outputs": [
        {
          "output_type": "execute_result",
          "data": {
            "text/plain": [
              "array(['right thumb', 'left thumb'], dtype='<U11')"
            ]
          },
          "metadata": {},
          "execution_count": 18
        }
      ]
    },
    {
      "cell_type": "code",
      "source": [
        "labels = list(label)\n",
        "labels"
      ],
      "metadata": {
        "colab": {
          "base_uri": "https://localhost:8080/"
        },
        "id": "6F-8eMluviBk",
        "outputId": "3b7a1714-67ab-4e2d-a799-e248eb425efc"
      },
      "execution_count": 20,
      "outputs": [
        {
          "output_type": "execute_result",
          "data": {
            "text/plain": [
              "['right thumb', 'left thumb']"
            ]
          },
          "metadata": {},
          "execution_count": 20
        }
      ]
    },
    {
      "cell_type": "code",
      "source": [
        "from sklearn.metrics import ConfusionMatrixDisplay\n",
        "from sklearn.metrics import confusion_matrix\n",
        "\n",
        "y_pred = model.predict(X_train)\n",
        "y_pred_classes = np.argmax(y_pred, axis=1)\n",
        "y_true = np.argmax(Y_train, axis=1)\n",
        "\n",
        "labels = list(label)\n",
        "# Calculate confusion matrix\n",
        "cm = confusion_matrix(y_true, y_pred_classes)\n",
        "\n",
        "disp = ConfusionMatrixDisplay(confusion_matrix=cm, display_labels=labels)\n",
        "\n",
        "fig, ax = plt.subplots(figsize=(15, 10))  # resize aspect ratio\n",
        "\n",
        "# Draw confusion matrix\n",
        "disp.plot(cmap=plt.cm.Blues, ax=ax, xticks_rotation=45)\n",
        "\n",
        "# Downsize font of xticks\n",
        "plt.xticks(rotation=45, ha='right', fontsize=12)  # Rotate and downsize x-axis labels\n",
        "plt.yticks(fontsize=12)  # Downsize y-axis labels\n",
        "\n",
        "# Adjust the font size of the numbers in the cells\n",
        "for text in disp.ax_.texts:\n",
        "    text.set_fontsize(10)\n",
        "\n",
        "# Use tight_layout to optimize layout\n",
        "plt.tight_layout()\n",
        "\n",
        "plt.show()\n"
      ],
      "metadata": {
        "id": "2qcO1_OSp1Ge",
        "colab": {
          "base_uri": "https://localhost:8080/",
          "height": 1000
        },
        "outputId": "82b54ce2-d6cf-4ba1-f2ca-f7b83fc3b8cf"
      },
      "execution_count": 21,
      "outputs": [
        {
          "output_type": "stream",
          "name": "stdout",
          "text": [
            "1911/1911 [==============================] - 15s 8ms/step\n"
          ]
        },
        {
          "output_type": "display_data",
          "data": {
            "text/plain": [
              "<Figure size 1500x1000 with 2 Axes>"
            ],
            "image/png": "[encoded data removed]"
          },
          "metadata": {}
        }
      ]
    },
    {
      "cell_type": "code",
      "source": [
        "from sklearn.metrics import ConfusionMatrixDisplay\n",
        "from sklearn.metrics import confusion_matrix\n",
        "import numpy as np\n",
        "import matplotlib.pyplot as plt\n",
        "\n",
        "y_pred = model.predict(X_test)\n",
        "y_pred_classes = np.argmax(y_pred, axis=1)\n",
        "y_true = np.argmax(Y_test, axis=1)\n",
        "\n",
        "labels = list(label)\n",
        "# Calculate confusion matrix\n",
        "cm = confusion_matrix(y_true, y_pred_classes)\n",
        "\n",
        "disp = ConfusionMatrixDisplay(confusion_matrix=cm, display_labels=labels)\n",
        "\n",
        "fig, ax = plt.subplots(figsize=(15, 10))  # resize aspect ratio\n",
        "\n",
        "# Draw confusion matrix\n",
        "disp.plot(cmap=plt.cm.Blues, ax=ax, xticks_rotation=45)\n",
        "\n",
        "# Downsize font of xticks\n",
        "plt.xticks(rotation=45, ha='right', fontsize=12)  # Rotate and downsize x-axis labels\n",
        "plt.yticks(fontsize=12)  # Downsize y-axis labels\n",
        "\n",
        "# Adjust the font size of the numbers in the cells\n",
        "for text in disp.ax_.texts:\n",
        "    text.set_fontsize(10)\n",
        "\n",
        "# Use tight_layout to optimize layout\n",
        "plt.tight_layout()\n",
        "\n",
        "plt.show()\n"
      ],
      "metadata": {
        "id": "7O4slKcwsMxe",
        "colab": {
          "base_uri": "https://localhost:8080/",
          "height": 1000
        },
        "outputId": "337125e7-aa48-4e96-c354-d689f396117c"
      },
      "execution_count": 22,
      "outputs": [
        {
          "output_type": "stream",
          "name": "stdout",
          "text": [
            "599/599 [==============================] - 4s 7ms/step\n"
          ]
        },
        {
          "output_type": "display_data",
          "data": {
            "text/plain": [
              "<Figure size 1500x1000 with 2 Axes>"
            ],
            "image/png": "[encoded data removed]"
          },
          "metadata": {}
        }
      ]
    },
    {
      "cell_type": "code",
      "source": [
        "X_train.shape, Y_train.shape, X_test.shape, Y_test.shape"
      ],
      "metadata": {
        "id": "mk25Kukwr9uN",
        "colab": {
          "base_uri": "https://localhost:8080/"
        },
        "outputId": "82dcaa5b-f6ba-48b7-cacf-759919d64818"
      },
      "execution_count": 23,
      "outputs": [
        {
          "output_type": "execute_result",
          "data": {
            "text/plain": [
              "((61122, 32, 32, 1), (61122, 2), (19168, 32, 32, 1), (19168, 2))"
            ]
          },
          "metadata": {},
          "execution_count": 23
        }
      ]
    }
  ]
}