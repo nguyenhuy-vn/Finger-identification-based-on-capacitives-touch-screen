{
  "nbformat": 4,
  "nbformat_minor": 0,
  "metadata": {
    "colab": {
      "provenance": [],
      "authorship_tag": "ABX9TyPrNV4TTSRUVeJwO5HmNell",
      "include_colab_link": true
    },
    "kernelspec": {
      "name": "python3",
      "display_name": "Python 3"
    },
    "language_info": {
      "name": "python"
    }
  },
  "cells": [
    {
      "cell_type": "markdown",
      "metadata": {
        "id": "view-in-github",
        "colab_type": "text"
      },
      "source": [
        "<a href=\"https://colab.research.google.com/github/nguyenhuy-vn/Finger-identification-based-on-capacitives-touch-screen/blob/main/save_data_custom_for_thumb_finger.ipynb\" target=\"_parent\"><img src=\"https://colab.research.google.com/assets/colab-badge.svg\" alt=\"Open In Colab\"/></a>"
      ]
    },
    {
      "cell_type": "markdown",
      "source": [
        "### Connect google drive\n"
      ],
      "metadata": {
        "id": "EUQvdb6mqXpW"
      }
    },
    {
      "cell_type": "code",
      "execution_count": 1,
      "metadata": {
        "colab": {
          "base_uri": "https://localhost:8080/"
        },
        "id": "Z20DdGZrqCy_",
        "outputId": "ed0a0de6-ea66-4864-b48d-5317e170ab19"
      },
      "outputs": [
        {
          "output_type": "stream",
          "name": "stdout",
          "text": [
            "Mounted at /content/drive\n"
          ]
        }
      ],
      "source": [
        "from google.colab import drive\n",
        "drive.mount('/content/drive')"
      ]
    },
    {
      "cell_type": "markdown",
      "source": [
        "### Import libraries"
      ],
      "metadata": {
        "id": "UPBOnbujq0xH"
      }
    },
    {
      "cell_type": "code",
      "source": [
        "import numpy as np\n",
        "import pandas as pd\n",
        "import matplotlib.pyplot as plt\n",
        "import cv2"
      ],
      "metadata": {
        "id": "xP-Ufq_OqmeO"
      },
      "execution_count": 2,
      "outputs": []
    },
    {
      "cell_type": "markdown",
      "source": [
        "### Load data from pkl file"
      ],
      "metadata": {
        "id": "_8ArXSOsq8zI"
      }
    },
    {
      "cell_type": "code",
      "source": [
        "df = pd.read_pickle(\"/content/drive/MyDrive/full_preprocess_data.pkl\")"
      ],
      "metadata": {
        "id": "ia1B8gSmrBnP"
      },
      "execution_count": 3,
      "outputs": []
    },
    {
      "cell_type": "code",
      "source": [
        "df.head(5)"
      ],
      "metadata": {
        "colab": {
          "base_uri": "https://localhost:8080/",
          "height": 851
        },
        "id": "kH4UDjZpmKCY",
        "outputId": "4efb2749-ea47-4834-cfe9-84b46d8608a4"
      },
      "execution_count": 4,
      "outputs": [
        {
          "output_type": "execute_result",
          "data": {
            "text/plain": [
              "    Participant Handedness  Finger Task  \\\n",
              "16            3      right  little  TAP   \n",
              "17            3      right  little  TAP   \n",
              "18            3      right  little  TAP   \n",
              "19            3      right  little  TAP   \n",
              "20            3      right  little  TAP   \n",
              "\n",
              "                                               Matrix      Timestamp  \\\n",
              "16  [[0, 0, 1, 0, 0, 1, 0, 0, 0, 0, 0, 2, 0, 1, 1]...  1508943194856   \n",
              "17  [[0, 0, 1, 0, 0, 1, 0, 0, 0, 0, 0, 2, 0, 1, 1]...  1508943194856   \n",
              "18  [[0, 0, 1, 0, 0, 1, 0, 0, 0, 0, 0, 2, 0, 1, 1]...  1508943194926   \n",
              "19  [[0, 0, 1, 0, 0, 1, 0, 0, 0, 0, 0, 2, 0, 1, 1]...  1508943194997   \n",
              "20  [[0, 0, 1, 0, 0, 1, 0, 0, 0, 0, 0, 2, 0, 1, 1]...  1508943194997   \n",
              "\n",
              "            BlobCoords  BlobCount  \\\n",
              "16  [(10, 14, 13, 17)]          1   \n",
              "17  [(10, 14, 13, 17)]          1   \n",
              "18  [(10, 14, 14, 18)]          1   \n",
              "19  [(10, 14, 13, 18)]          1   \n",
              "20  [(10, 14, 13, 18)]          1   \n",
              "\n",
              "                                                Blobs  \\\n",
              "16  [[[0, 4, 9, 1], [4, 31, 48, 10], [9, 150, 215,...   \n",
              "17  [[[0, 4, 9, 1], [4, 31, 48, 10], [9, 150, 215,...   \n",
              "18  [[[1, 17, 27, 5], [6, 105, 140, 27], [18, 161,...   \n",
              "19  [[[1, 7, 9, 1], [2, 31, 52, 10], [10, 168, 231...   \n",
              "20  [[[1, 7, 9, 1], [2, 31, 52, 10], [10, 168, 231...   \n",
              "\n",
              "                                            BlobImage  \\\n",
              "16  [[0, 4, 9, 1, 0, 0, 0, 0, 0, 0, 0, 0, 0, 0, 0]...   \n",
              "17  [[0, 4, 9, 1, 0, 0, 0, 0, 0, 0, 0, 0, 0, 0, 0]...   \n",
              "18  [[1, 17, 27, 5, 0, 0, 0, 0, 0, 0, 0, 0, 0, 0, ...   \n",
              "19  [[1, 7, 9, 1, 0, 0, 0, 0, 0, 0, 0, 0, 0, 0, 0]...   \n",
              "20  [[1, 7, 9, 1, 0, 0, 0, 0, 0, 0, 0, 0, 0, 0, 0]...   \n",
              "\n",
              "                                     BlobImgFlattened  \n",
              "16  [0, 4, 9, 1, 0, 0, 0, 0, 0, 0, 0, 0, 0, 0, 0, ...  \n",
              "17  [0, 4, 9, 1, 0, 0, 0, 0, 0, 0, 0, 0, 0, 0, 0, ...  \n",
              "18  [1, 17, 27, 5, 0, 0, 0, 0, 0, 0, 0, 0, 0, 0, 0...  \n",
              "19  [1, 7, 9, 1, 0, 0, 0, 0, 0, 0, 0, 0, 0, 0, 0, ...  \n",
              "20  [1, 7, 9, 1, 0, 0, 0, 0, 0, 0, 0, 0, 0, 0, 0, ...  "
            ],
            "text/html": [
              "\n",
              "  <div id=\"df-6a5242b9-b5b5-47c6-a81b-9ac3a0f045b1\" class=\"colab-df-container\">\n",
              "    <div>\n",
              "<style scoped>\n",
              "    .dataframe tbody tr th:only-of-type {\n",
              "        vertical-align: middle;\n",
              "    }\n",
              "\n",
              "    .dataframe tbody tr th {\n",
              "        vertical-align: top;\n",
              "    }\n",
              "\n",
              "    .dataframe thead th {\n",
              "        text-align: right;\n",
              "    }\n",
              "</style>\n",
              "<table border=\"1\" class=\"dataframe\">\n",
              "  <thead>\n",
              "    <tr style=\"text-align: right;\">\n",
              "      <th></th>\n",
              "      <th>Participant</th>\n",
              "      <th>Handedness</th>\n",
              "      <th>Finger</th>\n",
              "      <th>Task</th>\n",
              "      <th>Matrix</th>\n",
              "      <th>Timestamp</th>\n",
              "      <th>BlobCoords</th>\n",
              "      <th>BlobCount</th>\n",
              "      <th>Blobs</th>\n",
              "      <th>BlobImage</th>\n",
              "      <th>BlobImgFlattened</th>\n",
              "    </tr>\n",
              "  </thead>\n",
              "  <tbody>\n",
              "    <tr>\n",
              "      <th>16</th>\n",
              "      <td>3</td>\n",
              "      <td>right</td>\n",
              "      <td>little</td>\n",
              "      <td>TAP</td>\n",
              "      <td>[[0, 0, 1, 0, 0, 1, 0, 0, 0, 0, 0, 2, 0, 1, 1]...</td>\n",
              "      <td>1508943194856</td>\n",
              "      <td>[(10, 14, 13, 17)]</td>\n",
              "      <td>1</td>\n",
              "      <td>[[[0, 4, 9, 1], [4, 31, 48, 10], [9, 150, 215,...</td>\n",
              "      <td>[[0, 4, 9, 1, 0, 0, 0, 0, 0, 0, 0, 0, 0, 0, 0]...</td>\n",
              "      <td>[0, 4, 9, 1, 0, 0, 0, 0, 0, 0, 0, 0, 0, 0, 0, ...</td>\n",
              "    </tr>\n",
              "    <tr>\n",
              "      <th>17</th>\n",
              "      <td>3</td>\n",
              "      <td>right</td>\n",
              "      <td>little</td>\n",
              "      <td>TAP</td>\n",
              "      <td>[[0, 0, 1, 0, 0, 1, 0, 0, 0, 0, 0, 2, 0, 1, 1]...</td>\n",
              "      <td>1508943194856</td>\n",
              "      <td>[(10, 14, 13, 17)]</td>\n",
              "      <td>1</td>\n",
              "      <td>[[[0, 4, 9, 1], [4, 31, 48, 10], [9, 150, 215,...</td>\n",
              "      <td>[[0, 4, 9, 1, 0, 0, 0, 0, 0, 0, 0, 0, 0, 0, 0]...</td>\n",
              "      <td>[0, 4, 9, 1, 0, 0, 0, 0, 0, 0, 0, 0, 0, 0, 0, ...</td>\n",
              "    </tr>\n",
              "    <tr>\n",
              "      <th>18</th>\n",
              "      <td>3</td>\n",
              "      <td>right</td>\n",
              "      <td>little</td>\n",
              "      <td>TAP</td>\n",
              "      <td>[[0, 0, 1, 0, 0, 1, 0, 0, 0, 0, 0, 2, 0, 1, 1]...</td>\n",
              "      <td>1508943194926</td>\n",
              "      <td>[(10, 14, 14, 18)]</td>\n",
              "      <td>1</td>\n",
              "      <td>[[[1, 17, 27, 5], [6, 105, 140, 27], [18, 161,...</td>\n",
              "      <td>[[1, 17, 27, 5, 0, 0, 0, 0, 0, 0, 0, 0, 0, 0, ...</td>\n",
              "      <td>[1, 17, 27, 5, 0, 0, 0, 0, 0, 0, 0, 0, 0, 0, 0...</td>\n",
              "    </tr>\n",
              "    <tr>\n",
              "      <th>19</th>\n",
              "      <td>3</td>\n",
              "      <td>right</td>\n",
              "      <td>little</td>\n",
              "      <td>TAP</td>\n",
              "      <td>[[0, 0, 1, 0, 0, 1, 0, 0, 0, 0, 0, 2, 0, 1, 1]...</td>\n",
              "      <td>1508943194997</td>\n",
              "      <td>[(10, 14, 13, 18)]</td>\n",
              "      <td>1</td>\n",
              "      <td>[[[1, 7, 9, 1], [2, 31, 52, 10], [10, 168, 231...</td>\n",
              "      <td>[[1, 7, 9, 1, 0, 0, 0, 0, 0, 0, 0, 0, 0, 0, 0]...</td>\n",
              "      <td>[1, 7, 9, 1, 0, 0, 0, 0, 0, 0, 0, 0, 0, 0, 0, ...</td>\n",
              "    </tr>\n",
              "    <tr>\n",
              "      <th>20</th>\n",
              "      <td>3</td>\n",
              "      <td>right</td>\n",
              "      <td>little</td>\n",
              "      <td>TAP</td>\n",
              "      <td>[[0, 0, 1, 0, 0, 1, 0, 0, 0, 0, 0, 2, 0, 1, 1]...</td>\n",
              "      <td>1508943194997</td>\n",
              "      <td>[(10, 14, 13, 18)]</td>\n",
              "      <td>1</td>\n",
              "      <td>[[[1, 7, 9, 1], [2, 31, 52, 10], [10, 168, 231...</td>\n",
              "      <td>[[1, 7, 9, 1, 0, 0, 0, 0, 0, 0, 0, 0, 0, 0, 0]...</td>\n",
              "      <td>[1, 7, 9, 1, 0, 0, 0, 0, 0, 0, 0, 0, 0, 0, 0, ...</td>\n",
              "    </tr>\n",
              "  </tbody>\n",
              "</table>\n",
              "</div>\n",
              "    <div class=\"colab-df-buttons\">\n",
              "\n",
              "  <div class=\"colab-df-container\">\n",
              "    <button class=\"colab-df-convert\" onclick=\"convertToInteractive('df-6a5242b9-b5b5-47c6-a81b-9ac3a0f045b1')\"\n",
              "            title=\"Convert this dataframe to an interactive table.\"\n",
              "            style=\"display:none;\">\n",
              "\n",
              "  <svg xmlns=\"http://www.w3.org/2000/svg\" height=\"24px\" viewBox=\"0 -960 960 960\">\n",
              "    <path d=\"M120-120v-720h720v720H120Zm60-500h600v-160H180v160Zm220 220h160v-160H400v160Zm0 220h160v-160H400v160ZM180-400h160v-160H180v160Zm440 0h160v-160H620v160ZM180-180h160v-160H180v160Zm440 0h160v-160H620v160Z\"/>\n",
              "  </svg>\n",
              "    </button>\n",
              "\n",
              "  <style>\n",
              "    .colab-df-container {\n",
              "      display:flex;\n",
              "      gap: 12px;\n",
              "    }\n",
              "\n",
              "    .colab-df-convert {\n",
              "      background-color: #E8F0FE;\n",
              "      border: none;\n",
              "      border-radius: 50%;\n",
              "      cursor: pointer;\n",
              "      display: none;\n",
              "      fill: #1967D2;\n",
              "      height: 32px;\n",
              "      padding: 0 0 0 0;\n",
              "      width: 32px;\n",
              "    }\n",
              "\n",
              "    .colab-df-convert:hover {\n",
              "      background-color: #E2EBFA;\n",
              "      box-shadow: 0px 1px 2px rgba(60, 64, 67, 0.3), 0px 1px 3px 1px rgba(60, 64, 67, 0.15);\n",
              "      fill: #174EA6;\n",
              "    }\n",
              "\n",
              "    .colab-df-buttons div {\n",
              "      margin-bottom: 4px;\n",
              "    }\n",
              "\n",
              "    [theme=dark] .colab-df-convert {\n",
              "      background-color: #3B4455;\n",
              "      fill: #D2E3FC;\n",
              "    }\n",
              "\n",
              "    [theme=dark] .colab-df-convert:hover {\n",
              "      background-color: #434B5C;\n",
              "      box-shadow: 0px 1px 3px 1px rgba(0, 0, 0, 0.15);\n",
              "      filter: drop-shadow(0px 1px 2px rgba(0, 0, 0, 0.3));\n",
              "      fill: #FFFFFF;\n",
              "    }\n",
              "  </style>\n",
              "\n",
              "    <script>\n",
              "      const buttonEl =\n",
              "        document.querySelector('#df-6a5242b9-b5b5-47c6-a81b-9ac3a0f045b1 button.colab-df-convert');\n",
              "      buttonEl.style.display =\n",
              "        google.colab.kernel.accessAllowed ? 'block' : 'none';\n",
              "\n",
              "      async function convertToInteractive(key) {\n",
              "        const element = document.querySelector('#df-6a5242b9-b5b5-47c6-a81b-9ac3a0f045b1');\n",
              "        const dataTable =\n",
              "          await google.colab.kernel.invokeFunction('convertToInteractive',\n",
              "                                                    [key], {});\n",
              "        if (!dataTable) return;\n",
              "\n",
              "        const docLinkHtml = 'Like what you see? Visit the ' +\n",
              "          '<a target=\"_blank\" href=https://colab.research.google.com/notebooks/data_table.ipynb>data table notebook</a>'\n",
              "          + ' to learn more about interactive tables.';\n",
              "        element.innerHTML = '';\n",
              "        dataTable['output_type'] = 'display_data';\n",
              "        await google.colab.output.renderOutput(dataTable, element);\n",
              "        const docLink = document.createElement('div');\n",
              "        docLink.innerHTML = docLinkHtml;\n",
              "        element.appendChild(docLink);\n",
              "      }\n",
              "    </script>\n",
              "  </div>\n",
              "\n",
              "\n",
              "<div id=\"df-59607995-13ac-4d2e-bafa-42b7cef211ab\">\n",
              "  <button class=\"colab-df-quickchart\" onclick=\"quickchart('df-59607995-13ac-4d2e-bafa-42b7cef211ab')\"\n",
              "            title=\"Suggest charts\"\n",
              "            style=\"display:none;\">\n",
              "\n",
              "<svg xmlns=\"http://www.w3.org/2000/svg\" height=\"24px\"viewBox=\"0 0 24 24\"\n",
              "     width=\"24px\">\n",
              "    <g>\n",
              "        <path d=\"M19 3H5c-1.1 0-2 .9-2 2v14c0 1.1.9 2 2 2h14c1.1 0 2-.9 2-2V5c0-1.1-.9-2-2-2zM9 17H7v-7h2v7zm4 0h-2V7h2v10zm4 0h-2v-4h2v4z\"/>\n",
              "    </g>\n",
              "</svg>\n",
              "  </button>\n",
              "\n",
              "<style>\n",
              "  .colab-df-quickchart {\n",
              "      --bg-color: #E8F0FE;\n",
              "      --fill-color: #1967D2;\n",
              "      --hover-bg-color: #E2EBFA;\n",
              "      --hover-fill-color: #174EA6;\n",
              "      --disabled-fill-color: #AAA;\n",
              "      --disabled-bg-color: #DDD;\n",
              "  }\n",
              "\n",
              "  [theme=dark] .colab-df-quickchart {\n",
              "      --bg-color: #3B4455;\n",
              "      --fill-color: #D2E3FC;\n",
              "      --hover-bg-color: #434B5C;\n",
              "      --hover-fill-color: #FFFFFF;\n",
              "      --disabled-bg-color: #3B4455;\n",
              "      --disabled-fill-color: #666;\n",
              "  }\n",
              "\n",
              "  .colab-df-quickchart {\n",
              "    background-color: var(--bg-color);\n",
              "    border: none;\n",
              "    border-radius: 50%;\n",
              "    cursor: pointer;\n",
              "    display: none;\n",
              "    fill: var(--fill-color);\n",
              "    height: 32px;\n",
              "    padding: 0;\n",
              "    width: 32px;\n",
              "  }\n",
              "\n",
              "  .colab-df-quickchart:hover {\n",
              "    background-color: var(--hover-bg-color);\n",
              "    box-shadow: 0 1px 2px rgba(60, 64, 67, 0.3), 0 1px 3px 1px rgba(60, 64, 67, 0.15);\n",
              "    fill: var(--button-hover-fill-color);\n",
              "  }\n",
              "\n",
              "  .colab-df-quickchart-complete:disabled,\n",
              "  .colab-df-quickchart-complete:disabled:hover {\n",
              "    background-color: var(--disabled-bg-color);\n",
              "    fill: var(--disabled-fill-color);\n",
              "    box-shadow: none;\n",
              "  }\n",
              "\n",
              "  .colab-df-spinner {\n",
              "    border: 2px solid var(--fill-color);\n",
              "    border-color: transparent;\n",
              "    border-bottom-color: var(--fill-color);\n",
              "    animation:\n",
              "      spin 1s steps(1) infinite;\n",
              "  }\n",
              "\n",
              "  @keyframes spin {\n",
              "    0% {\n",
              "      border-color: transparent;\n",
              "      border-bottom-color: var(--fill-color);\n",
              "      border-left-color: var(--fill-color);\n",
              "    }\n",
              "    20% {\n",
              "      border-color: transparent;\n",
              "      border-left-color: var(--fill-color);\n",
              "      border-top-color: var(--fill-color);\n",
              "    }\n",
              "    30% {\n",
              "      border-color: transparent;\n",
              "      border-left-color: var(--fill-color);\n",
              "      border-top-color: var(--fill-color);\n",
              "      border-right-color: var(--fill-color);\n",
              "    }\n",
              "    40% {\n",
              "      border-color: transparent;\n",
              "      border-right-color: var(--fill-color);\n",
              "      border-top-color: var(--fill-color);\n",
              "    }\n",
              "    60% {\n",
              "      border-color: transparent;\n",
              "      border-right-color: var(--fill-color);\n",
              "    }\n",
              "    80% {\n",
              "      border-color: transparent;\n",
              "      border-right-color: var(--fill-color);\n",
              "      border-bottom-color: var(--fill-color);\n",
              "    }\n",
              "    90% {\n",
              "      border-color: transparent;\n",
              "      border-bottom-color: var(--fill-color);\n",
              "    }\n",
              "  }\n",
              "</style>\n",
              "\n",
              "  <script>\n",
              "    async function quickchart(key) {\n",
              "      const quickchartButtonEl =\n",
              "        document.querySelector('#' + key + ' button');\n",
              "      quickchartButtonEl.disabled = true;  // To prevent multiple clicks.\n",
              "      quickchartButtonEl.classList.add('colab-df-spinner');\n",
              "      try {\n",
              "        const charts = await google.colab.kernel.invokeFunction(\n",
              "            'suggestCharts', [key], {});\n",
              "      } catch (error) {\n",
              "        console.error('Error during call to suggestCharts:', error);\n",
              "      }\n",
              "      quickchartButtonEl.classList.remove('colab-df-spinner');\n",
              "      quickchartButtonEl.classList.add('colab-df-quickchart-complete');\n",
              "    }\n",
              "    (() => {\n",
              "      let quickchartButtonEl =\n",
              "        document.querySelector('#df-59607995-13ac-4d2e-bafa-42b7cef211ab button');\n",
              "      quickchartButtonEl.style.display =\n",
              "        google.colab.kernel.accessAllowed ? 'block' : 'none';\n",
              "    })();\n",
              "  </script>\n",
              "</div>\n",
              "\n",
              "    </div>\n",
              "  </div>\n"
            ],
            "application/vnd.google.colaboratory.intrinsic+json": {
              "type": "dataframe",
              "variable_name": "df"
            }
          },
          "metadata": {},
          "execution_count": 4
        }
      ]
    },
    {
      "cell_type": "code",
      "source": [
        "len(df)"
      ],
      "metadata": {
        "colab": {
          "base_uri": "https://localhost:8080/"
        },
        "id": "EspZ1xmfmiO1",
        "outputId": "3d3cd1f1-ddfe-48eb-e5cd-8a7fbccc584c"
      },
      "execution_count": 6,
      "outputs": [
        {
          "output_type": "execute_result",
          "data": {
            "text/plain": [
              "455709"
            ]
          },
          "metadata": {},
          "execution_count": 6
        }
      ]
    },
    {
      "cell_type": "code",
      "source": [
        "df = df[df.Finger == 'thumb']\n",
        "print(\"the number of thumb finger: \", len(df))"
      ],
      "metadata": {
        "colab": {
          "base_uri": "https://localhost:8080/"
        },
        "collapsed": true,
        "id": "8FxyTSlGm_vk",
        "outputId": "2e04f1d3-6c77-4e56-bbf5-896a74b42180"
      },
      "execution_count": 24,
      "outputs": [
        {
          "output_type": "stream",
          "name": "stdout",
          "text": [
            "the number of thumb finger:  95571\n"
          ]
        }
      ]
    },
    {
      "cell_type": "code",
      "source": [
        "temp = df['Handedness'].iloc[i]\n",
        "temp"
      ],
      "metadata": {
        "colab": {
          "base_uri": "https://localhost:8080/",
          "height": 36
        },
        "id": "l1HvloPOuyTy",
        "outputId": "4226f239-47e8-49aa-eb01-f8fb5d7e8169"
      },
      "execution_count": 28,
      "outputs": [
        {
          "output_type": "execute_result",
          "data": {
            "text/plain": [
              "'right'"
            ],
            "application/vnd.google.colaboratory.intrinsic+json": {
              "type": "string"
            }
          },
          "metadata": {},
          "execution_count": 28
        }
      ]
    },
    {
      "cell_type": "code",
      "source": [
        "left_count = []\n",
        "right_count = []\n",
        "\n",
        "for i in range(1, 21):\n",
        "    count_left = df[(df['Participant'] == i) & (df['Handedness'] == 'left')].shape[0]  # Count occurrences for participant i\n",
        "    count_right = df[(df['Participant'] == i) & (df['Handedness'] == 'right')].shape[0]\n",
        "    left_count.append(count_left)\n",
        "    right_count.append(count_right)\n",
        "\n",
        "print(left_count)\n",
        "print(right_count)\n"
      ],
      "metadata": {
        "colab": {
          "base_uri": "https://localhost:8080/"
        },
        "id": "zAea_hpSr5ag",
        "outputId": "3354bdb5-6333-4536-b503-95a8bfa9ffe5"
      },
      "execution_count": 39,
      "outputs": [
        {
          "output_type": "stream",
          "name": "stdout",
          "text": [
            "[2408, 2180, 1806, 2991, 2125, 2388, 2392, 2530, 2944, 2249, 2238, 2810, 4219, 1827, 2097, 2603, 2621, 4708, 1814, 1947]\n",
            "[2066, 1726, 1941, 3328, 2269, 2178, 1718, 2161, 2247, 1898, 2045, 1966, 4244, 1828, 2036, 2286, 2009, 2524, 2477, 1727]\n"
          ]
        }
      ]
    },
    {
      "cell_type": "code",
      "source": [
        "from itertools import combinations\n",
        "\n",
        "participants = list(range(1, 21))\n",
        "\n",
        "# Initialize variables to store the best combination and smallest difference\n",
        "best_combination = None\n",
        "smallest_difference = float('inf')\n",
        "\n",
        "# Iterate over all combinations of 16 participants\n",
        "for combination in combinations(participants, 16):\n",
        "    # Calculate the total left thumb count and right thumb count for the current combination\n",
        "    total_left = sum(left_count[i - 1] for i in combination)  # i - 1 to adjust for 0-based indexing\n",
        "    total_right = sum(right_count[i - 1] for i in combination)  # i - 1 to adjust for 0-based indexing\n",
        "\n",
        "    # Calculate the difference\n",
        "    difference = abs(total_left - total_right)\n",
        "\n",
        "    # Check if this is the smallest difference so far\n",
        "    if difference < smallest_difference:\n",
        "        smallest_difference = difference\n",
        "        best_combination = combination\n",
        "\n",
        "print(\"Best combination of participants:\", best_combination)\n",
        "print(\"Smallest difference:\", smallest_difference)\n"
      ],
      "metadata": {
        "colab": {
          "base_uri": "https://localhost:8080/"
        },
        "id": "hYTz-p4Kwt_o",
        "outputId": "7d2bc9eb-9f2e-4abf-b5ac-d1f174094d89"
      },
      "execution_count": 40,
      "outputs": [
        {
          "output_type": "stream",
          "name": "stdout",
          "text": [
            "Best combination of participants: (1, 2, 3, 4, 5, 6, 8, 10, 11, 13, 14, 15, 16, 17, 19, 20)\n",
            "Smallest difference: 1824\n"
          ]
        }
      ]
    },
    {
      "cell_type": "code",
      "source": [
        "ptcp_id_train = list(best_combination)\n",
        "ptcp_id_train"
      ],
      "metadata": {
        "colab": {
          "base_uri": "https://localhost:8080/"
        },
        "id": "fova6X5bzh1N",
        "outputId": "a9b626ec-635a-4815-8d1c-3332a14e3f41"
      },
      "execution_count": 41,
      "outputs": [
        {
          "output_type": "execute_result",
          "data": {
            "text/plain": [
              "[1, 2, 3, 4, 5, 6, 8, 10, 11, 13, 14, 15, 16, 17, 19, 20]"
            ]
          },
          "metadata": {},
          "execution_count": 41
        }
      ]
    },
    {
      "cell_type": "markdown",
      "source": [
        "### Encoder and add label column\n"
      ],
      "metadata": {
        "id": "v-93cype2XW0"
      }
    },
    {
      "cell_type": "code",
      "source": [
        "Handedness = df['Handedness'].unique()\n",
        "Finger = df['Finger'].unique()\n",
        "Handedness, Finger"
      ],
      "metadata": {
        "colab": {
          "base_uri": "https://localhost:8080/"
        },
        "id": "l4dWzwDD2EyV",
        "outputId": "2cafddad-6f2c-420f-ab81-867f59b4c3f1"
      },
      "execution_count": 42,
      "outputs": [
        {
          "output_type": "execute_result",
          "data": {
            "text/plain": [
              "(array(['right', 'left'], dtype=object), array(['thumb'], dtype=object))"
            ]
          },
          "metadata": {},
          "execution_count": 42
        }
      ]
    },
    {
      "cell_type": "code",
      "source": [
        "num = 0\n",
        "dict_data = {}\n",
        "for i in range (0, len(Handedness)):\n",
        "  for j in range (0, len(Finger)):\n",
        "    dict_temp = {Handedness[i] + ' ' + Finger[j]: num}\n",
        "    dict_data.update(dict_temp)\n",
        "    num = num + 1\n",
        "\n",
        "dict_data"
      ],
      "metadata": {
        "colab": {
          "base_uri": "https://localhost:8080/"
        },
        "id": "5KEeFK7z2cJa",
        "outputId": "5734d457-7314-4c80-893d-8440c84d57f4"
      },
      "execution_count": 43,
      "outputs": [
        {
          "output_type": "execute_result",
          "data": {
            "text/plain": [
              "{'right thumb': 0, 'left thumb': 1}"
            ]
          },
          "metadata": {},
          "execution_count": 43
        }
      ]
    },
    {
      "cell_type": "code",
      "source": [
        "def get_feature_column (handedness, finger):\n",
        "  c = handedness + ' ' + finger\n",
        "  return dict_data[c]\n",
        "\n",
        "df['label'] = [get_feature_column(df.Handedness.iloc[i], df.Finger.iloc[i]) for i in range (len(df))]\n",
        "\n",
        "df['label'].unique()"
      ],
      "metadata": {
        "colab": {
          "base_uri": "https://localhost:8080/"
        },
        "id": "6_iGrKq52fMy",
        "outputId": "7e1779ed-b010-4d09-e93b-80531a83be88"
      },
      "execution_count": 44,
      "outputs": [
        {
          "output_type": "execute_result",
          "data": {
            "text/plain": [
              "array([0, 1])"
            ]
          },
          "metadata": {},
          "execution_count": 44
        }
      ]
    },
    {
      "cell_type": "markdown",
      "source": [
        "### Split data"
      ],
      "metadata": {
        "id": "8szfUfuu27oC"
      }
    },
    {
      "cell_type": "code",
      "source": [
        "ptcp_id_train = np.array(ptcp_id_train)\n",
        "ptcp_id_train"
      ],
      "metadata": {
        "colab": {
          "base_uri": "https://localhost:8080/"
        },
        "id": "erwz9d7w3OZL",
        "outputId": "4b274775-9cae-4abf-b040-e0ade0c0e4fd"
      },
      "execution_count": 50,
      "outputs": [
        {
          "output_type": "execute_result",
          "data": {
            "text/plain": [
              "array([ 1,  2,  3,  4,  5,  6,  8, 10, 11, 13, 14, 15, 16, 17, 19, 20])"
            ]
          },
          "metadata": {},
          "execution_count": 50
        }
      ]
    },
    {
      "cell_type": "code",
      "source": [
        "def get_data (ones_train, ones_test, ones_train_label, ones_test_label, dframe, i):\n",
        "  for i in range(len(dframe)):\n",
        "    temp = int(dframe.iloc[i].Participant)\n",
        "    if (temp == ptcp_id_train).any():\n",
        "      arr_train = np.array(dframe.iloc[[i]].Blobs)\n",
        "      arr_train = arr_train[0][0].astype(np.uint8)\n",
        "      arr_train = cv2.resize(arr_train, (32, 32), interpolation = cv2.INTER_NEAREST)\n",
        "      y_temp1 = df.label.iloc[i]\n",
        "      if( type(ones_train) is str):\n",
        "        ones_train = [arr_train]\n",
        "        ones_train_label = [y_temp1]\n",
        "      else:\n",
        "        ones_train.extend([arr_train])\n",
        "        ones_train_label.append(y_temp1)\n",
        "    else:\n",
        "      arr_test = np.array(dframe.iloc[[i]].Blobs)\n",
        "      arr_test = arr_test[0][0].astype(np.uint8)\n",
        "      arr_test = cv2.resize(arr_test, (32, 32), interpolation=cv2.INTER_NEAREST)\n",
        "      y_temp2 = df.label.iloc[i]\n",
        "      if(type(ones_test) is str):\n",
        "        ones_test = [arr_test]\n",
        "        ones_test_label = [y_temp2]\n",
        "      else:\n",
        "        ones_test.extend([arr_test])\n",
        "        ones_test_label.append(y_temp2)\n",
        "  return ones_train, ones_test, ones_train_label, ones_test_label"
      ],
      "metadata": {
        "id": "3Lu4WeFL20LI"
      },
      "execution_count": 51,
      "outputs": []
    },
    {
      "cell_type": "code",
      "source": [
        "X_train = \"\"\n",
        "X_test = \"\"\n",
        "Y_train = \"\"\n",
        "Y_test = \"\"\n",
        "i = 0\n",
        "X_train, X_test, Y_train, Y_test = get_data(X_train, X_test, Y_train, Y_test, df, i)"
      ],
      "metadata": {
        "id": "aPli84co3HJT"
      },
      "execution_count": 52,
      "outputs": []
    },
    {
      "cell_type": "code",
      "source": [
        "X_train[0]"
      ],
      "metadata": {
        "colab": {
          "base_uri": "https://localhost:8080/",
          "height": 73
        },
        "id": "LKcrK_pK3Vi6",
        "outputId": "4d15b9b8-df4e-4e5a-e3b3-883ae3b8632b"
      },
      "execution_count": 53,
      "outputs": [
        {
          "output_type": "execute_result",
          "data": {
            "text/plain": [
              "array([[ 10,  10,  10, ...,   5,   5,   5],\n",
              "       [ 10,  10,  10, ...,   5,   5,   5],\n",
              "       [ 10,  10,  10, ...,   5,   5,   5],\n",
              "       ...,\n",
              "       [  2,   2,   2, ..., 108, 108, 108],\n",
              "       [  2,   2,   2, ..., 108, 108, 108],\n",
              "       [  2,   2,   2, ..., 108, 108, 108]], dtype=uint8)"
            ],
            "text/html": [
              "<style>\n",
              "      .ndarray_repr .ndarray_raw_data {\n",
              "        display: none;\n",
              "      }\n",
              "      .ndarray_repr.show_array .ndarray_raw_data {\n",
              "        display: block;\n",
              "      }\n",
              "      .ndarray_repr.show_array .ndarray_image_preview {\n",
              "        display: none;\n",
              "      }\n",
              "      </style>\n",
              "      <div id=\"id-758917fa-e285-4d7a-83cc-4853acaf83aa\" class=\"ndarray_repr\"><pre>ndarray (32, 32) <button style=\"padding: 0 2px;\">show data</button></pre><img src=\"data:image/png;base64,iVBORw0KGgoAAAANSUhEUgAAACAAAAAgCAAAAABWESUoAAAASklEQVR4nGPkYoAARij9D0r/gdJMDATA8FDA8h/KkILSYlD6Bv3cMBgUsMDi3wlKF0PpZfRzw2BQwPIbyjgMpZWg9Fv6uWEwKAAAbKAJeIOGTKIAAAAASUVORK5CYII=\" class=\"ndarray_image_preview\" /><pre class=\"ndarray_raw_data\">array([[ 10,  10,  10, ...,   5,   5,   5],\n",
              "       [ 10,  10,  10, ...,   5,   5,   5],\n",
              "       [ 10,  10,  10, ...,   5,   5,   5],\n",
              "       ...,\n",
              "       [  2,   2,   2, ..., 108, 108, 108],\n",
              "       [  2,   2,   2, ..., 108, 108, 108],\n",
              "       [  2,   2,   2, ..., 108, 108, 108]], dtype=uint8)</pre></div><script>\n",
              "      (() => {\n",
              "      const titles = ['show data', 'hide data'];\n",
              "      let index = 0\n",
              "      document.querySelector('#id-758917fa-e285-4d7a-83cc-4853acaf83aa button').onclick = (e) => {\n",
              "        document.querySelector('#id-758917fa-e285-4d7a-83cc-4853acaf83aa').classList.toggle('show_array');\n",
              "        index = (++index) % 2;\n",
              "        document.querySelector('#id-758917fa-e285-4d7a-83cc-4853acaf83aa button').textContent = titles[index];\n",
              "        e.preventDefault();\n",
              "        e.stopPropagation();\n",
              "      }\n",
              "      })();\n",
              "    </script>"
            ]
          },
          "metadata": {},
          "execution_count": 53
        }
      ]
    },
    {
      "cell_type": "code",
      "source": [
        "X_train = np.array(X_train)\n",
        "X_test = np.array(X_test)\n",
        "\n",
        "# Normalize the data\n",
        "X_train = X_train.astype('float32')\n",
        "X_test = X_test.astype('float32')\n",
        "X_train = X_train/255\n",
        "X_test = X_test/255"
      ],
      "metadata": {
        "id": "bVekCUa53YjD"
      },
      "execution_count": 54,
      "outputs": []
    },
    {
      "cell_type": "code",
      "source": [
        "Y_train = np.array(Y_train)\n",
        "Y_test = np.array(Y_test)\n",
        "\n",
        "Y_train = Y_train.reshape(-1,1)\n",
        "Y_test  = Y_test.reshape(-1,1)"
      ],
      "metadata": {
        "id": "VWz0fQz23cbs"
      },
      "execution_count": 55,
      "outputs": []
    },
    {
      "cell_type": "code",
      "source": [
        "X_train[0]"
      ],
      "metadata": {
        "colab": {
          "base_uri": "https://localhost:8080/"
        },
        "id": "MLDm_XGx3e9C",
        "outputId": "63c01174-289d-4a14-af21-ccbb748062c4"
      },
      "execution_count": 56,
      "outputs": [
        {
          "output_type": "execute_result",
          "data": {
            "text/plain": [
              "array([[0.03921569, 0.03921569, 0.03921569, ..., 0.01960784, 0.01960784,\n",
              "        0.01960784],\n",
              "       [0.03921569, 0.03921569, 0.03921569, ..., 0.01960784, 0.01960784,\n",
              "        0.01960784],\n",
              "       [0.03921569, 0.03921569, 0.03921569, ..., 0.01960784, 0.01960784,\n",
              "        0.01960784],\n",
              "       ...,\n",
              "       [0.00784314, 0.00784314, 0.00784314, ..., 0.42352942, 0.42352942,\n",
              "        0.42352942],\n",
              "       [0.00784314, 0.00784314, 0.00784314, ..., 0.42352942, 0.42352942,\n",
              "        0.42352942],\n",
              "       [0.00784314, 0.00784314, 0.00784314, ..., 0.42352942, 0.42352942,\n",
              "        0.42352942]], dtype=float32)"
            ]
          },
          "metadata": {},
          "execution_count": 56
        }
      ]
    },
    {
      "cell_type": "markdown",
      "source": [
        "### One hot encoding\n"
      ],
      "metadata": {
        "id": "HIFXGhRh3mv6"
      }
    },
    {
      "cell_type": "code",
      "source": [
        "from sklearn.preprocessing import OneHotEncoder\n",
        "encoder = OneHotEncoder()\n",
        "encoder.fit(Y_train)\n",
        "Y_train = encoder.transform(Y_train).toarray()\n",
        "Y_test = encoder.transform(Y_test).toarray()"
      ],
      "metadata": {
        "id": "0iwe8iwV37BU"
      },
      "execution_count": 58,
      "outputs": []
    },
    {
      "cell_type": "code",
      "source": [
        "Y_train[0]"
      ],
      "metadata": {
        "colab": {
          "base_uri": "https://localhost:8080/"
        },
        "id": "tvvszbUY4APB",
        "outputId": "e69841cb-4307-4003-86ae-2771224a8605"
      },
      "execution_count": 59,
      "outputs": [
        {
          "output_type": "execute_result",
          "data": {
            "text/plain": [
              "array([0., 1.])"
            ]
          },
          "metadata": {},
          "execution_count": 59
        }
      ]
    },
    {
      "cell_type": "markdown",
      "source": [
        "### Save matrix"
      ],
      "metadata": {
        "id": "doV0yov_4HOu"
      }
    },
    {
      "cell_type": "code",
      "source": [
        "label = list((dict_data.keys()))\n",
        "label"
      ],
      "metadata": {
        "colab": {
          "base_uri": "https://localhost:8080/"
        },
        "id": "w9UxTLGb4DRf",
        "outputId": "b369ae9b-d822-4734-bf1c-944e2b1fe7f6"
      },
      "execution_count": 60,
      "outputs": [
        {
          "output_type": "execute_result",
          "data": {
            "text/plain": [
              "['right thumb', 'left thumb']"
            ]
          },
          "metadata": {},
          "execution_count": 60
        }
      ]
    },
    {
      "cell_type": "code",
      "source": [
        "label_me = np.array(label)\n",
        "label_me"
      ],
      "metadata": {
        "colab": {
          "base_uri": "https://localhost:8080/"
        },
        "id": "U25XeKTd4PhB",
        "outputId": "46178f2d-81b1-44e1-f4e0-d6926411fe83"
      },
      "execution_count": 61,
      "outputs": [
        {
          "output_type": "execute_result",
          "data": {
            "text/plain": [
              "array(['right thumb', 'left thumb'], dtype='<U11')"
            ]
          },
          "metadata": {},
          "execution_count": 61
        }
      ]
    },
    {
      "cell_type": "code",
      "source": [
        "#save data train and test\n",
        "np.save('/content/drive/MyDrive/data for 2 custom/X_train.npy', X_train)\n",
        "np.save('/content/drive/MyDrive/data for 2 custom/X_test.npy', X_test)\n",
        "np.save('/content/drive/MyDrive/data for 2 custom/Y_train.npy', Y_train)\n",
        "np.save('/content/drive/MyDrive/data for 2 custom/Y_test.npy', Y_test)\n",
        "np.save('/content/drive/MyDrive/data for 2 custom/label.npy', label_me)"
      ],
      "metadata": {
        "id": "syoRqrhd4T0y"
      },
      "execution_count": 62,
      "outputs": []
    },
    {
      "cell_type": "code",
      "source": [
        "X_train.shape, X_test.shape, Y_train.shape, Y_test.shape"
      ],
      "metadata": {
        "colab": {
          "base_uri": "https://localhost:8080/"
        },
        "id": "YEq9tvW53jU4",
        "outputId": "3a8be523-cebd-4c3c-e5dc-d6dab8d64af5"
      },
      "execution_count": 63,
      "outputs": [
        {
          "output_type": "execute_result",
          "data": {
            "text/plain": [
              "((74262, 32, 32), (21309, 32, 32), (74262, 2), (21309, 2))"
            ]
          },
          "metadata": {},
          "execution_count": 63
        }
      ]
    }
  ]
}
