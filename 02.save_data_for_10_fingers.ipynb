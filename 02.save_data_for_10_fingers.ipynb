{
  "nbformat": 4,
  "nbformat_minor": 0,
  "metadata": {
    "colab": {
      "provenance": [],
      "authorship_tag": "ABX9TyMZlPu6kVsmf/dRHjsvehmh",
      "include_colab_link": true
    },
    "kernelspec": {
      "name": "python3",
      "display_name": "Python 3"
    },
    "language_info": {
      "name": "python"
    }
  },
  "cells": [
    {
      "cell_type": "markdown",
      "metadata": {
        "id": "view-in-github",
        "colab_type": "text"
      },
      "source": [
        "<a href=\"https://colab.research.google.com/github/nguyenhuy-vn/Finger-identification-based-on-capacitives-touch-screen/blob/main/data_for_10.ipynb\" target=\"_parent\"><img src=\"https://colab.research.google.com/assets/colab-badge.svg\" alt=\"Open In Colab\"/></a>"
      ]
    },
    {
      "cell_type": "markdown",
      "source": [
        "### Connect google drive\n"
      ],
      "metadata": {
        "id": "EUQvdb6mqXpW"
      }
    },
    {
      "cell_type": "code",
      "execution_count": 1,
      "metadata": {
        "colab": {
          "base_uri": "https://localhost:8080/"
        },
        "id": "Z20DdGZrqCy_",
        "outputId": "649658b8-546b-40ca-fdd3-09b37cf834de"
      },
      "outputs": [
        {
          "output_type": "stream",
          "name": "stdout",
          "text": [
            "Mounted at /content/drive\n"
          ]
        }
      ],
      "source": [
        "from google.colab import drive\n",
        "drive.mount('/content/drive')"
      ]
    },
    {
      "cell_type": "markdown",
      "source": [
        "### Import libraries"
      ],
      "metadata": {
        "id": "UPBOnbujq0xH"
      }
    },
    {
      "cell_type": "code",
      "source": [
        "import numpy as np\n",
        "import pandas as pd\n",
        "import matplotlib.pyplot as plt\n",
        "import cv2"
      ],
      "metadata": {
        "id": "xP-Ufq_OqmeO"
      },
      "execution_count": 2,
      "outputs": []
    },
    {
      "cell_type": "markdown",
      "source": [
        "### Load data from pkl file"
      ],
      "metadata": {
        "id": "_8ArXSOsq8zI"
      }
    },
    {
      "cell_type": "code",
      "source": [
        "df = pd.read_pickle(\"/content/drive/MyDrive/full_preprocess_data.pkl\")"
      ],
      "metadata": {
        "id": "ia1B8gSmrBnP"
      },
      "execution_count": 3,
      "outputs": []
    },
    {
      "cell_type": "code",
      "source": [
        "#view df\n",
        "df.head(5)"
      ],
      "metadata": {
        "colab": {
          "base_uri": "https://localhost:8080/",
          "height": 293
        },
        "id": "lMv7_aFlrM9E",
        "outputId": "eab78b96-9cff-46e4-8be5-45d312102453"
      },
      "execution_count": 4,
      "outputs": [
        {
          "output_type": "execute_result",
          "data": {
            "text/plain": [
              "    Participant Handedness  Finger Task  \\\n",
              "16            3      right  little  TAP   \n",
              "17            3      right  little  TAP   \n",
              "18            3      right  little  TAP   \n",
              "19            3      right  little  TAP   \n",
              "20            3      right  little  TAP   \n",
              "\n",
              "                                               Matrix      Timestamp  \\\n",
              "16  [[0, 0, 1, 0, 0, 1, 0, 0, 0, 0, 0, 2, 0, 1, 1]...  1508943194856   \n",
              "17  [[0, 0, 1, 0, 0, 1, 0, 0, 0, 0, 0, 2, 0, 1, 1]...  1508943194856   \n",
              "18  [[0, 0, 1, 0, 0, 1, 0, 0, 0, 0, 0, 2, 0, 1, 1]...  1508943194926   \n",
              "19  [[0, 0, 1, 0, 0, 1, 0, 0, 0, 0, 0, 2, 0, 1, 1]...  1508943194997   \n",
              "20  [[0, 0, 1, 0, 0, 1, 0, 0, 0, 0, 0, 2, 0, 1, 1]...  1508943194997   \n",
              "\n",
              "            BlobCoords  BlobCount  \\\n",
              "16  [(10, 14, 13, 17)]          1   \n",
              "17  [(10, 14, 13, 17)]          1   \n",
              "18  [(10, 14, 14, 18)]          1   \n",
              "19  [(10, 14, 13, 18)]          1   \n",
              "20  [(10, 14, 13, 18)]          1   \n",
              "\n",
              "                                                Blobs  \\\n",
              "16  [[[0, 4, 9, 1], [4, 31, 48, 10], [9, 150, 215,...   \n",
              "17  [[[0, 4, 9, 1], [4, 31, 48, 10], [9, 150, 215,...   \n",
              "18  [[[1, 17, 27, 5], [6, 105, 140, 27], [18, 161,...   \n",
              "19  [[[1, 7, 9, 1], [2, 31, 52, 10], [10, 168, 231...   \n",
              "20  [[[1, 7, 9, 1], [2, 31, 52, 10], [10, 168, 231...   \n",
              "\n",
              "                                            BlobImage  \\\n",
              "16  [[0, 4, 9, 1, 0, 0, 0, 0, 0, 0, 0, 0, 0, 0, 0]...   \n",
              "17  [[0, 4, 9, 1, 0, 0, 0, 0, 0, 0, 0, 0, 0, 0, 0]...   \n",
              "18  [[1, 17, 27, 5, 0, 0, 0, 0, 0, 0, 0, 0, 0, 0, ...   \n",
              "19  [[1, 7, 9, 1, 0, 0, 0, 0, 0, 0, 0, 0, 0, 0, 0]...   \n",
              "20  [[1, 7, 9, 1, 0, 0, 0, 0, 0, 0, 0, 0, 0, 0, 0]...   \n",
              "\n",
              "                                     BlobImgFlattened  \n",
              "16  [0, 4, 9, 1, 0, 0, 0, 0, 0, 0, 0, 0, 0, 0, 0, ...  \n",
              "17  [0, 4, 9, 1, 0, 0, 0, 0, 0, 0, 0, 0, 0, 0, 0, ...  \n",
              "18  [1, 17, 27, 5, 0, 0, 0, 0, 0, 0, 0, 0, 0, 0, 0...  \n",
              "19  [1, 7, 9, 1, 0, 0, 0, 0, 0, 0, 0, 0, 0, 0, 0, ...  \n",
              "20  [1, 7, 9, 1, 0, 0, 0, 0, 0, 0, 0, 0, 0, 0, 0, ...  "
            ],
            "text/html": [
              "\n",
              "  <div id=\"df-1a4af48e-6450-4456-b843-8cf37364f4e3\" class=\"colab-df-container\">\n",
              "    <div>\n",
              "<style scoped>\n",
              "    .dataframe tbody tr th:only-of-type {\n",
              "        vertical-align: middle;\n",
              "    }\n",
              "\n",
              "    .dataframe tbody tr th {\n",
              "        vertical-align: top;\n",
              "    }\n",
              "\n",
              "    .dataframe thead th {\n",
              "        text-align: right;\n",
              "    }\n",
              "</style>\n",
              "<table border=\"1\" class=\"dataframe\">\n",
              "  <thead>\n",
              "    <tr style=\"text-align: right;\">\n",
              "      <th></th>\n",
              "      <th>Participant</th>\n",
              "      <th>Handedness</th>\n",
              "      <th>Finger</th>\n",
              "      <th>Task</th>\n",
              "      <th>Matrix</th>\n",
              "      <th>Timestamp</th>\n",
              "      <th>BlobCoords</th>\n",
              "      <th>BlobCount</th>\n",
              "      <th>Blobs</th>\n",
              "      <th>BlobImage</th>\n",
              "      <th>BlobImgFlattened</th>\n",
              "    </tr>\n",
              "  </thead>\n",
              "  <tbody>\n",
              "    <tr>\n",
              "      <th>16</th>\n",
              "      <td>3</td>\n",
              "      <td>right</td>\n",
              "      <td>little</td>\n",
              "      <td>TAP</td>\n",
              "      <td>[[0, 0, 1, 0, 0, 1, 0, 0, 0, 0, 0, 2, 0, 1, 1]...</td>\n",
              "      <td>1508943194856</td>\n",
              "      <td>[(10, 14, 13, 17)]</td>\n",
              "      <td>1</td>\n",
              "      <td>[[[0, 4, 9, 1], [4, 31, 48, 10], [9, 150, 215,...</td>\n",
              "      <td>[[0, 4, 9, 1, 0, 0, 0, 0, 0, 0, 0, 0, 0, 0, 0]...</td>\n",
              "      <td>[0, 4, 9, 1, 0, 0, 0, 0, 0, 0, 0, 0, 0, 0, 0, ...</td>\n",
              "    </tr>\n",
              "    <tr>\n",
              "      <th>17</th>\n",
              "      <td>3</td>\n",
              "      <td>right</td>\n",
              "      <td>little</td>\n",
              "      <td>TAP</td>\n",
              "      <td>[[0, 0, 1, 0, 0, 1, 0, 0, 0, 0, 0, 2, 0, 1, 1]...</td>\n",
              "      <td>1508943194856</td>\n",
              "      <td>[(10, 14, 13, 17)]</td>\n",
              "      <td>1</td>\n",
              "      <td>[[[0, 4, 9, 1], [4, 31, 48, 10], [9, 150, 215,...</td>\n",
              "      <td>[[0, 4, 9, 1, 0, 0, 0, 0, 0, 0, 0, 0, 0, 0, 0]...</td>\n",
              "      <td>[0, 4, 9, 1, 0, 0, 0, 0, 0, 0, 0, 0, 0, 0, 0, ...</td>\n",
              "    </tr>\n",
              "    <tr>\n",
              "      <th>18</th>\n",
              "      <td>3</td>\n",
              "      <td>right</td>\n",
              "      <td>little</td>\n",
              "      <td>TAP</td>\n",
              "      <td>[[0, 0, 1, 0, 0, 1, 0, 0, 0, 0, 0, 2, 0, 1, 1]...</td>\n",
              "      <td>1508943194926</td>\n",
              "      <td>[(10, 14, 14, 18)]</td>\n",
              "      <td>1</td>\n",
              "      <td>[[[1, 17, 27, 5], [6, 105, 140, 27], [18, 161,...</td>\n",
              "      <td>[[1, 17, 27, 5, 0, 0, 0, 0, 0, 0, 0, 0, 0, 0, ...</td>\n",
              "      <td>[1, 17, 27, 5, 0, 0, 0, 0, 0, 0, 0, 0, 0, 0, 0...</td>\n",
              "    </tr>\n",
              "    <tr>\n",
              "      <th>19</th>\n",
              "      <td>3</td>\n",
              "      <td>right</td>\n",
              "      <td>little</td>\n",
              "      <td>TAP</td>\n",
              "      <td>[[0, 0, 1, 0, 0, 1, 0, 0, 0, 0, 0, 2, 0, 1, 1]...</td>\n",
              "      <td>1508943194997</td>\n",
              "      <td>[(10, 14, 13, 18)]</td>\n",
              "      <td>1</td>\n",
              "      <td>[[[1, 7, 9, 1], [2, 31, 52, 10], [10, 168, 231...</td>\n",
              "      <td>[[1, 7, 9, 1, 0, 0, 0, 0, 0, 0, 0, 0, 0, 0, 0]...</td>\n",
              "      <td>[1, 7, 9, 1, 0, 0, 0, 0, 0, 0, 0, 0, 0, 0, 0, ...</td>\n",
              "    </tr>\n",
              "    <tr>\n",
              "      <th>20</th>\n",
              "      <td>3</td>\n",
              "      <td>right</td>\n",
              "      <td>little</td>\n",
              "      <td>TAP</td>\n",
              "      <td>[[0, 0, 1, 0, 0, 1, 0, 0, 0, 0, 0, 2, 0, 1, 1]...</td>\n",
              "      <td>1508943194997</td>\n",
              "      <td>[(10, 14, 13, 18)]</td>\n",
              "      <td>1</td>\n",
              "      <td>[[[1, 7, 9, 1], [2, 31, 52, 10], [10, 168, 231...</td>\n",
              "      <td>[[1, 7, 9, 1, 0, 0, 0, 0, 0, 0, 0, 0, 0, 0, 0]...</td>\n",
              "      <td>[1, 7, 9, 1, 0, 0, 0, 0, 0, 0, 0, 0, 0, 0, 0, ...</td>\n",
              "    </tr>\n",
              "  </tbody>\n",
              "</table>\n",
              "</div>\n",
              "    <div class=\"colab-df-buttons\">\n",
              "\n",
              "  <div class=\"colab-df-container\">\n",
              "    <button class=\"colab-df-convert\" onclick=\"convertToInteractive('df-1a4af48e-6450-4456-b843-8cf37364f4e3')\"\n",
              "            title=\"Convert this dataframe to an interactive table.\"\n",
              "            style=\"display:none;\">\n",
              "\n",
              "  <svg xmlns=\"http://www.w3.org/2000/svg\" height=\"24px\" viewBox=\"0 -960 960 960\">\n",
              "    <path d=\"M120-120v-720h720v720H120Zm60-500h600v-160H180v160Zm220 220h160v-160H400v160Zm0 220h160v-160H400v160ZM180-400h160v-160H180v160Zm440 0h160v-160H620v160ZM180-180h160v-160H180v160Zm440 0h160v-160H620v160Z\"/>\n",
              "  </svg>\n",
              "    </button>\n",
              "\n",
              "  <style>\n",
              "    .colab-df-container {\n",
              "      display:flex;\n",
              "      gap: 12px;\n",
              "    }\n",
              "\n",
              "    .colab-df-convert {\n",
              "      background-color: #E8F0FE;\n",
              "      border: none;\n",
              "      border-radius: 50%;\n",
              "      cursor: pointer;\n",
              "      display: none;\n",
              "      fill: #1967D2;\n",
              "      height: 32px;\n",
              "      padding: 0 0 0 0;\n",
              "      width: 32px;\n",
              "    }\n",
              "\n",
              "    .colab-df-convert:hover {\n",
              "      background-color: #E2EBFA;\n",
              "      box-shadow: 0px 1px 2px rgba(60, 64, 67, 0.3), 0px 1px 3px 1px rgba(60, 64, 67, 0.15);\n",
              "      fill: #174EA6;\n",
              "    }\n",
              "\n",
              "    .colab-df-buttons div {\n",
              "      margin-bottom: 4px;\n",
              "    }\n",
              "\n",
              "    [theme=dark] .colab-df-convert {\n",
              "      background-color: #3B4455;\n",
              "      fill: #D2E3FC;\n",
              "    }\n",
              "\n",
              "    [theme=dark] .colab-df-convert:hover {\n",
              "      background-color: #434B5C;\n",
              "      box-shadow: 0px 1px 3px 1px rgba(0, 0, 0, 0.15);\n",
              "      filter: drop-shadow(0px 1px 2px rgba(0, 0, 0, 0.3));\n",
              "      fill: #FFFFFF;\n",
              "    }\n",
              "  </style>\n",
              "\n",
              "    <script>\n",
              "      const buttonEl =\n",
              "        document.querySelector('#df-1a4af48e-6450-4456-b843-8cf37364f4e3 button.colab-df-convert');\n",
              "      buttonEl.style.display =\n",
              "        google.colab.kernel.accessAllowed ? 'block' : 'none';\n",
              "\n",
              "      async function convertToInteractive(key) {\n",
              "        const element = document.querySelector('#df-1a4af48e-6450-4456-b843-8cf37364f4e3');\n",
              "        const dataTable =\n",
              "          await google.colab.kernel.invokeFunction('convertToInteractive',\n",
              "                                                    [key], {});\n",
              "        if (!dataTable) return;\n",
              "\n",
              "        const docLinkHtml = 'Like what you see? Visit the ' +\n",
              "          '<a target=\"_blank\" href=https://colab.research.google.com/notebooks/data_table.ipynb>data table notebook</a>'\n",
              "          + ' to learn more about interactive tables.';\n",
              "        element.innerHTML = '';\n",
              "        dataTable['output_type'] = 'display_data';\n",
              "        await google.colab.output.renderOutput(dataTable, element);\n",
              "        const docLink = document.createElement('div');\n",
              "        docLink.innerHTML = docLinkHtml;\n",
              "        element.appendChild(docLink);\n",
              "      }\n",
              "    </script>\n",
              "  </div>\n",
              "\n",
              "\n",
              "<div id=\"df-9cd86d88-61a9-4ef1-8b81-cd202497cef9\">\n",
              "  <button class=\"colab-df-quickchart\" onclick=\"quickchart('df-9cd86d88-61a9-4ef1-8b81-cd202497cef9')\"\n",
              "            title=\"Suggest charts\"\n",
              "            style=\"display:none;\">\n",
              "\n",
              "<svg xmlns=\"http://www.w3.org/2000/svg\" height=\"24px\"viewBox=\"0 0 24 24\"\n",
              "     width=\"24px\">\n",
              "    <g>\n",
              "        <path d=\"M19 3H5c-1.1 0-2 .9-2 2v14c0 1.1.9 2 2 2h14c1.1 0 2-.9 2-2V5c0-1.1-.9-2-2-2zM9 17H7v-7h2v7zm4 0h-2V7h2v10zm4 0h-2v-4h2v4z\"/>\n",
              "    </g>\n",
              "</svg>\n",
              "  </button>\n",
              "\n",
              "<style>\n",
              "  .colab-df-quickchart {\n",
              "      --bg-color: #E8F0FE;\n",
              "      --fill-color: #1967D2;\n",
              "      --hover-bg-color: #E2EBFA;\n",
              "      --hover-fill-color: #174EA6;\n",
              "      --disabled-fill-color: #AAA;\n",
              "      --disabled-bg-color: #DDD;\n",
              "  }\n",
              "\n",
              "  [theme=dark] .colab-df-quickchart {\n",
              "      --bg-color: #3B4455;\n",
              "      --fill-color: #D2E3FC;\n",
              "      --hover-bg-color: #434B5C;\n",
              "      --hover-fill-color: #FFFFFF;\n",
              "      --disabled-bg-color: #3B4455;\n",
              "      --disabled-fill-color: #666;\n",
              "  }\n",
              "\n",
              "  .colab-df-quickchart {\n",
              "    background-color: var(--bg-color);\n",
              "    border: none;\n",
              "    border-radius: 50%;\n",
              "    cursor: pointer;\n",
              "    display: none;\n",
              "    fill: var(--fill-color);\n",
              "    height: 32px;\n",
              "    padding: 0;\n",
              "    width: 32px;\n",
              "  }\n",
              "\n",
              "  .colab-df-quickchart:hover {\n",
              "    background-color: var(--hover-bg-color);\n",
              "    box-shadow: 0 1px 2px rgba(60, 64, 67, 0.3), 0 1px 3px 1px rgba(60, 64, 67, 0.15);\n",
              "    fill: var(--button-hover-fill-color);\n",
              "  }\n",
              "\n",
              "  .colab-df-quickchart-complete:disabled,\n",
              "  .colab-df-quickchart-complete:disabled:hover {\n",
              "    background-color: var(--disabled-bg-color);\n",
              "    fill: var(--disabled-fill-color);\n",
              "    box-shadow: none;\n",
              "  }\n",
              "\n",
              "  .colab-df-spinner {\n",
              "    border: 2px solid var(--fill-color);\n",
              "    border-color: transparent;\n",
              "    border-bottom-color: var(--fill-color);\n",
              "    animation:\n",
              "      spin 1s steps(1) infinite;\n",
              "  }\n",
              "\n",
              "  @keyframes spin {\n",
              "    0% {\n",
              "      border-color: transparent;\n",
              "      border-bottom-color: var(--fill-color);\n",
              "      border-left-color: var(--fill-color);\n",
              "    }\n",
              "    20% {\n",
              "      border-color: transparent;\n",
              "      border-left-color: var(--fill-color);\n",
              "      border-top-color: var(--fill-color);\n",
              "    }\n",
              "    30% {\n",
              "      border-color: transparent;\n",
              "      border-left-color: var(--fill-color);\n",
              "      border-top-color: var(--fill-color);\n",
              "      border-right-color: var(--fill-color);\n",
              "    }\n",
              "    40% {\n",
              "      border-color: transparent;\n",
              "      border-right-color: var(--fill-color);\n",
              "      border-top-color: var(--fill-color);\n",
              "    }\n",
              "    60% {\n",
              "      border-color: transparent;\n",
              "      border-right-color: var(--fill-color);\n",
              "    }\n",
              "    80% {\n",
              "      border-color: transparent;\n",
              "      border-right-color: var(--fill-color);\n",
              "      border-bottom-color: var(--fill-color);\n",
              "    }\n",
              "    90% {\n",
              "      border-color: transparent;\n",
              "      border-bottom-color: var(--fill-color);\n",
              "    }\n",
              "  }\n",
              "</style>\n",
              "\n",
              "  <script>\n",
              "    async function quickchart(key) {\n",
              "      const quickchartButtonEl =\n",
              "        document.querySelector('#' + key + ' button');\n",
              "      quickchartButtonEl.disabled = true;  // To prevent multiple clicks.\n",
              "      quickchartButtonEl.classList.add('colab-df-spinner');\n",
              "      try {\n",
              "        const charts = await google.colab.kernel.invokeFunction(\n",
              "            'suggestCharts', [key], {});\n",
              "      } catch (error) {\n",
              "        console.error('Error during call to suggestCharts:', error);\n",
              "      }\n",
              "      quickchartButtonEl.classList.remove('colab-df-spinner');\n",
              "      quickchartButtonEl.classList.add('colab-df-quickchart-complete');\n",
              "    }\n",
              "    (() => {\n",
              "      let quickchartButtonEl =\n",
              "        document.querySelector('#df-9cd86d88-61a9-4ef1-8b81-cd202497cef9 button');\n",
              "      quickchartButtonEl.style.display =\n",
              "        google.colab.kernel.accessAllowed ? 'block' : 'none';\n",
              "    })();\n",
              "  </script>\n",
              "</div>\n",
              "\n",
              "    </div>\n",
              "  </div>\n"
            ],
            "application/vnd.google.colaboratory.intrinsic+json": {
              "type": "dataframe",
              "variable_name": "df"
            }
          },
          "metadata": {},
          "execution_count": 4
        }
      ]
    },
    {
      "cell_type": "code",
      "source": [
        "df['Finger'].unique()"
      ],
      "metadata": {
        "colab": {
          "base_uri": "https://localhost:8080/"
        },
        "id": "z6UJ9x0arTzG",
        "outputId": "b30c7c73-ccef-4eae-aca0-a8d271e60243"
      },
      "execution_count": 5,
      "outputs": [
        {
          "output_type": "execute_result",
          "data": {
            "text/plain": [
              "array(['little', 'middle', 'ring', 'thumb', 'index'], dtype=object)"
            ]
          },
          "metadata": {},
          "execution_count": 5
        }
      ]
    },
    {
      "cell_type": "code",
      "source": [
        "df['Task'].unique()"
      ],
      "metadata": {
        "colab": {
          "base_uri": "https://localhost:8080/"
        },
        "id": "ZFLLG3GdrYNJ",
        "outputId": "7329decd-0c17-4b42-f361-8ba9d4d45d9b"
      },
      "execution_count": 6,
      "outputs": [
        {
          "output_type": "execute_result",
          "data": {
            "text/plain": [
              "array(['TAP', 'DRAG', 'SCROLL'], dtype=object)"
            ]
          },
          "metadata": {},
          "execution_count": 6
        }
      ]
    },
    {
      "cell_type": "code",
      "source": [
        "df['Participant'].unique()"
      ],
      "metadata": {
        "colab": {
          "base_uri": "https://localhost:8080/"
        },
        "id": "Bqdkmrgarb8p",
        "outputId": "729e98c4-cf61-4231-c2bd-6660a8409a8d"
      },
      "execution_count": 8,
      "outputs": [
        {
          "output_type": "execute_result",
          "data": {
            "text/plain": [
              "array([ 3, 12, 19,  9, 17,  6, 14,  8,  1, 11,  4, 16,  2, 10, 15, 13, 18,\n",
              "        7, 20,  5])"
            ]
          },
          "metadata": {},
          "execution_count": 8
        }
      ]
    },
    {
      "cell_type": "markdown",
      "source": [
        "### Split the participant id train"
      ],
      "metadata": {
        "id": "flzYv_pzrm1J"
      }
    },
    {
      "cell_type": "code",
      "source": [
        "np.random.seed(11)\n",
        "participant_id = df['Participant'].unique()\n",
        "size = int(len(participant_id) * 0.8)\n",
        "participant_id_train = np.random.choice(participant_id, size = size, replace = False)\n",
        "participant_id_train"
      ],
      "metadata": {
        "colab": {
          "base_uri": "https://localhost:8080/"
        },
        "id": "Y_6gDC6Vrlor",
        "outputId": "f6a93fd8-bbfb-483a-c5c6-826b57c84c9f"
      },
      "execution_count": 9,
      "outputs": [
        {
          "output_type": "execute_result",
          "data": {
            "text/plain": [
              "array([ 9,  6,  4, 14, 15,  5, 13, 11, 20, 17, 16,  3,  1, 19,  8, 12])"
            ]
          },
          "metadata": {},
          "execution_count": 9
        }
      ]
    },
    {
      "cell_type": "markdown",
      "source": [
        "### Encoder and add label column"
      ],
      "metadata": {
        "id": "x3K9AWRNvaxT"
      }
    },
    {
      "cell_type": "code",
      "source": [
        "Handedness = df['Handedness'].unique()\n",
        "Finger = df['Finger'].unique()\n",
        "Handedness, Finger"
      ],
      "metadata": {
        "colab": {
          "base_uri": "https://localhost:8080/"
        },
        "id": "IDh7JSLwrrkv",
        "outputId": "5ba4e759-1370-4d9b-a509-04428ff16ea8"
      },
      "execution_count": 10,
      "outputs": [
        {
          "output_type": "execute_result",
          "data": {
            "text/plain": [
              "(array(['right', 'left'], dtype=object),\n",
              " array(['little', 'middle', 'ring', 'thumb', 'index'], dtype=object))"
            ]
          },
          "metadata": {},
          "execution_count": 10
        }
      ]
    },
    {
      "cell_type": "code",
      "source": [
        "num = 0\n",
        "dict_data = {}\n",
        "for i in range (0, len(Handedness)):\n",
        "  for j in range (0, len(Finger)):\n",
        "    dict_temp = {Handedness[i] + ' ' + Finger[j]: num}\n",
        "    dict_data.update(dict_temp)\n",
        "    num = num + 1\n",
        "\n",
        "dict_data"
      ],
      "metadata": {
        "colab": {
          "base_uri": "https://localhost:8080/"
        },
        "id": "p1wW6as2vfLL",
        "outputId": "733c4728-b07b-4044-cf76-c5934fa72348"
      },
      "execution_count": 11,
      "outputs": [
        {
          "output_type": "execute_result",
          "data": {
            "text/plain": [
              "{'right little': 0,\n",
              " 'right middle': 1,\n",
              " 'right ring': 2,\n",
              " 'right thumb': 3,\n",
              " 'right index': 4,\n",
              " 'left little': 5,\n",
              " 'left middle': 6,\n",
              " 'left ring': 7,\n",
              " 'left thumb': 8,\n",
              " 'left index': 9}"
            ]
          },
          "metadata": {},
          "execution_count": 11
        }
      ]
    },
    {
      "cell_type": "code",
      "source": [
        "def get_feature_column (handedness, finger):\n",
        "  c = handedness + ' ' + finger\n",
        "  return dict_data[c]\n",
        "\n",
        "df['label'] = [get_feature_column(df.Handedness.iloc[i], df.Finger.iloc[i]) for i in range (len(df))]\n",
        "\n",
        "df['label'].unique()"
      ],
      "metadata": {
        "colab": {
          "base_uri": "https://localhost:8080/"
        },
        "id": "1s43BI46v9us",
        "outputId": "36332104-56c8-46c0-aa8b-5a845fa4fd30"
      },
      "execution_count": 12,
      "outputs": [
        {
          "output_type": "execute_result",
          "data": {
            "text/plain": [
              "array([0, 6, 7, 3, 4, 2, 1, 8, 5, 9])"
            ]
          },
          "metadata": {},
          "execution_count": 12
        }
      ]
    },
    {
      "cell_type": "code",
      "source": [
        "df.iloc[[15966]]"
      ],
      "metadata": {
        "colab": {
          "base_uri": "https://localhost:8080/",
          "height": 98
        },
        "id": "V2n2nGmdwnV2",
        "outputId": "34cfe2e6-f408-4144-e5f3-551bdafa46c9"
      },
      "execution_count": 13,
      "outputs": [
        {
          "output_type": "execute_result",
          "data": {
            "text/plain": [
              "      Participant Handedness Finger    Task  \\\n",
              "1450            3      right   ring  SCROLL   \n",
              "\n",
              "                                                 Matrix      Timestamp  \\\n",
              "1450  [[0, 1, 0, -70, -2, -2, -106, -2, 0, 0, -3, -2...  1508944175946   \n",
              "\n",
              "            BlobCoords  BlobCount  \\\n",
              "1450  [(1, 5, 10, 13)]          1   \n",
              "\n",
              "                                                  Blobs  \\\n",
              "1450  [[[13, 21, 23, 11], [27, 130, 139, 27], [23, 1...   \n",
              "\n",
              "                                              BlobImage  \\\n",
              "1450  [[13, 21, 23, 11, 0, 0, 0, 0, 0, 0, 0, 0, 0, 0...   \n",
              "\n",
              "                                       BlobImgFlattened  label  \n",
              "1450  [13, 21, 23, 11, 0, 0, 0, 0, 0, 0, 0, 0, 0, 0,...      2  "
            ],
            "text/html": [
              "\n",
              "  <div id=\"df-f8c8c2d7-79aa-41de-bebf-4e576fb855ed\" class=\"colab-df-container\">\n",
              "    <div>\n",
              "<style scoped>\n",
              "    .dataframe tbody tr th:only-of-type {\n",
              "        vertical-align: middle;\n",
              "    }\n",
              "\n",
              "    .dataframe tbody tr th {\n",
              "        vertical-align: top;\n",
              "    }\n",
              "\n",
              "    .dataframe thead th {\n",
              "        text-align: right;\n",
              "    }\n",
              "</style>\n",
              "<table border=\"1\" class=\"dataframe\">\n",
              "  <thead>\n",
              "    <tr style=\"text-align: right;\">\n",
              "      <th></th>\n",
              "      <th>Participant</th>\n",
              "      <th>Handedness</th>\n",
              "      <th>Finger</th>\n",
              "      <th>Task</th>\n",
              "      <th>Matrix</th>\n",
              "      <th>Timestamp</th>\n",
              "      <th>BlobCoords</th>\n",
              "      <th>BlobCount</th>\n",
              "      <th>Blobs</th>\n",
              "      <th>BlobImage</th>\n",
              "      <th>BlobImgFlattened</th>\n",
              "      <th>label</th>\n",
              "    </tr>\n",
              "  </thead>\n",
              "  <tbody>\n",
              "    <tr>\n",
              "      <th>1450</th>\n",
              "      <td>3</td>\n",
              "      <td>right</td>\n",
              "      <td>ring</td>\n",
              "      <td>SCROLL</td>\n",
              "      <td>[[0, 1, 0, -70, -2, -2, -106, -2, 0, 0, -3, -2...</td>\n",
              "      <td>1508944175946</td>\n",
              "      <td>[(1, 5, 10, 13)]</td>\n",
              "      <td>1</td>\n",
              "      <td>[[[13, 21, 23, 11], [27, 130, 139, 27], [23, 1...</td>\n",
              "      <td>[[13, 21, 23, 11, 0, 0, 0, 0, 0, 0, 0, 0, 0, 0...</td>\n",
              "      <td>[13, 21, 23, 11, 0, 0, 0, 0, 0, 0, 0, 0, 0, 0,...</td>\n",
              "      <td>2</td>\n",
              "    </tr>\n",
              "  </tbody>\n",
              "</table>\n",
              "</div>\n",
              "    <div class=\"colab-df-buttons\">\n",
              "\n",
              "  <div class=\"colab-df-container\">\n",
              "    <button class=\"colab-df-convert\" onclick=\"convertToInteractive('df-f8c8c2d7-79aa-41de-bebf-4e576fb855ed')\"\n",
              "            title=\"Convert this dataframe to an interactive table.\"\n",
              "            style=\"display:none;\">\n",
              "\n",
              "  <svg xmlns=\"http://www.w3.org/2000/svg\" height=\"24px\" viewBox=\"0 -960 960 960\">\n",
              "    <path d=\"M120-120v-720h720v720H120Zm60-500h600v-160H180v160Zm220 220h160v-160H400v160Zm0 220h160v-160H400v160ZM180-400h160v-160H180v160Zm440 0h160v-160H620v160ZM180-180h160v-160H180v160Zm440 0h160v-160H620v160Z\"/>\n",
              "  </svg>\n",
              "    </button>\n",
              "\n",
              "  <style>\n",
              "    .colab-df-container {\n",
              "      display:flex;\n",
              "      gap: 12px;\n",
              "    }\n",
              "\n",
              "    .colab-df-convert {\n",
              "      background-color: #E8F0FE;\n",
              "      border: none;\n",
              "      border-radius: 50%;\n",
              "      cursor: pointer;\n",
              "      display: none;\n",
              "      fill: #1967D2;\n",
              "      height: 32px;\n",
              "      padding: 0 0 0 0;\n",
              "      width: 32px;\n",
              "    }\n",
              "\n",
              "    .colab-df-convert:hover {\n",
              "      background-color: #E2EBFA;\n",
              "      box-shadow: 0px 1px 2px rgba(60, 64, 67, 0.3), 0px 1px 3px 1px rgba(60, 64, 67, 0.15);\n",
              "      fill: #174EA6;\n",
              "    }\n",
              "\n",
              "    .colab-df-buttons div {\n",
              "      margin-bottom: 4px;\n",
              "    }\n",
              "\n",
              "    [theme=dark] .colab-df-convert {\n",
              "      background-color: #3B4455;\n",
              "      fill: #D2E3FC;\n",
              "    }\n",
              "\n",
              "    [theme=dark] .colab-df-convert:hover {\n",
              "      background-color: #434B5C;\n",
              "      box-shadow: 0px 1px 3px 1px rgba(0, 0, 0, 0.15);\n",
              "      filter: drop-shadow(0px 1px 2px rgba(0, 0, 0, 0.3));\n",
              "      fill: #FFFFFF;\n",
              "    }\n",
              "  </style>\n",
              "\n",
              "    <script>\n",
              "      const buttonEl =\n",
              "        document.querySelector('#df-f8c8c2d7-79aa-41de-bebf-4e576fb855ed button.colab-df-convert');\n",
              "      buttonEl.style.display =\n",
              "        google.colab.kernel.accessAllowed ? 'block' : 'none';\n",
              "\n",
              "      async function convertToInteractive(key) {\n",
              "        const element = document.querySelector('#df-f8c8c2d7-79aa-41de-bebf-4e576fb855ed');\n",
              "        const dataTable =\n",
              "          await google.colab.kernel.invokeFunction('convertToInteractive',\n",
              "                                                    [key], {});\n",
              "        if (!dataTable) return;\n",
              "\n",
              "        const docLinkHtml = 'Like what you see? Visit the ' +\n",
              "          '<a target=\"_blank\" href=https://colab.research.google.com/notebooks/data_table.ipynb>data table notebook</a>'\n",
              "          + ' to learn more about interactive tables.';\n",
              "        element.innerHTML = '';\n",
              "        dataTable['output_type'] = 'display_data';\n",
              "        await google.colab.output.renderOutput(dataTable, element);\n",
              "        const docLink = document.createElement('div');\n",
              "        docLink.innerHTML = docLinkHtml;\n",
              "        element.appendChild(docLink);\n",
              "      }\n",
              "    </script>\n",
              "  </div>\n",
              "\n",
              "\n",
              "    </div>\n",
              "  </div>\n"
            ],
            "application/vnd.google.colaboratory.intrinsic+json": {
              "type": "dataframe",
              "summary": "{\n  \"name\": \"df\",\n  \"rows\": 1,\n  \"fields\": [\n    {\n      \"column\": \"Participant\",\n      \"properties\": {\n        \"dtype\": \"number\",\n        \"std\": null,\n        \"min\": 3,\n        \"max\": 3,\n        \"num_unique_values\": 1,\n        \"samples\": [\n          3\n        ],\n        \"semantic_type\": \"\",\n        \"description\": \"\"\n      }\n    },\n    {\n      \"column\": \"Handedness\",\n      \"properties\": {\n        \"dtype\": \"string\",\n        \"num_unique_values\": 1,\n        \"samples\": [\n          \"right\"\n        ],\n        \"semantic_type\": \"\",\n        \"description\": \"\"\n      }\n    },\n    {\n      \"column\": \"Finger\",\n      \"properties\": {\n        \"dtype\": \"string\",\n        \"num_unique_values\": 1,\n        \"samples\": [\n          \"ring\"\n        ],\n        \"semantic_type\": \"\",\n        \"description\": \"\"\n      }\n    },\n    {\n      \"column\": \"Task\",\n      \"properties\": {\n        \"dtype\": \"string\",\n        \"num_unique_values\": 1,\n        \"samples\": [\n          \"SCROLL\"\n        ],\n        \"semantic_type\": \"\",\n        \"description\": \"\"\n      }\n    },\n    {\n      \"column\": \"Matrix\",\n      \"properties\": {\n        \"dtype\": \"object\",\n        \"semantic_type\": \"\",\n        \"description\": \"\"\n      }\n    },\n    {\n      \"column\": \"Timestamp\",\n      \"properties\": {\n        \"dtype\": \"number\",\n        \"std\": null,\n        \"min\": 1508944175946,\n        \"max\": 1508944175946,\n        \"num_unique_values\": 1,\n        \"samples\": [\n          1508944175946\n        ],\n        \"semantic_type\": \"\",\n        \"description\": \"\"\n      }\n    },\n    {\n      \"column\": \"BlobCoords\",\n      \"properties\": {\n        \"dtype\": \"object\",\n        \"semantic_type\": \"\",\n        \"description\": \"\"\n      }\n    },\n    {\n      \"column\": \"BlobCount\",\n      \"properties\": {\n        \"dtype\": \"number\",\n        \"std\": null,\n        \"min\": 1,\n        \"max\": 1,\n        \"num_unique_values\": 1,\n        \"samples\": [\n          1\n        ],\n        \"semantic_type\": \"\",\n        \"description\": \"\"\n      }\n    },\n    {\n      \"column\": \"Blobs\",\n      \"properties\": {\n        \"dtype\": \"object\",\n        \"semantic_type\": \"\",\n        \"description\": \"\"\n      }\n    },\n    {\n      \"column\": \"BlobImage\",\n      \"properties\": {\n        \"dtype\": \"object\",\n        \"semantic_type\": \"\",\n        \"description\": \"\"\n      }\n    },\n    {\n      \"column\": \"BlobImgFlattened\",\n      \"properties\": {\n        \"dtype\": \"object\",\n        \"semantic_type\": \"\",\n        \"description\": \"\"\n      }\n    },\n    {\n      \"column\": \"label\",\n      \"properties\": {\n        \"dtype\": \"number\",\n        \"std\": null,\n        \"min\": 2,\n        \"max\": 2,\n        \"num_unique_values\": 1,\n        \"samples\": [\n          2\n        ],\n        \"semantic_type\": \"\",\n        \"description\": \"\"\n      }\n    }\n  ]\n}"
            }
          },
          "metadata": {},
          "execution_count": 13
        }
      ]
    },
    {
      "cell_type": "markdown",
      "source": [
        "### Split data"
      ],
      "metadata": {
        "id": "niGEB5y_3FVE"
      }
    },
    {
      "cell_type": "code",
      "source": [
        "def get_data (ones_train, ones_test, ones_train_label, ones_test_label, dframe, i):\n",
        "  for i in range(len(dframe)):\n",
        "    temp = int(dframe.iloc[i].Participant)\n",
        "    if (temp == participant_id_train).any():\n",
        "      arr_train = np.array(dframe.iloc[[i]].Blobs)\n",
        "      arr_train = arr_train[0][0].astype(np.uint8)\n",
        "      arr_train = cv2.resize(arr_train, (32, 32), interpolation = cv2.INTER_NEAREST)\n",
        "      y_temp1 = df.label.iloc[i]\n",
        "      if( type(ones_train) is str):\n",
        "        ones_train = [arr_train]\n",
        "        ones_train_label = [y_temp1]\n",
        "      else:\n",
        "        ones_train.extend([arr_train])\n",
        "        ones_train_label.append(y_temp1)\n",
        "    else:\n",
        "      arr_test = np.array(dframe.iloc[[i]].Blobs)\n",
        "      arr_test = arr_test[0][0].astype(np.uint8)\n",
        "      arr_test = cv2.resize(arr_test, (32, 32), interpolation=cv2.INTER_NEAREST)\n",
        "      y_temp2 = df.label.iloc[i]\n",
        "      if(type(ones_test) is str):\n",
        "        ones_test = [arr_test]\n",
        "        ones_test_label = [y_temp2]\n",
        "      else:\n",
        "        ones_test.extend([arr_test])\n",
        "        ones_test_label.append(y_temp2)\n",
        "  return ones_train, ones_test, ones_train_label, ones_test_label\n"
      ],
      "metadata": {
        "id": "6cvvvqNCwToT"
      },
      "execution_count": 22,
      "outputs": []
    },
    {
      "cell_type": "code",
      "source": [
        "X_train = \"\"\n",
        "X_test = \"\"\n",
        "Y_train = \"\"\n",
        "Y_test = \"\"\n",
        "i = 0\n",
        "X_train, X_test, Y_train, Y_test = get_data(X_train, X_test, Y_train, Y_test, df, i)"
      ],
      "metadata": {
        "id": "gXHDWag90Mwj"
      },
      "execution_count": 23,
      "outputs": []
    },
    {
      "cell_type": "code",
      "source": [
        "X_train[0]"
      ],
      "metadata": {
        "colab": {
          "base_uri": "https://localhost:8080/",
          "height": 158
        },
        "id": "jTsXvNkY12rB",
        "outputId": "9481ac3a-667f-4769-cb31-6a1d5d783a3a"
      },
      "execution_count": 24,
      "outputs": [
        {
          "output_type": "execute_result",
          "data": {
            "text/plain": [
              "array([[ 0,  0,  0, ...,  1,  1,  1],\n",
              "       [ 0,  0,  0, ...,  1,  1,  1],\n",
              "       [ 0,  0,  0, ...,  1,  1,  1],\n",
              "       ...,\n",
              "       [13, 13, 13, ..., 27, 27, 27],\n",
              "       [13, 13, 13, ..., 27, 27, 27],\n",
              "       [13, 13, 13, ..., 27, 27, 27]], dtype=uint8)"
            ],
            "text/html": [
              "<style>\n",
              "      .ndarray_repr .ndarray_raw_data {\n",
              "        display: none;\n",
              "      }\n",
              "      .ndarray_repr.show_array .ndarray_raw_data {\n",
              "        display: block;\n",
              "      }\n",
              "      .ndarray_repr.show_array .ndarray_image_preview {\n",
              "        display: none;\n",
              "      }\n",
              "      </style>\n",
              "      <div id=\"id-78dda2ff-227d-4bf0-8965-256396c610c8\" class=\"ndarray_repr\"><pre>ndarray (32, 32) <button style=\"padding: 0 2px;\">show data</button></pre><img src=\"data:image/png;base64,iVBORw0KGgoAAAANSUhEUgAAACAAAAAgCAAAAABWESUoAAAASElEQVR4nGNkgAIWKM0KpX9AaSYGAmB4KGCE+V8aSgtC6Vv0c8NgUMDICWX0QmlHKB1KPzcMBgUssPRwGkp/gNLv6eeGwaAAAJ7fBiXioPJbAAAAAElFTkSuQmCC\" class=\"ndarray_image_preview\" /><pre class=\"ndarray_raw_data\">array([[ 0,  0,  0, ...,  1,  1,  1],\n",
              "       [ 0,  0,  0, ...,  1,  1,  1],\n",
              "       [ 0,  0,  0, ...,  1,  1,  1],\n",
              "       ...,\n",
              "       [13, 13, 13, ..., 27, 27, 27],\n",
              "       [13, 13, 13, ..., 27, 27, 27],\n",
              "       [13, 13, 13, ..., 27, 27, 27]], dtype=uint8)</pre></div><script>\n",
              "      (() => {\n",
              "      const titles = ['show data', 'hide data'];\n",
              "      let index = 0\n",
              "      document.querySelector('#id-78dda2ff-227d-4bf0-8965-256396c610c8 button').onclick = (e) => {\n",
              "        document.querySelector('#id-78dda2ff-227d-4bf0-8965-256396c610c8').classList.toggle('show_array');\n",
              "        index = (++index) % 2;\n",
              "        document.querySelector('#id-78dda2ff-227d-4bf0-8965-256396c610c8 button').textContent = titles[index];\n",
              "        e.preventDefault();\n",
              "        e.stopPropagation();\n",
              "      }\n",
              "      })();\n",
              "    </script>"
            ]
          },
          "metadata": {},
          "execution_count": 24
        }
      ]
    },
    {
      "cell_type": "code",
      "source": [
        "X_train = np.array(X_train)\n",
        "X_test = np.array(X_test)\n",
        "\n",
        "# Normalize the data\n",
        "X_train = X_train.astype('float32')\n",
        "X_test = X_test.astype('float32')\n",
        "X_train = X_train/255\n",
        "X_test = X_test/255"
      ],
      "metadata": {
        "id": "R0n6zcGr15SL"
      },
      "execution_count": 25,
      "outputs": []
    },
    {
      "cell_type": "code",
      "source": [
        "Y_train = np.array(Y_train)\n",
        "Y_test = np.array(Y_test)\n",
        "\n",
        "Y_train = Y_train.reshape(-1,1)\n",
        "Y_test  = Y_test.reshape(-1,1)"
      ],
      "metadata": {
        "id": "pMLdT-HK17z2"
      },
      "execution_count": 26,
      "outputs": []
    },
    {
      "cell_type": "code",
      "source": [
        "X_train[0]"
      ],
      "metadata": {
        "colab": {
          "base_uri": "https://localhost:8080/"
        },
        "id": "MUB0yNY12cnu",
        "outputId": "c29bc394-9930-4c8c-d17e-448725cb181b"
      },
      "execution_count": 27,
      "outputs": [
        {
          "output_type": "execute_result",
          "data": {
            "text/plain": [
              "array([[0.        , 0.        , 0.        , ..., 0.00392157, 0.00392157,\n",
              "        0.00392157],\n",
              "       [0.        , 0.        , 0.        , ..., 0.00392157, 0.00392157,\n",
              "        0.00392157],\n",
              "       [0.        , 0.        , 0.        , ..., 0.00392157, 0.00392157,\n",
              "        0.00392157],\n",
              "       ...,\n",
              "       [0.05098039, 0.05098039, 0.05098039, ..., 0.10588235, 0.10588235,\n",
              "        0.10588235],\n",
              "       [0.05098039, 0.05098039, 0.05098039, ..., 0.10588235, 0.10588235,\n",
              "        0.10588235],\n",
              "       [0.05098039, 0.05098039, 0.05098039, ..., 0.10588235, 0.10588235,\n",
              "        0.10588235]], dtype=float32)"
            ]
          },
          "metadata": {},
          "execution_count": 27
        }
      ]
    },
    {
      "cell_type": "code",
      "source": [
        "np.random.seed(11)\n",
        "from sklearn.model_selection import train_test_split\n",
        "X_train, X_val, Y_train, Y_val = train_test_split(X_train, Y_train, test_size = 0.2,shuffle = True)\n",
        "\n",
        "X_train.shape, X_val.shape, X_test.shape"
      ],
      "metadata": {
        "colab": {
          "base_uri": "https://localhost:8080/"
        },
        "id": "almYFzHJ2m2K",
        "outputId": "fc85b95c-00c5-4579-c1f5-bd1fbda6cc5c"
      },
      "execution_count": 28,
      "outputs": [
        {
          "output_type": "execute_result",
          "data": {
            "text/plain": [
              "((295791, 32, 32), (73948, 32, 32), (85970, 32, 32))"
            ]
          },
          "metadata": {},
          "execution_count": 28
        }
      ]
    },
    {
      "cell_type": "markdown",
      "source": [
        "### One hot enconding"
      ],
      "metadata": {
        "id": "OzGlITaA3NWg"
      }
    },
    {
      "cell_type": "code",
      "source": [
        "from sklearn.preprocessing import OneHotEncoder\n",
        "encoder = OneHotEncoder()\n",
        "encoder.fit(Y_train)\n",
        "Y_train = encoder.transform(Y_train).toarray()\n",
        "Y_test = encoder.transform(Y_test).toarray()\n",
        "Y_val =  encoder.transform(Y_val).toarray()"
      ],
      "metadata": {
        "id": "OXbPsPZ-2_UU"
      },
      "execution_count": 30,
      "outputs": []
    },
    {
      "cell_type": "code",
      "source": [
        "Y_train[0]"
      ],
      "metadata": {
        "colab": {
          "base_uri": "https://localhost:8080/"
        },
        "id": "19AmU66X3UjG",
        "outputId": "a56f186b-b325-4617-95b4-f05960fb1cc7"
      },
      "execution_count": 31,
      "outputs": [
        {
          "output_type": "execute_result",
          "data": {
            "text/plain": [
              "array([0., 1., 0., 0., 0., 0., 0., 0., 0., 0.])"
            ]
          },
          "metadata": {},
          "execution_count": 31
        }
      ]
    },
    {
      "cell_type": "markdown",
      "source": [
        "### Save matrix\n"
      ],
      "metadata": {
        "id": "ZYsSpBCC3zS4"
      }
    },
    {
      "cell_type": "code",
      "source": [
        "label = list ((dict_data.keys()))\n",
        "label"
      ],
      "metadata": {
        "colab": {
          "base_uri": "https://localhost:8080/"
        },
        "id": "O5xTf4FE3vcs",
        "outputId": "0289ab60-d5e6-463b-82dd-bb6cc0966c04"
      },
      "execution_count": 33,
      "outputs": [
        {
          "output_type": "execute_result",
          "data": {
            "text/plain": [
              "['right little',\n",
              " 'right middle',\n",
              " 'right ring',\n",
              " 'right thumb',\n",
              " 'right index',\n",
              " 'left little',\n",
              " 'left middle',\n",
              " 'left ring',\n",
              " 'left thumb',\n",
              " 'left index']"
            ]
          },
          "metadata": {},
          "execution_count": 33
        }
      ]
    },
    {
      "cell_type": "code",
      "source": [
        "label_me = np.array(label)\n",
        "label_me"
      ],
      "metadata": {
        "colab": {
          "base_uri": "https://localhost:8080/"
        },
        "id": "dZHY0LOb4JuF",
        "outputId": "08d0ece7-7c98-4280-c6c4-c3a0e3a9fcc9"
      },
      "execution_count": 34,
      "outputs": [
        {
          "output_type": "execute_result",
          "data": {
            "text/plain": [
              "array(['right little', 'right middle', 'right ring', 'right thumb',\n",
              "       'right index', 'left little', 'left middle', 'left ring',\n",
              "       'left thumb', 'left index'], dtype='<U12')"
            ]
          },
          "metadata": {},
          "execution_count": 34
        }
      ]
    },
    {
      "cell_type": "code",
      "source": [
        "#save data train and test\n",
        "np.save('/content/drive/MyDrive/data_for_10/X_train.npy', X_train)\n",
        "np.save('/content/drive/MyDrive/data_for_10/X_val.npy', X_val)\n",
        "np.save('/content/drive/MyDrive/data_for_10/X_test.npy', X_test)\n",
        "np.save('/content/drive/MyDrive/data_for_10/Y_train.npy', Y_train)\n",
        "np.save('/content/drive/MyDrive/data_for_10/Y_val.npy', Y_val)\n",
        "np.save('/content/drive/MyDrive/data_for_10/Y_test.npy', Y_test)\n",
        "np.save('/content/drive/MyDrive/data_for_10/label.npy', label_me)"
      ],
      "metadata": {
        "id": "eu9bJ97r4Oqj"
      },
      "execution_count": 35,
      "outputs": []
    }
  ]
}
