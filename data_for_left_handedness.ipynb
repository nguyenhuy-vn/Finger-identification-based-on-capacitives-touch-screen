{
  "nbformat": 4,
  "nbformat_minor": 0,
  "metadata": {
    "colab": {
      "provenance": [],
      "authorship_tag": "ABX9TyPS5pvdp1QDFCgGlll5i9cZ",
      "include_colab_link": true
    },
    "kernelspec": {
      "name": "python3",
      "display_name": "Python 3"
    },
    "language_info": {
      "name": "python"
    }
  },
  "cells": [
    {
      "cell_type": "markdown",
      "metadata": {
        "id": "view-in-github",
        "colab_type": "text"
      },
      "source": [
        "<a href=\"https://colab.research.google.com/github/nguyenhuy-vn/Finger-identification-based-on-capacitives-touch-screen/blob/main/data_for_left_handedness.ipynb\" target=\"_parent\"><img src=\"https://colab.research.google.com/assets/colab-badge.svg\" alt=\"Open In Colab\"/></a>"
      ]
    },
    {
      "cell_type": "markdown",
      "source": [
        "### Connect google drive\n"
      ],
      "metadata": {
        "id": "EUQvdb6mqXpW"
      }
    },
    {
      "cell_type": "code",
      "execution_count": 1,
      "metadata": {
        "colab": {
          "base_uri": "https://localhost:8080/"
        },
        "id": "Z20DdGZrqCy_",
        "outputId": "6a737324-745e-490e-de57-c6ffa0dde72b"
      },
      "outputs": [
        {
          "output_type": "stream",
          "name": "stdout",
          "text": [
            "Mounted at /content/drive\n"
          ]
        }
      ],
      "source": [
        "from google.colab import drive\n",
        "drive.mount('/content/drive')"
      ]
    },
    {
      "cell_type": "markdown",
      "source": [
        "### Import libraries"
      ],
      "metadata": {
        "id": "UPBOnbujq0xH"
      }
    },
    {
      "cell_type": "code",
      "source": [
        "import numpy as np\n",
        "import pandas as pd\n",
        "import matplotlib.pyplot as plt\n",
        "import cv2"
      ],
      "metadata": {
        "id": "xP-Ufq_OqmeO"
      },
      "execution_count": 2,
      "outputs": []
    },
    {
      "cell_type": "markdown",
      "source": [
        "### Load data from pkl file"
      ],
      "metadata": {
        "id": "_8ArXSOsq8zI"
      }
    },
    {
      "cell_type": "code",
      "source": [
        "df = pd.read_pickle(\"/content/drive/MyDrive/full_preprocess_data.pkl\")"
      ],
      "metadata": {
        "id": "ia1B8gSmrBnP"
      },
      "execution_count": 3,
      "outputs": []
    },
    {
      "cell_type": "code",
      "source": [
        "#view df\n",
        "df.head(5)"
      ],
      "metadata": {
        "colab": {
          "base_uri": "https://localhost:8080/",
          "height": 851
        },
        "id": "lMv7_aFlrM9E",
        "outputId": "b05e613f-a165-40c5-826a-1cbc8b4f45c1"
      },
      "execution_count": 4,
      "outputs": [
        {
          "output_type": "execute_result",
          "data": {
            "text/plain": [
              "    Participant Handedness  Finger Task  \\\n",
              "16            3      right  little  TAP   \n",
              "17            3      right  little  TAP   \n",
              "18            3      right  little  TAP   \n",
              "19            3      right  little  TAP   \n",
              "20            3      right  little  TAP   \n",
              "\n",
              "                                               Matrix      Timestamp  \\\n",
              "16  [[0, 0, 1, 0, 0, 1, 0, 0, 0, 0, 0, 2, 0, 1, 1]...  1508943194856   \n",
              "17  [[0, 0, 1, 0, 0, 1, 0, 0, 0, 0, 0, 2, 0, 1, 1]...  1508943194856   \n",
              "18  [[0, 0, 1, 0, 0, 1, 0, 0, 0, 0, 0, 2, 0, 1, 1]...  1508943194926   \n",
              "19  [[0, 0, 1, 0, 0, 1, 0, 0, 0, 0, 0, 2, 0, 1, 1]...  1508943194997   \n",
              "20  [[0, 0, 1, 0, 0, 1, 0, 0, 0, 0, 0, 2, 0, 1, 1]...  1508943194997   \n",
              "\n",
              "            BlobCoords  BlobCount  \\\n",
              "16  [(10, 14, 13, 17)]          1   \n",
              "17  [(10, 14, 13, 17)]          1   \n",
              "18  [(10, 14, 14, 18)]          1   \n",
              "19  [(10, 14, 13, 18)]          1   \n",
              "20  [(10, 14, 13, 18)]          1   \n",
              "\n",
              "                                                Blobs  \\\n",
              "16  [[[0, 4, 9, 1], [4, 31, 48, 10], [9, 150, 215,...   \n",
              "17  [[[0, 4, 9, 1], [4, 31, 48, 10], [9, 150, 215,...   \n",
              "18  [[[1, 17, 27, 5], [6, 105, 140, 27], [18, 161,...   \n",
              "19  [[[1, 7, 9, 1], [2, 31, 52, 10], [10, 168, 231...   \n",
              "20  [[[1, 7, 9, 1], [2, 31, 52, 10], [10, 168, 231...   \n",
              "\n",
              "                                            BlobImage  \\\n",
              "16  [[0, 4, 9, 1, 0, 0, 0, 0, 0, 0, 0, 0, 0, 0, 0]...   \n",
              "17  [[0, 4, 9, 1, 0, 0, 0, 0, 0, 0, 0, 0, 0, 0, 0]...   \n",
              "18  [[1, 17, 27, 5, 0, 0, 0, 0, 0, 0, 0, 0, 0, 0, ...   \n",
              "19  [[1, 7, 9, 1, 0, 0, 0, 0, 0, 0, 0, 0, 0, 0, 0]...   \n",
              "20  [[1, 7, 9, 1, 0, 0, 0, 0, 0, 0, 0, 0, 0, 0, 0]...   \n",
              "\n",
              "                                     BlobImgFlattened  \n",
              "16  [0, 4, 9, 1, 0, 0, 0, 0, 0, 0, 0, 0, 0, 0, 0, ...  \n",
              "17  [0, 4, 9, 1, 0, 0, 0, 0, 0, 0, 0, 0, 0, 0, 0, ...  \n",
              "18  [1, 17, 27, 5, 0, 0, 0, 0, 0, 0, 0, 0, 0, 0, 0...  \n",
              "19  [1, 7, 9, 1, 0, 0, 0, 0, 0, 0, 0, 0, 0, 0, 0, ...  \n",
              "20  [1, 7, 9, 1, 0, 0, 0, 0, 0, 0, 0, 0, 0, 0, 0, ...  "
            ],
            "text/html": [
              "\n",
              "  <div id=\"df-23b79f96-bcc4-4183-a5b9-26faffded06b\" class=\"colab-df-container\">\n",
              "    <div>\n",
              "<style scoped>\n",
              "    .dataframe tbody tr th:only-of-type {\n",
              "        vertical-align: middle;\n",
              "    }\n",
              "\n",
              "    .dataframe tbody tr th {\n",
              "        vertical-align: top;\n",
              "    }\n",
              "\n",
              "    .dataframe thead th {\n",
              "        text-align: right;\n",
              "    }\n",
              "</style>\n",
              "<table border=\"1\" class=\"dataframe\">\n",
              "  <thead>\n",
              "    <tr style=\"text-align: right;\">\n",
              "      <th></th>\n",
              "      <th>Participant</th>\n",
              "      <th>Handedness</th>\n",
              "      <th>Finger</th>\n",
              "      <th>Task</th>\n",
              "      <th>Matrix</th>\n",
              "      <th>Timestamp</th>\n",
              "      <th>BlobCoords</th>\n",
              "      <th>BlobCount</th>\n",
              "      <th>Blobs</th>\n",
              "      <th>BlobImage</th>\n",
              "      <th>BlobImgFlattened</th>\n",
              "    </tr>\n",
              "  </thead>\n",
              "  <tbody>\n",
              "    <tr>\n",
              "      <th>16</th>\n",
              "      <td>3</td>\n",
              "      <td>right</td>\n",
              "      <td>little</td>\n",
              "      <td>TAP</td>\n",
              "      <td>[[0, 0, 1, 0, 0, 1, 0, 0, 0, 0, 0, 2, 0, 1, 1]...</td>\n",
              "      <td>1508943194856</td>\n",
              "      <td>[(10, 14, 13, 17)]</td>\n",
              "      <td>1</td>\n",
              "      <td>[[[0, 4, 9, 1], [4, 31, 48, 10], [9, 150, 215,...</td>\n",
              "      <td>[[0, 4, 9, 1, 0, 0, 0, 0, 0, 0, 0, 0, 0, 0, 0]...</td>\n",
              "      <td>[0, 4, 9, 1, 0, 0, 0, 0, 0, 0, 0, 0, 0, 0, 0, ...</td>\n",
              "    </tr>\n",
              "    <tr>\n",
              "      <th>17</th>\n",
              "      <td>3</td>\n",
              "      <td>right</td>\n",
              "      <td>little</td>\n",
              "      <td>TAP</td>\n",
              "      <td>[[0, 0, 1, 0, 0, 1, 0, 0, 0, 0, 0, 2, 0, 1, 1]...</td>\n",
              "      <td>1508943194856</td>\n",
              "      <td>[(10, 14, 13, 17)]</td>\n",
              "      <td>1</td>\n",
              "      <td>[[[0, 4, 9, 1], [4, 31, 48, 10], [9, 150, 215,...</td>\n",
              "      <td>[[0, 4, 9, 1, 0, 0, 0, 0, 0, 0, 0, 0, 0, 0, 0]...</td>\n",
              "      <td>[0, 4, 9, 1, 0, 0, 0, 0, 0, 0, 0, 0, 0, 0, 0, ...</td>\n",
              "    </tr>\n",
              "    <tr>\n",
              "      <th>18</th>\n",
              "      <td>3</td>\n",
              "      <td>right</td>\n",
              "      <td>little</td>\n",
              "      <td>TAP</td>\n",
              "      <td>[[0, 0, 1, 0, 0, 1, 0, 0, 0, 0, 0, 2, 0, 1, 1]...</td>\n",
              "      <td>1508943194926</td>\n",
              "      <td>[(10, 14, 14, 18)]</td>\n",
              "      <td>1</td>\n",
              "      <td>[[[1, 17, 27, 5], [6, 105, 140, 27], [18, 161,...</td>\n",
              "      <td>[[1, 17, 27, 5, 0, 0, 0, 0, 0, 0, 0, 0, 0, 0, ...</td>\n",
              "      <td>[1, 17, 27, 5, 0, 0, 0, 0, 0, 0, 0, 0, 0, 0, 0...</td>\n",
              "    </tr>\n",
              "    <tr>\n",
              "      <th>19</th>\n",
              "      <td>3</td>\n",
              "      <td>right</td>\n",
              "      <td>little</td>\n",
              "      <td>TAP</td>\n",
              "      <td>[[0, 0, 1, 0, 0, 1, 0, 0, 0, 0, 0, 2, 0, 1, 1]...</td>\n",
              "      <td>1508943194997</td>\n",
              "      <td>[(10, 14, 13, 18)]</td>\n",
              "      <td>1</td>\n",
              "      <td>[[[1, 7, 9, 1], [2, 31, 52, 10], [10, 168, 231...</td>\n",
              "      <td>[[1, 7, 9, 1, 0, 0, 0, 0, 0, 0, 0, 0, 0, 0, 0]...</td>\n",
              "      <td>[1, 7, 9, 1, 0, 0, 0, 0, 0, 0, 0, 0, 0, 0, 0, ...</td>\n",
              "    </tr>\n",
              "    <tr>\n",
              "      <th>20</th>\n",
              "      <td>3</td>\n",
              "      <td>right</td>\n",
              "      <td>little</td>\n",
              "      <td>TAP</td>\n",
              "      <td>[[0, 0, 1, 0, 0, 1, 0, 0, 0, 0, 0, 2, 0, 1, 1]...</td>\n",
              "      <td>1508943194997</td>\n",
              "      <td>[(10, 14, 13, 18)]</td>\n",
              "      <td>1</td>\n",
              "      <td>[[[1, 7, 9, 1], [2, 31, 52, 10], [10, 168, 231...</td>\n",
              "      <td>[[1, 7, 9, 1, 0, 0, 0, 0, 0, 0, 0, 0, 0, 0, 0]...</td>\n",
              "      <td>[1, 7, 9, 1, 0, 0, 0, 0, 0, 0, 0, 0, 0, 0, 0, ...</td>\n",
              "    </tr>\n",
              "  </tbody>\n",
              "</table>\n",
              "</div>\n",
              "    <div class=\"colab-df-buttons\">\n",
              "\n",
              "  <div class=\"colab-df-container\">\n",
              "    <button class=\"colab-df-convert\" onclick=\"convertToInteractive('df-23b79f96-bcc4-4183-a5b9-26faffded06b')\"\n",
              "            title=\"Convert this dataframe to an interactive table.\"\n",
              "            style=\"display:none;\">\n",
              "\n",
              "  <svg xmlns=\"http://www.w3.org/2000/svg\" height=\"24px\" viewBox=\"0 -960 960 960\">\n",
              "    <path d=\"M120-120v-720h720v720H120Zm60-500h600v-160H180v160Zm220 220h160v-160H400v160Zm0 220h160v-160H400v160ZM180-400h160v-160H180v160Zm440 0h160v-160H620v160ZM180-180h160v-160H180v160Zm440 0h160v-160H620v160Z\"/>\n",
              "  </svg>\n",
              "    </button>\n",
              "\n",
              "  <style>\n",
              "    .colab-df-container {\n",
              "      display:flex;\n",
              "      gap: 12px;\n",
              "    }\n",
              "\n",
              "    .colab-df-convert {\n",
              "      background-color: #E8F0FE;\n",
              "      border: none;\n",
              "      border-radius: 50%;\n",
              "      cursor: pointer;\n",
              "      display: none;\n",
              "      fill: #1967D2;\n",
              "      height: 32px;\n",
              "      padding: 0 0 0 0;\n",
              "      width: 32px;\n",
              "    }\n",
              "\n",
              "    .colab-df-convert:hover {\n",
              "      background-color: #E2EBFA;\n",
              "      box-shadow: 0px 1px 2px rgba(60, 64, 67, 0.3), 0px 1px 3px 1px rgba(60, 64, 67, 0.15);\n",
              "      fill: #174EA6;\n",
              "    }\n",
              "\n",
              "    .colab-df-buttons div {\n",
              "      margin-bottom: 4px;\n",
              "    }\n",
              "\n",
              "    [theme=dark] .colab-df-convert {\n",
              "      background-color: #3B4455;\n",
              "      fill: #D2E3FC;\n",
              "    }\n",
              "\n",
              "    [theme=dark] .colab-df-convert:hover {\n",
              "      background-color: #434B5C;\n",
              "      box-shadow: 0px 1px 3px 1px rgba(0, 0, 0, 0.15);\n",
              "      filter: drop-shadow(0px 1px 2px rgba(0, 0, 0, 0.3));\n",
              "      fill: #FFFFFF;\n",
              "    }\n",
              "  </style>\n",
              "\n",
              "    <script>\n",
              "      const buttonEl =\n",
              "        document.querySelector('#df-23b79f96-bcc4-4183-a5b9-26faffded06b button.colab-df-convert');\n",
              "      buttonEl.style.display =\n",
              "        google.colab.kernel.accessAllowed ? 'block' : 'none';\n",
              "\n",
              "      async function convertToInteractive(key) {\n",
              "        const element = document.querySelector('#df-23b79f96-bcc4-4183-a5b9-26faffded06b');\n",
              "        const dataTable =\n",
              "          await google.colab.kernel.invokeFunction('convertToInteractive',\n",
              "                                                    [key], {});\n",
              "        if (!dataTable) return;\n",
              "\n",
              "        const docLinkHtml = 'Like what you see? Visit the ' +\n",
              "          '<a target=\"_blank\" href=https://colab.research.google.com/notebooks/data_table.ipynb>data table notebook</a>'\n",
              "          + ' to learn more about interactive tables.';\n",
              "        element.innerHTML = '';\n",
              "        dataTable['output_type'] = 'display_data';\n",
              "        await google.colab.output.renderOutput(dataTable, element);\n",
              "        const docLink = document.createElement('div');\n",
              "        docLink.innerHTML = docLinkHtml;\n",
              "        element.appendChild(docLink);\n",
              "      }\n",
              "    </script>\n",
              "  </div>\n",
              "\n",
              "\n",
              "<div id=\"df-618f8856-79ce-4ad0-81a8-005972ed8c63\">\n",
              "  <button class=\"colab-df-quickchart\" onclick=\"quickchart('df-618f8856-79ce-4ad0-81a8-005972ed8c63')\"\n",
              "            title=\"Suggest charts\"\n",
              "            style=\"display:none;\">\n",
              "\n",
              "<svg xmlns=\"http://www.w3.org/2000/svg\" height=\"24px\"viewBox=\"0 0 24 24\"\n",
              "     width=\"24px\">\n",
              "    <g>\n",
              "        <path d=\"M19 3H5c-1.1 0-2 .9-2 2v14c0 1.1.9 2 2 2h14c1.1 0 2-.9 2-2V5c0-1.1-.9-2-2-2zM9 17H7v-7h2v7zm4 0h-2V7h2v10zm4 0h-2v-4h2v4z\"/>\n",
              "    </g>\n",
              "</svg>\n",
              "  </button>\n",
              "\n",
              "<style>\n",
              "  .colab-df-quickchart {\n",
              "      --bg-color: #E8F0FE;\n",
              "      --fill-color: #1967D2;\n",
              "      --hover-bg-color: #E2EBFA;\n",
              "      --hover-fill-color: #174EA6;\n",
              "      --disabled-fill-color: #AAA;\n",
              "      --disabled-bg-color: #DDD;\n",
              "  }\n",
              "\n",
              "  [theme=dark] .colab-df-quickchart {\n",
              "      --bg-color: #3B4455;\n",
              "      --fill-color: #D2E3FC;\n",
              "      --hover-bg-color: #434B5C;\n",
              "      --hover-fill-color: #FFFFFF;\n",
              "      --disabled-bg-color: #3B4455;\n",
              "      --disabled-fill-color: #666;\n",
              "  }\n",
              "\n",
              "  .colab-df-quickchart {\n",
              "    background-color: var(--bg-color);\n",
              "    border: none;\n",
              "    border-radius: 50%;\n",
              "    cursor: pointer;\n",
              "    display: none;\n",
              "    fill: var(--fill-color);\n",
              "    height: 32px;\n",
              "    padding: 0;\n",
              "    width: 32px;\n",
              "  }\n",
              "\n",
              "  .colab-df-quickchart:hover {\n",
              "    background-color: var(--hover-bg-color);\n",
              "    box-shadow: 0 1px 2px rgba(60, 64, 67, 0.3), 0 1px 3px 1px rgba(60, 64, 67, 0.15);\n",
              "    fill: var(--button-hover-fill-color);\n",
              "  }\n",
              "\n",
              "  .colab-df-quickchart-complete:disabled,\n",
              "  .colab-df-quickchart-complete:disabled:hover {\n",
              "    background-color: var(--disabled-bg-color);\n",
              "    fill: var(--disabled-fill-color);\n",
              "    box-shadow: none;\n",
              "  }\n",
              "\n",
              "  .colab-df-spinner {\n",
              "    border: 2px solid var(--fill-color);\n",
              "    border-color: transparent;\n",
              "    border-bottom-color: var(--fill-color);\n",
              "    animation:\n",
              "      spin 1s steps(1) infinite;\n",
              "  }\n",
              "\n",
              "  @keyframes spin {\n",
              "    0% {\n",
              "      border-color: transparent;\n",
              "      border-bottom-color: var(--fill-color);\n",
              "      border-left-color: var(--fill-color);\n",
              "    }\n",
              "    20% {\n",
              "      border-color: transparent;\n",
              "      border-left-color: var(--fill-color);\n",
              "      border-top-color: var(--fill-color);\n",
              "    }\n",
              "    30% {\n",
              "      border-color: transparent;\n",
              "      border-left-color: var(--fill-color);\n",
              "      border-top-color: var(--fill-color);\n",
              "      border-right-color: var(--fill-color);\n",
              "    }\n",
              "    40% {\n",
              "      border-color: transparent;\n",
              "      border-right-color: var(--fill-color);\n",
              "      border-top-color: var(--fill-color);\n",
              "    }\n",
              "    60% {\n",
              "      border-color: transparent;\n",
              "      border-right-color: var(--fill-color);\n",
              "    }\n",
              "    80% {\n",
              "      border-color: transparent;\n",
              "      border-right-color: var(--fill-color);\n",
              "      border-bottom-color: var(--fill-color);\n",
              "    }\n",
              "    90% {\n",
              "      border-color: transparent;\n",
              "      border-bottom-color: var(--fill-color);\n",
              "    }\n",
              "  }\n",
              "</style>\n",
              "\n",
              "  <script>\n",
              "    async function quickchart(key) {\n",
              "      const quickchartButtonEl =\n",
              "        document.querySelector('#' + key + ' button');\n",
              "      quickchartButtonEl.disabled = true;  // To prevent multiple clicks.\n",
              "      quickchartButtonEl.classList.add('colab-df-spinner');\n",
              "      try {\n",
              "        const charts = await google.colab.kernel.invokeFunction(\n",
              "            'suggestCharts', [key], {});\n",
              "      } catch (error) {\n",
              "        console.error('Error during call to suggestCharts:', error);\n",
              "      }\n",
              "      quickchartButtonEl.classList.remove('colab-df-spinner');\n",
              "      quickchartButtonEl.classList.add('colab-df-quickchart-complete');\n",
              "    }\n",
              "    (() => {\n",
              "      let quickchartButtonEl =\n",
              "        document.querySelector('#df-618f8856-79ce-4ad0-81a8-005972ed8c63 button');\n",
              "      quickchartButtonEl.style.display =\n",
              "        google.colab.kernel.accessAllowed ? 'block' : 'none';\n",
              "    })();\n",
              "  </script>\n",
              "</div>\n",
              "\n",
              "    </div>\n",
              "  </div>\n"
            ],
            "application/vnd.google.colaboratory.intrinsic+json": {
              "type": "dataframe",
              "variable_name": "df"
            }
          },
          "metadata": {},
          "execution_count": 4
        }
      ]
    },
    {
      "cell_type": "code",
      "source": [
        "df = df[df['Handedness'] == 'left']"
      ],
      "metadata": {
        "id": "JQdZc10v_Kzx"
      },
      "execution_count": 9,
      "outputs": []
    },
    {
      "cell_type": "code",
      "source": [
        "df['Handedness'].unique()"
      ],
      "metadata": {
        "colab": {
          "base_uri": "https://localhost:8080/"
        },
        "id": "3niS62_X-6Cy",
        "outputId": "d4cef803-25e2-4633-e3af-42c22fa04702"
      },
      "execution_count": 12,
      "outputs": [
        {
          "output_type": "execute_result",
          "data": {
            "text/plain": [
              "array(['left'], dtype=object)"
            ]
          },
          "metadata": {},
          "execution_count": 12
        }
      ]
    },
    {
      "cell_type": "code",
      "source": [
        "df['Finger'].unique()"
      ],
      "metadata": {
        "colab": {
          "base_uri": "https://localhost:8080/"
        },
        "id": "z6UJ9x0arTzG",
        "outputId": "fae0339c-5cc8-477a-9231-5c5ca0656e6c"
      },
      "execution_count": 11,
      "outputs": [
        {
          "output_type": "execute_result",
          "data": {
            "text/plain": [
              "array(['middle', 'ring', 'thumb', 'little', 'index'], dtype=object)"
            ]
          },
          "metadata": {},
          "execution_count": 11
        }
      ]
    },
    {
      "cell_type": "code",
      "source": [
        "df['Task'].unique()"
      ],
      "metadata": {
        "colab": {
          "base_uri": "https://localhost:8080/"
        },
        "id": "ZFLLG3GdrYNJ",
        "outputId": "ffd2c496-5efc-4234-944a-384944a08bf5"
      },
      "execution_count": 7,
      "outputs": [
        {
          "output_type": "execute_result",
          "data": {
            "text/plain": [
              "array(['TAP', 'DRAG', 'SCROLL'], dtype=object)"
            ]
          },
          "metadata": {},
          "execution_count": 7
        }
      ]
    },
    {
      "cell_type": "code",
      "source": [
        "df['Participant'].unique()"
      ],
      "metadata": {
        "colab": {
          "base_uri": "https://localhost:8080/"
        },
        "id": "Bqdkmrgarb8p",
        "outputId": "7a9a338b-4dbe-4985-8a3c-ad83bc5471b9"
      },
      "execution_count": 8,
      "outputs": [
        {
          "output_type": "execute_result",
          "data": {
            "text/plain": [
              "array([ 3, 12, 19,  9, 17,  6, 14,  8,  1, 11,  4, 16,  2, 10, 15, 13, 18,\n",
              "        7, 20,  5])"
            ]
          },
          "metadata": {},
          "execution_count": 8
        }
      ]
    },
    {
      "cell_type": "code",
      "source": [
        "len(df)"
      ],
      "metadata": {
        "colab": {
          "base_uri": "https://localhost:8080/"
        },
        "id": "_CLRa98V_aXD",
        "outputId": "51e5ab94-d390-4142-9546-d62c15273aa1"
      },
      "execution_count": 10,
      "outputs": [
        {
          "output_type": "execute_result",
          "data": {
            "text/plain": [
              "221867"
            ]
          },
          "metadata": {},
          "execution_count": 10
        }
      ]
    },
    {
      "cell_type": "markdown",
      "source": [
        "### Split the participant id train"
      ],
      "metadata": {
        "id": "flzYv_pzrm1J"
      }
    },
    {
      "cell_type": "code",
      "source": [
        "np.random.seed(11)\n",
        "participant_id = df['Participant'].unique()\n",
        "size = int(len(participant_id) * 0.8)\n",
        "participant_id_train = np.random.choice(participant_id, size = size, replace = False)\n",
        "participant_id_train"
      ],
      "metadata": {
        "colab": {
          "base_uri": "https://localhost:8080/"
        },
        "id": "Y_6gDC6Vrlor",
        "outputId": "5cf1d944-59fe-438f-d831-9f42b484028b"
      },
      "execution_count": 13,
      "outputs": [
        {
          "output_type": "execute_result",
          "data": {
            "text/plain": [
              "array([ 8, 16,  7,  6,  3, 20, 13, 17,  4, 11, 18, 12, 10, 14,  9, 19])"
            ]
          },
          "metadata": {},
          "execution_count": 13
        }
      ]
    },
    {
      "cell_type": "markdown",
      "source": [
        "### Encoder and add label column"
      ],
      "metadata": {
        "id": "x3K9AWRNvaxT"
      }
    },
    {
      "cell_type": "code",
      "source": [
        "Handedness = df['Handedness'].unique()\n",
        "Finger = df['Finger'].unique()\n",
        "Handedness, Finger"
      ],
      "metadata": {
        "colab": {
          "base_uri": "https://localhost:8080/"
        },
        "id": "IDh7JSLwrrkv",
        "outputId": "a5bbe554-c46b-407f-8d3b-78ba960f0d63"
      },
      "execution_count": 14,
      "outputs": [
        {
          "output_type": "execute_result",
          "data": {
            "text/plain": [
              "(array(['left'], dtype=object),\n",
              " array(['middle', 'ring', 'thumb', 'little', 'index'], dtype=object))"
            ]
          },
          "metadata": {},
          "execution_count": 14
        }
      ]
    },
    {
      "cell_type": "code",
      "source": [
        "num = 0\n",
        "dict_data = {}\n",
        "for i in range (0, len(Handedness)):\n",
        "  for j in range (0, len(Finger)):\n",
        "    dict_temp = {Handedness[i] + ' ' + Finger[j]: num}\n",
        "    dict_data.update(dict_temp)\n",
        "    num = num + 1\n",
        "\n",
        "dict_data"
      ],
      "metadata": {
        "colab": {
          "base_uri": "https://localhost:8080/"
        },
        "id": "p1wW6as2vfLL",
        "outputId": "2d5e27bd-9745-415e-9bb8-7ccf6ba0fcc4"
      },
      "execution_count": 15,
      "outputs": [
        {
          "output_type": "execute_result",
          "data": {
            "text/plain": [
              "{'left middle': 0,\n",
              " 'left ring': 1,\n",
              " 'left thumb': 2,\n",
              " 'left little': 3,\n",
              " 'left index': 4}"
            ]
          },
          "metadata": {},
          "execution_count": 15
        }
      ]
    },
    {
      "cell_type": "code",
      "source": [
        "def get_feature_column (handedness, finger):\n",
        "  c = handedness + ' ' + finger\n",
        "  return dict_data[c]\n",
        "\n",
        "df['label'] = [get_feature_column(df.Handedness.iloc[i], df.Finger.iloc[i]) for i in range (len(df))]\n",
        "\n",
        "df['label'].unique()"
      ],
      "metadata": {
        "colab": {
          "base_uri": "https://localhost:8080/"
        },
        "id": "1s43BI46v9us",
        "outputId": "61ea9821-497f-4b65-e04a-5411b6ace950"
      },
      "execution_count": 16,
      "outputs": [
        {
          "output_type": "execute_result",
          "data": {
            "text/plain": [
              "array([0, 1, 2, 3, 4])"
            ]
          },
          "metadata": {},
          "execution_count": 16
        }
      ]
    },
    {
      "cell_type": "code",
      "source": [
        "df.iloc[[15966]]"
      ],
      "metadata": {
        "colab": {
          "base_uri": "https://localhost:8080/",
          "height": 257
        },
        "id": "V2n2nGmdwnV2",
        "outputId": "345c4b05-5ea1-4bec-d1dc-1d14adad1c16"
      },
      "execution_count": 17,
      "outputs": [
        {
          "output_type": "execute_result",
          "data": {
            "text/plain": [
              "      Participant Handedness Finger Task  \\\n",
              "4321           16       left  thumb  TAP   \n",
              "\n",
              "                                                 Matrix      Timestamp  \\\n",
              "4321  [[180, 2, 0, 3, 1, 3, 4, 3, 0, 2, 1, 2, 2, 4, ...  1510309803449   \n",
              "\n",
              "            BlobCoords  BlobCount  \\\n",
              "4321  [(3, 8, 12, 17)]          1   \n",
              "\n",
              "                                                  Blobs  \\\n",
              "4321  [[[5, 2, 7, 4, 1], [4, 15, 36, 26, 13], [4, 41...   \n",
              "\n",
              "                                              BlobImage  \\\n",
              "4321  [[5, 2, 7, 4, 1, 0, 0, 0, 0, 0, 0, 0, 0, 0, 0]...   \n",
              "\n",
              "                                       BlobImgFlattened  label  \n",
              "4321  [5, 2, 7, 4, 1, 0, 0, 0, 0, 0, 0, 0, 0, 0, 0, ...      2  "
            ],
            "text/html": [
              "\n",
              "  <div id=\"df-0fd0f3d5-d52c-4e1d-8c4d-a1982b0e013c\" class=\"colab-df-container\">\n",
              "    <div>\n",
              "<style scoped>\n",
              "    .dataframe tbody tr th:only-of-type {\n",
              "        vertical-align: middle;\n",
              "    }\n",
              "\n",
              "    .dataframe tbody tr th {\n",
              "        vertical-align: top;\n",
              "    }\n",
              "\n",
              "    .dataframe thead th {\n",
              "        text-align: right;\n",
              "    }\n",
              "</style>\n",
              "<table border=\"1\" class=\"dataframe\">\n",
              "  <thead>\n",
              "    <tr style=\"text-align: right;\">\n",
              "      <th></th>\n",
              "      <th>Participant</th>\n",
              "      <th>Handedness</th>\n",
              "      <th>Finger</th>\n",
              "      <th>Task</th>\n",
              "      <th>Matrix</th>\n",
              "      <th>Timestamp</th>\n",
              "      <th>BlobCoords</th>\n",
              "      <th>BlobCount</th>\n",
              "      <th>Blobs</th>\n",
              "      <th>BlobImage</th>\n",
              "      <th>BlobImgFlattened</th>\n",
              "      <th>label</th>\n",
              "    </tr>\n",
              "  </thead>\n",
              "  <tbody>\n",
              "    <tr>\n",
              "      <th>4321</th>\n",
              "      <td>16</td>\n",
              "      <td>left</td>\n",
              "      <td>thumb</td>\n",
              "      <td>TAP</td>\n",
              "      <td>[[180, 2, 0, 3, 1, 3, 4, 3, 0, 2, 1, 2, 2, 4, ...</td>\n",
              "      <td>1510309803449</td>\n",
              "      <td>[(3, 8, 12, 17)]</td>\n",
              "      <td>1</td>\n",
              "      <td>[[[5, 2, 7, 4, 1], [4, 15, 36, 26, 13], [4, 41...</td>\n",
              "      <td>[[5, 2, 7, 4, 1, 0, 0, 0, 0, 0, 0, 0, 0, 0, 0]...</td>\n",
              "      <td>[5, 2, 7, 4, 1, 0, 0, 0, 0, 0, 0, 0, 0, 0, 0, ...</td>\n",
              "      <td>2</td>\n",
              "    </tr>\n",
              "  </tbody>\n",
              "</table>\n",
              "</div>\n",
              "    <div class=\"colab-df-buttons\">\n",
              "\n",
              "  <div class=\"colab-df-container\">\n",
              "    <button class=\"colab-df-convert\" onclick=\"convertToInteractive('df-0fd0f3d5-d52c-4e1d-8c4d-a1982b0e013c')\"\n",
              "            title=\"Convert this dataframe to an interactive table.\"\n",
              "            style=\"display:none;\">\n",
              "\n",
              "  <svg xmlns=\"http://www.w3.org/2000/svg\" height=\"24px\" viewBox=\"0 -960 960 960\">\n",
              "    <path d=\"M120-120v-720h720v720H120Zm60-500h600v-160H180v160Zm220 220h160v-160H400v160Zm0 220h160v-160H400v160ZM180-400h160v-160H180v160Zm440 0h160v-160H620v160ZM180-180h160v-160H180v160Zm440 0h160v-160H620v160Z\"/>\n",
              "  </svg>\n",
              "    </button>\n",
              "\n",
              "  <style>\n",
              "    .colab-df-container {\n",
              "      display:flex;\n",
              "      gap: 12px;\n",
              "    }\n",
              "\n",
              "    .colab-df-convert {\n",
              "      background-color: #E8F0FE;\n",
              "      border: none;\n",
              "      border-radius: 50%;\n",
              "      cursor: pointer;\n",
              "      display: none;\n",
              "      fill: #1967D2;\n",
              "      height: 32px;\n",
              "      padding: 0 0 0 0;\n",
              "      width: 32px;\n",
              "    }\n",
              "\n",
              "    .colab-df-convert:hover {\n",
              "      background-color: #E2EBFA;\n",
              "      box-shadow: 0px 1px 2px rgba(60, 64, 67, 0.3), 0px 1px 3px 1px rgba(60, 64, 67, 0.15);\n",
              "      fill: #174EA6;\n",
              "    }\n",
              "\n",
              "    .colab-df-buttons div {\n",
              "      margin-bottom: 4px;\n",
              "    }\n",
              "\n",
              "    [theme=dark] .colab-df-convert {\n",
              "      background-color: #3B4455;\n",
              "      fill: #D2E3FC;\n",
              "    }\n",
              "\n",
              "    [theme=dark] .colab-df-convert:hover {\n",
              "      background-color: #434B5C;\n",
              "      box-shadow: 0px 1px 3px 1px rgba(0, 0, 0, 0.15);\n",
              "      filter: drop-shadow(0px 1px 2px rgba(0, 0, 0, 0.3));\n",
              "      fill: #FFFFFF;\n",
              "    }\n",
              "  </style>\n",
              "\n",
              "    <script>\n",
              "      const buttonEl =\n",
              "        document.querySelector('#df-0fd0f3d5-d52c-4e1d-8c4d-a1982b0e013c button.colab-df-convert');\n",
              "      buttonEl.style.display =\n",
              "        google.colab.kernel.accessAllowed ? 'block' : 'none';\n",
              "\n",
              "      async function convertToInteractive(key) {\n",
              "        const element = document.querySelector('#df-0fd0f3d5-d52c-4e1d-8c4d-a1982b0e013c');\n",
              "        const dataTable =\n",
              "          await google.colab.kernel.invokeFunction('convertToInteractive',\n",
              "                                                    [key], {});\n",
              "        if (!dataTable) return;\n",
              "\n",
              "        const docLinkHtml = 'Like what you see? Visit the ' +\n",
              "          '<a target=\"_blank\" href=https://colab.research.google.com/notebooks/data_table.ipynb>data table notebook</a>'\n",
              "          + ' to learn more about interactive tables.';\n",
              "        element.innerHTML = '';\n",
              "        dataTable['output_type'] = 'display_data';\n",
              "        await google.colab.output.renderOutput(dataTable, element);\n",
              "        const docLink = document.createElement('div');\n",
              "        docLink.innerHTML = docLinkHtml;\n",
              "        element.appendChild(docLink);\n",
              "      }\n",
              "    </script>\n",
              "  </div>\n",
              "\n",
              "\n",
              "    </div>\n",
              "  </div>\n"
            ],
            "application/vnd.google.colaboratory.intrinsic+json": {
              "type": "dataframe",
              "summary": "{\n  \"name\": \"df\",\n  \"rows\": 1,\n  \"fields\": [\n    {\n      \"column\": \"Participant\",\n      \"properties\": {\n        \"dtype\": \"number\",\n        \"std\": null,\n        \"min\": 16,\n        \"max\": 16,\n        \"num_unique_values\": 1,\n        \"samples\": [\n          16\n        ],\n        \"semantic_type\": \"\",\n        \"description\": \"\"\n      }\n    },\n    {\n      \"column\": \"Handedness\",\n      \"properties\": {\n        \"dtype\": \"string\",\n        \"num_unique_values\": 1,\n        \"samples\": [\n          \"left\"\n        ],\n        \"semantic_type\": \"\",\n        \"description\": \"\"\n      }\n    },\n    {\n      \"column\": \"Finger\",\n      \"properties\": {\n        \"dtype\": \"string\",\n        \"num_unique_values\": 1,\n        \"samples\": [\n          \"thumb\"\n        ],\n        \"semantic_type\": \"\",\n        \"description\": \"\"\n      }\n    },\n    {\n      \"column\": \"Task\",\n      \"properties\": {\n        \"dtype\": \"string\",\n        \"num_unique_values\": 1,\n        \"samples\": [\n          \"TAP\"\n        ],\n        \"semantic_type\": \"\",\n        \"description\": \"\"\n      }\n    },\n    {\n      \"column\": \"Matrix\",\n      \"properties\": {\n        \"dtype\": \"object\",\n        \"semantic_type\": \"\",\n        \"description\": \"\"\n      }\n    },\n    {\n      \"column\": \"Timestamp\",\n      \"properties\": {\n        \"dtype\": \"number\",\n        \"std\": null,\n        \"min\": 1510309803449,\n        \"max\": 1510309803449,\n        \"num_unique_values\": 1,\n        \"samples\": [\n          1510309803449\n        ],\n        \"semantic_type\": \"\",\n        \"description\": \"\"\n      }\n    },\n    {\n      \"column\": \"BlobCoords\",\n      \"properties\": {\n        \"dtype\": \"object\",\n        \"semantic_type\": \"\",\n        \"description\": \"\"\n      }\n    },\n    {\n      \"column\": \"BlobCount\",\n      \"properties\": {\n        \"dtype\": \"number\",\n        \"std\": null,\n        \"min\": 1,\n        \"max\": 1,\n        \"num_unique_values\": 1,\n        \"samples\": [\n          1\n        ],\n        \"semantic_type\": \"\",\n        \"description\": \"\"\n      }\n    },\n    {\n      \"column\": \"Blobs\",\n      \"properties\": {\n        \"dtype\": \"object\",\n        \"semantic_type\": \"\",\n        \"description\": \"\"\n      }\n    },\n    {\n      \"column\": \"BlobImage\",\n      \"properties\": {\n        \"dtype\": \"object\",\n        \"semantic_type\": \"\",\n        \"description\": \"\"\n      }\n    },\n    {\n      \"column\": \"BlobImgFlattened\",\n      \"properties\": {\n        \"dtype\": \"object\",\n        \"semantic_type\": \"\",\n        \"description\": \"\"\n      }\n    },\n    {\n      \"column\": \"label\",\n      \"properties\": {\n        \"dtype\": \"number\",\n        \"std\": null,\n        \"min\": 2,\n        \"max\": 2,\n        \"num_unique_values\": 1,\n        \"samples\": [\n          2\n        ],\n        \"semantic_type\": \"\",\n        \"description\": \"\"\n      }\n    }\n  ]\n}"
            }
          },
          "metadata": {},
          "execution_count": 17
        }
      ]
    },
    {
      "cell_type": "markdown",
      "source": [
        "### Split data"
      ],
      "metadata": {
        "id": "niGEB5y_3FVE"
      }
    },
    {
      "cell_type": "code",
      "source": [
        "def get_data (ones_train, ones_test, ones_train_label, ones_test_label, dframe, i):\n",
        "  for i in range(len(dframe)):\n",
        "    temp = int(dframe.iloc[i].Participant)\n",
        "    if (temp == participant_id_train).any():\n",
        "      arr_train = np.array(dframe.iloc[[i]].Blobs)\n",
        "      arr_train = arr_train[0][0].astype(np.uint8)\n",
        "      arr_train = cv2.resize(arr_train, (32, 32), interpolation = cv2.INTER_NEAREST)\n",
        "      y_temp1 = df.label.iloc[i]\n",
        "      if( type(ones_train) is str):\n",
        "        ones_train = [arr_train]\n",
        "        ones_train_label = [y_temp1]\n",
        "      else:\n",
        "        ones_train.extend([arr_train])\n",
        "        ones_train_label.append(y_temp1)\n",
        "    else:\n",
        "      arr_test = np.array(dframe.iloc[[i]].Blobs)\n",
        "      arr_test = arr_test[0][0].astype(np.uint8)\n",
        "      arr_test = cv2.resize(arr_test, (32, 32), interpolation=cv2.INTER_NEAREST)\n",
        "      y_temp2 = df.label.iloc[i]\n",
        "      if(type(ones_test) is str):\n",
        "        ones_test = [arr_test]\n",
        "        ones_test_label = [y_temp2]\n",
        "      else:\n",
        "        ones_test.extend([arr_test])\n",
        "        ones_test_label.append(y_temp2)\n",
        "  return ones_train, ones_test, ones_train_label, ones_test_label\n"
      ],
      "metadata": {
        "id": "6cvvvqNCwToT"
      },
      "execution_count": 18,
      "outputs": []
    },
    {
      "cell_type": "code",
      "source": [
        "X_train = \"\"\n",
        "X_test = \"\"\n",
        "Y_train = \"\"\n",
        "Y_test = \"\"\n",
        "i = 0\n",
        "X_train, X_test, Y_train, Y_test = get_data(X_train, X_test, Y_train, Y_test, df, i)"
      ],
      "metadata": {
        "id": "gXHDWag90Mwj"
      },
      "execution_count": 19,
      "outputs": []
    },
    {
      "cell_type": "code",
      "source": [
        "X_train[0]"
      ],
      "metadata": {
        "colab": {
          "base_uri": "https://localhost:8080/",
          "height": 73
        },
        "id": "jTsXvNkY12rB",
        "outputId": "bfa16302-74db-4f4a-ecaa-eae829c72bcf"
      },
      "execution_count": 20,
      "outputs": [
        {
          "output_type": "execute_result",
          "data": {
            "text/plain": [
              "array([[ 1,  1,  1, ...,  0,  0,  0],\n",
              "       [ 1,  1,  1, ...,  0,  0,  0],\n",
              "       [ 1,  1,  1, ...,  0,  0,  0],\n",
              "       ...,\n",
              "       [16, 16, 16, ..., 24, 24, 24],\n",
              "       [16, 16, 16, ..., 24, 24, 24],\n",
              "       [16, 16, 16, ..., 24, 24, 24]], dtype=uint8)"
            ],
            "text/html": [
              "<style>\n",
              "      .ndarray_repr .ndarray_raw_data {\n",
              "        display: none;\n",
              "      }\n",
              "      .ndarray_repr.show_array .ndarray_raw_data {\n",
              "        display: block;\n",
              "      }\n",
              "      .ndarray_repr.show_array .ndarray_image_preview {\n",
              "        display: none;\n",
              "      }\n",
              "      </style>\n",
              "      <div id=\"id-09f7097f-3a43-4b34-ae14-f38252d6338d\" class=\"ndarray_repr\"><pre>ndarray (32, 32) <button style=\"padding: 0 2px;\">show data</button></pre><img src=\"data:image/png;base64,iVBORw0KGgoAAAANSUhEUgAAACAAAAAgCAAAAABWESUoAAAASElEQVR4nGNkZIAAZgZU8AdKMzEQAMNDAQvM/5JQmhNKP6SfGwaDAkYhKGMqlNaC0hH0c8NgUMDyD8p4A6VPQ+n39HPDYFAAAJBYBxYXf4D6AAAAAElFTkSuQmCC\" class=\"ndarray_image_preview\" /><pre class=\"ndarray_raw_data\">array([[ 1,  1,  1, ...,  0,  0,  0],\n",
              "       [ 1,  1,  1, ...,  0,  0,  0],\n",
              "       [ 1,  1,  1, ...,  0,  0,  0],\n",
              "       ...,\n",
              "       [16, 16, 16, ..., 24, 24, 24],\n",
              "       [16, 16, 16, ..., 24, 24, 24],\n",
              "       [16, 16, 16, ..., 24, 24, 24]], dtype=uint8)</pre></div><script>\n",
              "      (() => {\n",
              "      const titles = ['show data', 'hide data'];\n",
              "      let index = 0\n",
              "      document.querySelector('#id-09f7097f-3a43-4b34-ae14-f38252d6338d button').onclick = (e) => {\n",
              "        document.querySelector('#id-09f7097f-3a43-4b34-ae14-f38252d6338d').classList.toggle('show_array');\n",
              "        index = (++index) % 2;\n",
              "        document.querySelector('#id-09f7097f-3a43-4b34-ae14-f38252d6338d button').textContent = titles[index];\n",
              "        e.preventDefault();\n",
              "        e.stopPropagation();\n",
              "      }\n",
              "      })();\n",
              "    </script>"
            ]
          },
          "metadata": {},
          "execution_count": 20
        }
      ]
    },
    {
      "cell_type": "code",
      "source": [
        "X_train = np.array(X_train)\n",
        "X_test = np.array(X_test)\n",
        "\n",
        "# Normalize the data\n",
        "X_train = X_train.astype('float32')\n",
        "X_test = X_test.astype('float32')\n",
        "X_train = X_train/255\n",
        "X_test = X_test/255"
      ],
      "metadata": {
        "id": "R0n6zcGr15SL"
      },
      "execution_count": 21,
      "outputs": []
    },
    {
      "cell_type": "code",
      "source": [
        "Y_train = np.array(Y_train)\n",
        "Y_test = np.array(Y_test)\n",
        "\n",
        "Y_train = Y_train.reshape(-1,1)\n",
        "Y_test  = Y_test.reshape(-1,1)"
      ],
      "metadata": {
        "id": "pMLdT-HK17z2"
      },
      "execution_count": 22,
      "outputs": []
    },
    {
      "cell_type": "code",
      "source": [
        "X_train[0]"
      ],
      "metadata": {
        "colab": {
          "base_uri": "https://localhost:8080/"
        },
        "id": "MUB0yNY12cnu",
        "outputId": "36826a68-137c-482e-c5ee-f57e99e3a4ee"
      },
      "execution_count": 23,
      "outputs": [
        {
          "output_type": "execute_result",
          "data": {
            "text/plain": [
              "array([[0.00392157, 0.00392157, 0.00392157, ..., 0.        , 0.        ,\n",
              "        0.        ],\n",
              "       [0.00392157, 0.00392157, 0.00392157, ..., 0.        , 0.        ,\n",
              "        0.        ],\n",
              "       [0.00392157, 0.00392157, 0.00392157, ..., 0.        , 0.        ,\n",
              "        0.        ],\n",
              "       ...,\n",
              "       [0.0627451 , 0.0627451 , 0.0627451 , ..., 0.09411765, 0.09411765,\n",
              "        0.09411765],\n",
              "       [0.0627451 , 0.0627451 , 0.0627451 , ..., 0.09411765, 0.09411765,\n",
              "        0.09411765],\n",
              "       [0.0627451 , 0.0627451 , 0.0627451 , ..., 0.09411765, 0.09411765,\n",
              "        0.09411765]], dtype=float32)"
            ]
          },
          "metadata": {},
          "execution_count": 23
        }
      ]
    },
    {
      "cell_type": "code",
      "source": [
        "np.random.seed(11)\n",
        "from sklearn.model_selection import train_test_split\n",
        "X_train, X_val, Y_train, Y_val = train_test_split(X_train, Y_train, test_size = 0.2,shuffle = True)\n",
        "\n",
        "X_train.shape, X_val.shape, X_test.shape"
      ],
      "metadata": {
        "colab": {
          "base_uri": "https://localhost:8080/"
        },
        "id": "almYFzHJ2m2K",
        "outputId": "78dc2555-0cc8-4667-dc5c-41a7a03df083"
      },
      "execution_count": 24,
      "outputs": [
        {
          "output_type": "execute_result",
          "data": {
            "text/plain": [
              "((143120, 32, 32), (35780, 32, 32), (42967, 32, 32))"
            ]
          },
          "metadata": {},
          "execution_count": 24
        }
      ]
    },
    {
      "cell_type": "markdown",
      "source": [
        "### One hot enconding"
      ],
      "metadata": {
        "id": "OzGlITaA3NWg"
      }
    },
    {
      "cell_type": "code",
      "source": [
        "from sklearn.preprocessing import OneHotEncoder\n",
        "encoder = OneHotEncoder()\n",
        "encoder.fit(Y_train)\n",
        "Y_train = encoder.transform(Y_train).toarray()\n",
        "Y_test = encoder.transform(Y_test).toarray()\n",
        "Y_val =  encoder.transform(Y_val).toarray()"
      ],
      "metadata": {
        "id": "OXbPsPZ-2_UU"
      },
      "execution_count": 25,
      "outputs": []
    },
    {
      "cell_type": "code",
      "source": [
        "Y_train[0]"
      ],
      "metadata": {
        "colab": {
          "base_uri": "https://localhost:8080/"
        },
        "id": "19AmU66X3UjG",
        "outputId": "6cfb6e5d-239c-4e2a-d700-1dfeacb46422"
      },
      "execution_count": 26,
      "outputs": [
        {
          "output_type": "execute_result",
          "data": {
            "text/plain": [
              "array([1., 0., 0., 0., 0.])"
            ]
          },
          "metadata": {},
          "execution_count": 26
        }
      ]
    },
    {
      "cell_type": "markdown",
      "source": [
        "### Save matrix\n"
      ],
      "metadata": {
        "id": "ZYsSpBCC3zS4"
      }
    },
    {
      "cell_type": "code",
      "source": [
        "label = list ((dict_data.keys()))\n",
        "label"
      ],
      "metadata": {
        "colab": {
          "base_uri": "https://localhost:8080/"
        },
        "id": "O5xTf4FE3vcs",
        "outputId": "77b028e2-f18f-4f95-a052-47ab622c49fe"
      },
      "execution_count": 27,
      "outputs": [
        {
          "output_type": "execute_result",
          "data": {
            "text/plain": [
              "['left middle', 'left ring', 'left thumb', 'left little', 'left index']"
            ]
          },
          "metadata": {},
          "execution_count": 27
        }
      ]
    },
    {
      "cell_type": "code",
      "source": [
        "label_me = np.array(label)\n",
        "label_me"
      ],
      "metadata": {
        "colab": {
          "base_uri": "https://localhost:8080/"
        },
        "id": "dZHY0LOb4JuF",
        "outputId": "10c12194-8982-4a44-ddee-a30a85c54ba8"
      },
      "execution_count": 28,
      "outputs": [
        {
          "output_type": "execute_result",
          "data": {
            "text/plain": [
              "array(['left middle', 'left ring', 'left thumb', 'left little',\n",
              "       'left index'], dtype='<U11')"
            ]
          },
          "metadata": {},
          "execution_count": 28
        }
      ]
    },
    {
      "cell_type": "code",
      "source": [
        "#save data train and test\n",
        "np.save('/content/drive/MyDrive/data_for_5_left/X_train.npy', X_train)\n",
        "np.save('/content/drive/MyDrive/data_for_5_left/X_val.npy', X_val)\n",
        "np.save('/content/drive/MyDrive/data_for_5_left/X_test.npy', X_test)\n",
        "np.save('/content/drive/MyDrive/data_for_5_left/Y_train.npy', Y_train)\n",
        "np.save('/content/drive/MyDrive/data_for_5_left/Y_val.npy', Y_val)\n",
        "np.save('/content/drive/MyDrive/data_for_5_left/Y_test.npy', Y_test)\n",
        "np.save('/content/drive/MyDrive/data_for_5_left/label.npy', label_me)"
      ],
      "metadata": {
        "id": "eu9bJ97r4Oqj"
      },
      "execution_count": 30,
      "outputs": []
    }
  ]
}